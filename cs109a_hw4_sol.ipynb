{
 "cells": [
  {
   "cell_type": "markdown",
   "metadata": {},
   "source": [
    "# CS 109A/STAT 121A/AC 209A/CSCI E-109A: Homework 4\n",
    "# Regularization, High Dimensionality, PCA\n",
    "\n",
    "\n",
    "**Harvard University**<br/>\n",
    "**Fall 2017**<br/>\n",
    "**Instructors**: Pavlos Protopapas, Kevin Rader, Rahul Dave, Margo Levine\n",
    "\n",
    "---\n",
    "\n",
    "### INSTRUCTIONS\n",
    "\n",
    "- To submit your assignment follow the instructions given in canvas.\n",
    "- Restart the kernel and run the whole notebook again before you submit. \n",
    "- Do not include your name(s) in the notebook even if you are submitting as a group. \n",
    "- If you submit individually and you have worked with someone, please include the name of your [one] partner below. \n",
    "\n",
    "---"
   ]
  },
  {
   "cell_type": "markdown",
   "metadata": {},
   "source": [
    "Your partner's name (if you submit separately):\n",
    "\n",
    "Enrollment Status (109A, 121A, 209A, or E109A):"
   ]
  },
  {
   "cell_type": "markdown",
   "metadata": {},
   "source": [
    "Import libraries:"
   ]
  },
  {
   "cell_type": "code",
   "execution_count": 2170,
   "metadata": {
    "collapsed": true
   },
   "outputs": [],
   "source": [
    "import numpy as np\n",
    "import pandas as pd\n",
    "import matplotlib\n",
    "import seaborn as sns\n",
    "from scipy.stats import t\n",
    "import matplotlib.pyplot as plt\n",
    "from sklearn.metrics import r2_score\n",
    "from sklearn.preprocessing import MinMaxScaler\n",
    "import statsmodels.api as sm\n",
    "from statsmodels.api import OLS\n",
    "from sklearn.preprocessing import PolynomialFeatures\n",
    "from sklearn.linear_model import Ridge\n",
    "from sklearn.linear_model import Lasso\n",
    "from sklearn.linear_model import RidgeCV\n",
    "from sklearn.linear_model import LassoCV\n",
    "from statsmodels.tools import add_constant\n",
    "from sklearn.linear_model import LinearRegression\n",
    "from sklearn.metrics import r2_score\n",
    "from sklearn.model_selection import train_test_split\n",
    "from scipy.optimize import minimize\n",
    "from sklearn.neighbors import KNeighborsRegressor\n",
    "from sklearn.decomposition import PCA\n",
    "\n",
    "%matplotlib inline"
   ]
  },
  {
   "cell_type": "markdown",
   "metadata": {},
   "source": [
    "# Continuing Bike Sharing Usage Data\n",
    "\n",
    "In this homework, we will focus on multiple linear regression, regularization, dealing with high dimensionality, and PCA. We will continue to build regression models for the Capital Bikeshare program in Washington D.C.  See Homework 3 for more information about the data.\n",
    "\n",
    "*Note: please make sure you use all the processed data from HW 3 Part (a)...you make want to save the data set on your computer and reread the csv/json file here.\n"
   ]
  },
  {
   "cell_type": "code",
   "execution_count": 1257,
   "metadata": {
    "collapsed": true
   },
   "outputs": [],
   "source": [
    "#load Bikeshare_train\n",
    "dftrain=pd.read_csv(\"d:/Users/Home/Desktop/Open-U/Data Science/a-2017-master/HW/hw_3/Bikeshare_train.csv\")\n",
    "df_test=pd.read_csv(\"d:/Users/Home/Desktop/Open-U/Data Science/a-2017-master/HW/hw_3/Bikeshare_test.csv\")\n",
    "dftrain=dftrain.rename(columns={\"Unnamed: 0\":\"name\"})\n",
    "dftrain = dftrain.drop('name', 1)\n",
    "df_test=df_test.rename(columns={\"Unnamed: 0\":\"name\"})\n",
    "df_test = df_test.drop('name', 1)\n",
    "dftrain_oneH=dftrain\n",
    "dftest_oneH=df_test\n"
   ]
  },
  {
   "cell_type": "code",
   "execution_count": 1258,
   "metadata": {
    "collapsed": true
   },
   "outputs": [],
   "source": [
    "cols = dftrain.columns.tolist()"
   ]
  },
  {
   "cell_type": "code",
   "execution_count": 1259,
   "metadata": {
    "collapsed": true
   },
   "outputs": [],
   "source": [
    "cols_1=['temp','atemp','humidity','windspeed']"
   ]
  },
  {
   "cell_type": "code",
   "execution_count": 1260,
   "metadata": {
    "collapsed": true
   },
   "outputs": [],
   "source": [
    "# nozmalization of the continuous predictors\n",
    "\n",
    "def nozmalization(df,col_to_cod):\n",
    "     for i in range(0, len(col_to_cod)):\n",
    "        temp_mean=np.mean(df[col_to_cod[i]])\n",
    "        temp_SD=np.std(df[col_to_cod[i]])\n",
    "        df[col_to_cod[i]+'_new']=df[col_to_cod[i]].apply(lambda x:(x-temp_mean)/temp_SD) \n",
    "     return df"
   ]
  },
  {
   "cell_type": "code",
   "execution_count": 1261,
   "metadata": {
    "collapsed": true
   },
   "outputs": [],
   "source": [
    "dftrain_oneH=nozmalization(dftrain_oneH,cols_1)\n",
    "#dftrain_oneH.head()\n"
   ]
  },
  {
   "cell_type": "code",
   "execution_count": 1262,
   "metadata": {
    "collapsed": true
   },
   "outputs": [],
   "source": [
    "#  one-hot encoding of categorical vars\n",
    "#season\n",
    "def one_hot(df,col_to_cod):\n",
    "    for i in range(0, len(col_to_cod)):\n",
    "        dummies_s= pd.get_dummies(df[col_to_cod[i]]).rename(columns=lambda x:col_to_cod[i]+ '_' + str(x))\n",
    "        df= pd.concat([df, dummies_s], axis=1)\n",
    "    return df  "
   ]
  },
  {
   "cell_type": "code",
   "execution_count": 1263,
   "metadata": {
    "collapsed": true
   },
   "outputs": [],
   "source": [
    "cols_2=['season','holiday','workingday','weather','month','day_of_week']"
   ]
  },
  {
   "cell_type": "code",
   "execution_count": 1264,
   "metadata": {
    "collapsed": true
   },
   "outputs": [],
   "source": [
    "dftrain_oneH=one_hot(dftrain_oneH,cols_2)\n",
    "#dftrain_oneH.head()"
   ]
  },
  {
   "cell_type": "code",
   "execution_count": 1265,
   "metadata": {
    "collapsed": true
   },
   "outputs": [],
   "source": [
    "#test re-scale\n",
    "dftest_oneH=nozmalization(dftest_oneH,cols_1)\n",
    "dftest_oneH=one_hot(dftest_oneH,cols_2)\n",
    "#dftest_oneH.head()\n",
    "\n"
   ]
  },
  {
   "cell_type": "code",
   "execution_count": 1266,
   "metadata": {
    "collapsed": true
   },
   "outputs": [],
   "source": [
    "#cols_f = dftrain_oneH.columns.tolist()\n",
    "cols_f=[             # 'season_1.0',       \n",
    "                       'season_2.0', 'season_3.0', 'season_4.0', \n",
    "                     # 'month_1.0',\n",
    "                       'month_2.0', 'month_3.0', 'month_4.0', 'month_5.0', 'month_6.0', 'month_7.0',\n",
    "                       'month_8.0', 'month_9.0', 'month_10.0', 'month_11.0', 'month_12.0',           \n",
    "                     # 'holiday_0.0',\n",
    "                       'holiday_1.0',     \n",
    "                     # 'day_of_week_0.0',\n",
    "                       'day_of_week_1.0', 'day_of_week_2.0', 'day_of_week_3.0','day_of_week_4.0',\n",
    "                       'day_of_week_5.0', 'day_of_week_6.0',\n",
    "                     # 'workingday_0.0',\n",
    "                       'workingday_1.0', \n",
    "                       'weather_1.0', 'weather_2.0', 'weather_3.0',\n",
    "                       'temp_new','atemp_new',  'humidity_new', 'windspeed_new',     \n",
    "                       'count' \n",
    "        ] \n"
   ]
  },
  {
   "cell_type": "code",
   "execution_count": 1267,
   "metadata": {
    "collapsed": true
   },
   "outputs": [],
   "source": [
    "#finilize orgganization\n",
    "def finilize(df,col_f):\n",
    "    df_f=df[col_f]\n",
    "    return df_f"
   ]
  },
  {
   "cell_type": "code",
   "execution_count": 1268,
   "metadata": {
    "collapsed": true
   },
   "outputs": [],
   "source": [
    "df_train_f=finilize(dftrain_oneH,cols_f)\n",
    "df_test_f=finilize(dftest_oneH,cols_f)\n"
   ]
  },
  {
   "cell_type": "code",
   "execution_count": 1269,
   "metadata": {
    "collapsed": true
   },
   "outputs": [],
   "source": [
    "def get_simp_reg(X_t, y_t):\n",
    "    regression_m = LinearRegression(fit_intercept=True)\n",
    "    regression_m.fit(X_t, y_t)\n",
    "    X_t_c = add_constant(X_t)\n",
    "    model = sm.OLS(y_t, X_t_c).fit()\n",
    "    return model, regression_m"
   ]
  },
  {
   "cell_type": "code",
   "execution_count": 1270,
   "metadata": {
    "collapsed": true
   },
   "outputs": [],
   "source": [
    "X_train=df_train_f[cols_f[:28]].values\n",
    "Y_train=df_train_f['count'].values\n",
    "\n",
    "X_test=df_test_f[cols_f[:28]].values\n",
    "Y_test=df_test_f['count'].values\n"
   ]
  },
  {
   "cell_type": "code",
   "execution_count": 1271,
   "metadata": {},
   "outputs": [
    {
     "name": "stdout",
     "output_type": "stream",
     "text": [
      "R^2 of the Simle mult.reg.on the TRAIN set  0.562170009284\n"
     ]
    }
   ],
   "source": [
    "#the simple regression parameters with all the predictors\n",
    "train_mod,reg_simple=get_simp_reg(X_train, Y_train)\n",
    "#train_mod.summary()\n",
    "print('R^2 of the Simle mult.reg.on the TRAIN set ',train_mod.rsquared)"
   ]
  },
  {
   "cell_type": "code",
   "execution_count": 1272,
   "metadata": {},
   "outputs": [
    {
     "name": "stdout",
     "output_type": "stream",
     "text": [
      "R^2 of the Simle mult.reg.on the TEST set  0.256065659935\n"
     ]
    }
   ],
   "source": [
    "r_2_test=r2_score(Y_test, reg_simple.predict(X_test))\n",
    "print('R^2 of the Simle mult.reg.on the TEST set ',r_2_test)"
   ]
  },
  {
   "cell_type": "code",
   "execution_count": 1273,
   "metadata": {
    "collapsed": true
   },
   "outputs": [],
   "source": [
    "#  train_validation_test split\n",
    "X_train_t, X_val, y_train_t, y_val = train_test_split(X_train, Y_train, test_size=0.33, random_state=42)\n",
    "var=df_train_f['temp_new'].values\n"
   ]
  },
  {
   "cell_type": "code",
   "execution_count": 1274,
   "metadata": {
    "collapsed": true
   },
   "outputs": [],
   "source": [
    "#  Gidge regression WITHOUT cros vallidation\n",
    "lam = [ 1e-5,  1e-4,  1e-3, 1e-2, 1e-1,1, 1.0, 10.0, 1e2, 1e3, 1e4, 1e5 ]\n",
    "train_R_sq = []\n",
    "test_R_sq = []\n",
    "\n",
    "def ridge_reg(X_train, Y_train,X_test, Y_test,lam):\n",
    "    train_R_sq = []\n",
    "    test_R_sq = []  \n",
    "    for l in lam:  \n",
    "        ridge_regression = Ridge(alpha=l, fit_intercept=True)\n",
    "        ridge_regression.fit(X_train, Y_train)    \n",
    "        ypredict_ridge = ridge_regression.predict(X_train)     \n",
    "        train_R_sq.append(ridge_regression.score(X_train, Y_train))\n",
    "        test_R_sq.append(ridge_regression.score(X_test, Y_test))        \n",
    "    return   train_R_sq,  test_R_sq,ridge_regression"
   ]
  },
  {
   "cell_type": "code",
   "execution_count": 1275,
   "metadata": {
    "scrolled": true
   },
   "outputs": [
    {
     "name": "stdout",
     "output_type": "stream",
     "text": [
      "0.562170009283\n"
     ]
    }
   ],
   "source": [
    "train_R_sq,test_R_sq,ridge_regression=ridge_reg(X_train, Y_train,X_test, Y_test,lam)\n",
    "print(train_R_sq[np.argmax(train_R_sq)])\n",
    "#lam[(np.argmax(train_R_sq))]"
   ]
  },
  {
   "cell_type": "code",
   "execution_count": 1276,
   "metadata": {},
   "outputs": [
    {
     "name": "stderr",
     "output_type": "stream",
     "text": [
      "d:\\Users\\Home\\Anaconda3\\lib\\site-packages\\scipy\\linalg\\basic.py:223: RuntimeWarning: scipy.linalg.solve\n",
      "Ill-conditioned matrix detected. Result is not guaranteed to be accurate.\n",
      "Reciprocal condition number: 1.526037884771578e-17\n",
      "  ' condition number: {}'.format(rcond), RuntimeWarning)\n"
     ]
    }
   ],
   "source": [
    "#Ridge reg with lambda=0, simple regression model\n",
    "#results as expected\n",
    "lm=[0]\n",
    "train_R_sq_0,test_R_sq_0,ridge_regression_0=ridge_reg(X_train, Y_train,X_test, Y_test,lm)"
   ]
  },
  {
   "cell_type": "code",
   "execution_count": 1277,
   "metadata": {},
   "outputs": [
    {
     "name": "stdout",
     "output_type": "stream",
     "text": [
      "[0.56217000928377492] [0.25606565993513319]\n"
     ]
    }
   ],
   "source": [
    "print(train_R_sq_0,test_R_sq_0)\n"
   ]
  },
  {
   "cell_type": "code",
   "execution_count": 1278,
   "metadata": {},
   "outputs": [
    {
     "data": {
      "image/png": "[encoded data removed]",
      "text/plain": [
       "<matplotlib.figure.Figure at 0xd5aa828>"
      ]
     },
     "metadata": {},
     "output_type": "display_data"
    }
   ],
   "source": [
    "fig, ax = plt.subplots(1, 1, figsize=(6, 6))\n",
    "\n",
    "ax.plot(lam, train_R_sq, color='blue', label='train')\n",
    "ax.plot(lam, test_R_sq, color='red', label='test')\n",
    "ax.set_xscale('log')\n",
    "ax.set_title('Regularization Parameter vs Test R^2')\n",
    "ax.set_xlabel('Value of lambda')\n",
    "ax.set_ylabel('R^2')\n",
    "ax.legend(loc='best')\n",
    "\n",
    "plt.show()"
   ]
  },
  {
   "cell_type": "code",
   "execution_count": 1279,
   "metadata": {
    "collapsed": true
   },
   "outputs": [],
   "source": [
    "#The highest R^2 is obtained for lambda=0.\n"
   ]
  },
  {
   "cell_type": "markdown",
   "metadata": {},
   "source": [
    "## Part (f): Regularization/Penalization Methods\n",
    "\n",
    "As an alternative to selecting a subset of predictors and fitting a regression model on the subset, one can fit a linear regression model on all predictors, but shrink or regularize the coefficient estimates to make sure that the model does not \"overfit\" the training set. \n",
    "\n",
    "Use the following regularization techniques to fit linear models to the training set:\n",
    "- Ridge regression\n",
    "- Lasso regression\n",
    "    \n",
    "You may choose the shrikage parameter $\\lambda$ from the set $\\{10^{-5}, 10^{-4},...,10^{4},10^{5}\\}$ using cross-validation. In each case, \n",
    "\n",
    "- How do the estimated coefficients compare to or differ from the coefficients estimated by a plain linear regression (without shrikage penalty) in Part (b) fropm HW 3? Is there a difference between coefficients estimated by the two shrinkage methods? If so, give an explantion for the difference.\n",
    "- List the predictors that are assigned a coefficient value close to 0 (say < 1e-10) by the two methods. How closely do these predictors match the redundant predictors (if any) identified in Part (c) from HW 3?\n",
    "- Is there a difference in the way Ridge and Lasso regression assign coefficients to the predictors `temp` and `atemp`? If so, explain the reason for the difference.\n",
    "\n",
    "We next analyze the performance of the two shrinkage methods for different training sample sizes:\n",
    "- Generate random samples of sizes 100, 150, ..., 400 from the training set. You may use the following code to draw a random sample of a specified size from the training set:"
   ]
  },
  {
   "cell_type": "code",
   "execution_count": 1280,
   "metadata": {},
   "outputs": [
    {
     "name": "stderr",
     "output_type": "stream",
     "text": [
      "d:\\Users\\Home\\Anaconda3\\lib\\site-packages\\scipy\\linalg\\basic.py:223: RuntimeWarning: scipy.linalg.solve\n",
      "Ill-conditioned matrix detected. Result is not guaranteed to be accurate.\n",
      "Reciprocal condition number: 3.1770137639546625e-19\n",
      "  ' condition number: {}'.format(rcond), RuntimeWarning)\n",
      "d:\\Users\\Home\\Anaconda3\\lib\\site-packages\\scipy\\linalg\\basic.py:223: RuntimeWarning: scipy.linalg.solve\n",
      "Ill-conditioned matrix detected. Result is not guaranteed to be accurate.\n",
      "Reciprocal condition number: 2.0738634488324955e-17\n",
      "  ' condition number: {}'.format(rcond), RuntimeWarning)\n",
      "d:\\Users\\Home\\Anaconda3\\lib\\site-packages\\scipy\\linalg\\basic.py:223: RuntimeWarning: scipy.linalg.solve\n",
      "Ill-conditioned matrix detected. Result is not guaranteed to be accurate.\n",
      "Reciprocal condition number: 2.3651628927876584e-18\n",
      "  ' condition number: {}'.format(rcond), RuntimeWarning)\n",
      "d:\\Users\\Home\\Anaconda3\\lib\\site-packages\\scipy\\linalg\\basic.py:223: RuntimeWarning: scipy.linalg.solve\n",
      "Ill-conditioned matrix detected. Result is not guaranteed to be accurate.\n",
      "Reciprocal condition number: 3.02643723341024e-17\n",
      "  ' condition number: {}'.format(rcond), RuntimeWarning)\n",
      "d:\\Users\\Home\\Anaconda3\\lib\\site-packages\\scipy\\linalg\\basic.py:223: RuntimeWarning: scipy.linalg.solve\n",
      "Ill-conditioned matrix detected. Result is not guaranteed to be accurate.\n",
      "Reciprocal condition number: 2.461772789978159e-17\n",
      "  ' condition number: {}'.format(rcond), RuntimeWarning)\n",
      "d:\\Users\\Home\\Anaconda3\\lib\\site-packages\\scipy\\linalg\\basic.py:223: RuntimeWarning: scipy.linalg.solve\n",
      "Ill-conditioned matrix detected. Result is not guaranteed to be accurate.\n",
      "Reciprocal condition number: 1.734336581083983e-17\n",
      "  ' condition number: {}'.format(rcond), RuntimeWarning)\n",
      "d:\\Users\\Home\\Anaconda3\\lib\\site-packages\\scipy\\linalg\\basic.py:223: RuntimeWarning: scipy.linalg.solve\n",
      "Ill-conditioned matrix detected. Result is not guaranteed to be accurate.\n",
      "Reciprocal condition number: 1.1618896066540559e-18\n",
      "  ' condition number: {}'.format(rcond), RuntimeWarning)\n",
      "d:\\Users\\Home\\Anaconda3\\lib\\site-packages\\scipy\\linalg\\basic.py:223: RuntimeWarning: scipy.linalg.solve\n",
      "Ill-conditioned matrix detected. Result is not guaranteed to be accurate.\n",
      "Reciprocal condition number: 1.5218670540534592e-17\n",
      "  ' condition number: {}'.format(rcond), RuntimeWarning)\n",
      "d:\\Users\\Home\\Anaconda3\\lib\\site-packages\\scipy\\linalg\\basic.py:223: RuntimeWarning: scipy.linalg.solve\n",
      "Ill-conditioned matrix detected. Result is not guaranteed to be accurate.\n",
      "Reciprocal condition number: 4.260852058036161e-17\n",
      "  ' condition number: {}'.format(rcond), RuntimeWarning)\n",
      "d:\\Users\\Home\\Anaconda3\\lib\\site-packages\\scipy\\linalg\\basic.py:223: RuntimeWarning: scipy.linalg.solve\n",
      "Ill-conditioned matrix detected. Result is not guaranteed to be accurate.\n",
      "Reciprocal condition number: 5.867057287515289e-18\n",
      "  ' condition number: {}'.format(rcond), RuntimeWarning)\n",
      "d:\\Users\\Home\\Anaconda3\\lib\\site-packages\\scipy\\linalg\\basic.py:223: RuntimeWarning: scipy.linalg.solve\n",
      "Ill-conditioned matrix detected. Result is not guaranteed to be accurate.\n",
      "Reciprocal condition number: 1.526037884771578e-17\n",
      "  ' condition number: {}'.format(rcond), RuntimeWarning)\n",
      "d:\\Users\\Home\\Anaconda3\\lib\\site-packages\\sklearn\\linear_model\\coordinate_descent.py:491: ConvergenceWarning: Objective did not converge. You might want to increase the number of iterations. Fitting data with very small alpha may cause precision problems.\n",
      "  ConvergenceWarning)\n"
     ]
    },
    {
     "name": "stdout",
     "output_type": "stream",
     "text": [
      "Ridge Results for lam=0, Simple regression\n",
      "The largest R^2 for the training set: 0.562170009284\n",
      "The largest R^2 for the test set: 0.256065659935\n",
      "Ridge Results for best l\n",
      "Best ridge lambda 10.0\n",
      "The largest R^2 for the training set: 0.548209629013\n",
      "The largest R^2 for the test set: 0.265210706402\n",
      "Ridge Results for best l\n",
      "Best lasso lambda 10.0\n",
      "The largest R^2 for the training set: 0.551814651475\n",
      "The largest R^2 for the test set: 0.274431741646\n"
     ]
    }
   ],
   "source": [
    "# Cross validation RidgeCV\n",
    "\n",
    "lam_0 =[0]\n",
    "lam_1 = [ 1e-5, 1e-4, 1e-3, 1e-2,1e-1,1, 1.0, 10.0, 1e2, 1e3, 1e4, 1e5]\n",
    "#def ridg_reg_lamV(lm):\n",
    "train_R_sq_ridg = []\n",
    "test_R_sq_ridg = []\n",
    "train_R_sq_lasso = []\n",
    "test_R_sq_lasso = []\n",
    "\n",
    "#Ridge       \n",
    "ridgecv_0 = RidgeCV(alphas=lam_0, normalize=False,cv=10)       \n",
    "ridgecv_0.fit(X_train, Y_train)\n",
    "print('Ridge Results for lam=0, Simple regression')\n",
    "print('The largest R^2 for the training set:',ridgecv_0.score(X_train,Y_train))\n",
    "print('The largest R^2 for the test set:', ridgecv_0.score(X_test,Y_test))\n",
    "\n",
    "#Ridge       \n",
    "ridgecv = RidgeCV(alphas=lam_1, normalize=False,cv=10)       \n",
    "ridgecv.fit(X_train, Y_train)\n",
    "print('Ridge Results for best l')\n",
    "print('Best ridge lambda', ridgecv.alpha_)\n",
    "print('The largest R^2 for the training set:',ridgecv.score(X_train,Y_train))\n",
    "print('The largest R^2 for the test set:', ridgecv.score(X_test,Y_test))\n",
    "\n",
    "#Lasso\n",
    "lassocv=LassoCV(alphas=lam_1,  normalize=False,cv=10)\n",
    "lassocv.fit(X_train, Y_train)  \n",
    "print('Ridge Results for best l')\n",
    "print('Best lasso lambda', lassocv.alpha_)\n",
    "print('The largest R^2 for the training set:',lassocv.score(X_train,Y_train))\n",
    "print('The largest R^2 for the test set:', lassocv.score(X_test,Y_test))"
   ]
  },
  {
   "cell_type": "code",
   "execution_count": 1281,
   "metadata": {},
   "outputs": [
    {
     "name": "stdout",
     "output_type": "stream",
     "text": [
      "12\n"
     ]
    },
    {
     "data": {
      "text/html": [
       "<div>\n",
       "<style>\n",
       "    .dataframe thead tr:only-child th {\n",
       "        text-align: right;\n",
       "    }\n",
       "\n",
       "    .dataframe thead th {\n",
       "        text-align: left;\n",
       "    }\n",
       "\n",
       "    .dataframe tbody tr th {\n",
       "        vertical-align: top;\n",
       "    }\n",
       "</style>\n",
       "<table border=\"1\" class=\"dataframe\">\n",
       "  <thead>\n",
       "    <tr style=\"text-align: right;\">\n",
       "      <th></th>\n",
       "      <th>Simple_par</th>\n",
       "      <th>Ridge_par</th>\n",
       "      <th>Lasso_par</th>\n",
       "      <th>Predictor</th>\n",
       "      <th>comp</th>\n",
       "    </tr>\n",
       "  </thead>\n",
       "  <tbody>\n",
       "    <tr>\n",
       "      <th>0</th>\n",
       "      <td>960.069832</td>\n",
       "      <td>399.678608</td>\n",
       "      <td>647.618418</td>\n",
       "      <td>season_2.0</td>\n",
       "      <td>247.939810</td>\n",
       "    </tr>\n",
       "    <tr>\n",
       "      <th>1</th>\n",
       "      <td>1127.896153</td>\n",
       "      <td>222.326689</td>\n",
       "      <td>273.285776</td>\n",
       "      <td>season_3.0</td>\n",
       "      <td>50.959087</td>\n",
       "    </tr>\n",
       "    <tr>\n",
       "      <th>2</th>\n",
       "      <td>1298.303500</td>\n",
       "      <td>809.024688</td>\n",
       "      <td>1021.685266</td>\n",
       "      <td>season_4.0</td>\n",
       "      <td>212.660578</td>\n",
       "    </tr>\n",
       "    <tr>\n",
       "      <th>3</th>\n",
       "      <td>36.723667</td>\n",
       "      <td>-165.771603</td>\n",
       "      <td>-0.000000</td>\n",
       "      <td>month_2.0</td>\n",
       "      <td>165.771603</td>\n",
       "    </tr>\n",
       "    <tr>\n",
       "      <th>4</th>\n",
       "      <td>188.681469</td>\n",
       "      <td>42.405833</td>\n",
       "      <td>0.000000</td>\n",
       "      <td>month_3.0</td>\n",
       "      <td>-42.405833</td>\n",
       "    </tr>\n",
       "    <tr>\n",
       "      <th>5</th>\n",
       "      <td>234.776254</td>\n",
       "      <td>303.964910</td>\n",
       "      <td>183.529767</td>\n",
       "      <td>month_4.0</td>\n",
       "      <td>-120.435142</td>\n",
       "    </tr>\n",
       "    <tr>\n",
       "      <th>6</th>\n",
       "      <td>-16.579388</td>\n",
       "      <td>154.327553</td>\n",
       "      <td>0.000000</td>\n",
       "      <td>month_5.0</td>\n",
       "      <td>-154.327553</td>\n",
       "    </tr>\n",
       "    <tr>\n",
       "      <th>7</th>\n",
       "      <td>-724.620293</td>\n",
       "      <td>-292.136983</td>\n",
       "      <td>-332.993090</td>\n",
       "      <td>month_6.0</td>\n",
       "      <td>-40.856107</td>\n",
       "    </tr>\n",
       "    <tr>\n",
       "      <th>8</th>\n",
       "      <td>-1159.819719</td>\n",
       "      <td>-489.296166</td>\n",
       "      <td>-445.994367</td>\n",
       "      <td>month_7.0</td>\n",
       "      <td>43.301799</td>\n",
       "    </tr>\n",
       "    <tr>\n",
       "      <th>9</th>\n",
       "      <td>-700.008096</td>\n",
       "      <td>-87.766801</td>\n",
       "      <td>-0.000000</td>\n",
       "      <td>month_8.0</td>\n",
       "      <td>87.766801</td>\n",
       "    </tr>\n",
       "    <tr>\n",
       "      <th>10</th>\n",
       "      <td>477.104148</td>\n",
       "      <td>693.725565</td>\n",
       "      <td>845.389065</td>\n",
       "      <td>month_9.0</td>\n",
       "      <td>151.663501</td>\n",
       "    </tr>\n",
       "    <tr>\n",
       "      <th>11</th>\n",
       "      <td>564.642033</td>\n",
       "      <td>545.108835</td>\n",
       "      <td>517.328854</td>\n",
       "      <td>month_10.0</td>\n",
       "      <td>-27.779980</td>\n",
       "    </tr>\n",
       "    <tr>\n",
       "      <th>12</th>\n",
       "      <td>90.743874</td>\n",
       "      <td>143.869609</td>\n",
       "      <td>11.698920</td>\n",
       "      <td>month_11.0</td>\n",
       "      <td>-132.170689</td>\n",
       "    </tr>\n",
       "    <tr>\n",
       "      <th>13</th>\n",
       "      <td>-88.018267</td>\n",
       "      <td>-76.622937</td>\n",
       "      <td>-0.000000</td>\n",
       "      <td>month_12.0</td>\n",
       "      <td>76.622937</td>\n",
       "    </tr>\n",
       "    <tr>\n",
       "      <th>14</th>\n",
       "      <td>-313.773174</td>\n",
       "      <td>-153.870380</td>\n",
       "      <td>-0.000000</td>\n",
       "      <td>holiday_1.0</td>\n",
       "      <td>153.870380</td>\n",
       "    </tr>\n",
       "    <tr>\n",
       "      <th>15</th>\n",
       "      <td>-69.777707</td>\n",
       "      <td>-142.653002</td>\n",
       "      <td>-205.122199</td>\n",
       "      <td>day_of_week_1.0</td>\n",
       "      <td>-62.469197</td>\n",
       "    </tr>\n",
       "    <tr>\n",
       "      <th>16</th>\n",
       "      <td>-136.261593</td>\n",
       "      <td>-137.493104</td>\n",
       "      <td>-157.492838</td>\n",
       "      <td>day_of_week_2.0</td>\n",
       "      <td>-19.999733</td>\n",
       "    </tr>\n",
       "    <tr>\n",
       "      <th>17</th>\n",
       "      <td>254.166145</td>\n",
       "      <td>126.080544</td>\n",
       "      <td>10.262011</td>\n",
       "      <td>day_of_week_3.0</td>\n",
       "      <td>-115.818533</td>\n",
       "    </tr>\n",
       "    <tr>\n",
       "      <th>18</th>\n",
       "      <td>159.135912</td>\n",
       "      <td>81.438726</td>\n",
       "      <td>0.000000</td>\n",
       "      <td>day_of_week_4.0</td>\n",
       "      <td>-81.438726</td>\n",
       "    </tr>\n",
       "    <tr>\n",
       "      <th>19</th>\n",
       "      <td>218.119420</td>\n",
       "      <td>144.930402</td>\n",
       "      <td>30.412471</td>\n",
       "      <td>day_of_week_5.0</td>\n",
       "      <td>-114.517931</td>\n",
       "    </tr>\n",
       "    <tr>\n",
       "      <th>20</th>\n",
       "      <td>442.245129</td>\n",
       "      <td>287.114911</td>\n",
       "      <td>281.083547</td>\n",
       "      <td>day_of_week_6.0</td>\n",
       "      <td>-6.031364</td>\n",
       "    </tr>\n",
       "    <tr>\n",
       "      <th>21</th>\n",
       "      <td>238.321906</td>\n",
       "      <td>226.173946</td>\n",
       "      <td>284.534047</td>\n",
       "      <td>workingday_1.0</td>\n",
       "      <td>58.360100</td>\n",
       "    </tr>\n",
       "    <tr>\n",
       "      <th>22</th>\n",
       "      <td>1119.223853</td>\n",
       "      <td>404.295461</td>\n",
       "      <td>137.999234</td>\n",
       "      <td>weather_1.0</td>\n",
       "      <td>-266.296227</td>\n",
       "    </tr>\n",
       "    <tr>\n",
       "      <th>23</th>\n",
       "      <td>987.487013</td>\n",
       "      <td>251.270137</td>\n",
       "      <td>0.000000</td>\n",
       "      <td>weather_2.0</td>\n",
       "      <td>-251.270137</td>\n",
       "    </tr>\n",
       "    <tr>\n",
       "      <th>24</th>\n",
       "      <td>-760.764461</td>\n",
       "      <td>-655.565598</td>\n",
       "      <td>-1250.527842</td>\n",
       "      <td>weather_3.0</td>\n",
       "      <td>-594.962244</td>\n",
       "    </tr>\n",
       "    <tr>\n",
       "      <th>25</th>\n",
       "      <td>689.719631</td>\n",
       "      <td>614.100331</td>\n",
       "      <td>637.743554</td>\n",
       "      <td>temp_new</td>\n",
       "      <td>23.643223</td>\n",
       "    </tr>\n",
       "    <tr>\n",
       "      <th>26</th>\n",
       "      <td>499.412329</td>\n",
       "      <td>608.327649</td>\n",
       "      <td>573.919287</td>\n",
       "      <td>atemp_new</td>\n",
       "      <td>-34.408362</td>\n",
       "    </tr>\n",
       "    <tr>\n",
       "      <th>27</th>\n",
       "      <td>-453.226925</td>\n",
       "      <td>-453.720350</td>\n",
       "      <td>-450.911977</td>\n",
       "      <td>humidity_new</td>\n",
       "      <td>2.808373</td>\n",
       "    </tr>\n",
       "  </tbody>\n",
       "</table>\n",
       "</div>"
      ],
      "text/plain": [
       "     Simple_par   Ridge_par    Lasso_par        Predictor        comp\n",
       "0    960.069832  399.678608   647.618418       season_2.0  247.939810\n",
       "1   1127.896153  222.326689   273.285776       season_3.0   50.959087\n",
       "2   1298.303500  809.024688  1021.685266       season_4.0  212.660578\n",
       "3     36.723667 -165.771603    -0.000000        month_2.0  165.771603\n",
       "4    188.681469   42.405833     0.000000        month_3.0  -42.405833\n",
       "5    234.776254  303.964910   183.529767        month_4.0 -120.435142\n",
       "6    -16.579388  154.327553     0.000000        month_5.0 -154.327553\n",
       "7   -724.620293 -292.136983  -332.993090        month_6.0  -40.856107\n",
       "8  -1159.819719 -489.296166  -445.994367        month_7.0   43.301799\n",
       "9   -700.008096  -87.766801    -0.000000        month_8.0   87.766801\n",
       "10   477.104148  693.725565   845.389065        month_9.0  151.663501\n",
       "11   564.642033  545.108835   517.328854       month_10.0  -27.779980\n",
       "12    90.743874  143.869609    11.698920       month_11.0 -132.170689\n",
       "13   -88.018267  -76.622937    -0.000000       month_12.0   76.622937\n",
       "14  -313.773174 -153.870380    -0.000000      holiday_1.0  153.870380\n",
       "15   -69.777707 -142.653002  -205.122199  day_of_week_1.0  -62.469197\n",
       "16  -136.261593 -137.493104  -157.492838  day_of_week_2.0  -19.999733\n",
       "17   254.166145  126.080544    10.262011  day_of_week_3.0 -115.818533\n",
       "18   159.135912   81.438726     0.000000  day_of_week_4.0  -81.438726\n",
       "19   218.119420  144.930402    30.412471  day_of_week_5.0 -114.517931\n",
       "20   442.245129  287.114911   281.083547  day_of_week_6.0   -6.031364\n",
       "21   238.321906  226.173946   284.534047   workingday_1.0   58.360100\n",
       "22  1119.223853  404.295461   137.999234      weather_1.0 -266.296227\n",
       "23   987.487013  251.270137     0.000000      weather_2.0 -251.270137\n",
       "24  -760.764461 -655.565598 -1250.527842      weather_3.0 -594.962244\n",
       "25   689.719631  614.100331   637.743554         temp_new   23.643223\n",
       "26   499.412329  608.327649   573.919287        atemp_new  -34.408362\n",
       "27  -453.226925 -453.720350  -450.911977     humidity_new    2.808373"
      ]
     },
     "execution_count": 1281,
     "metadata": {},
     "output_type": "execute_result"
    },
    {
     "data": {
      "image/png": "[encoded data removed]",
      "text/plain": [
       "<matplotlib.figure.Figure at 0x13703160>"
      ]
     },
     "metadata": {},
     "output_type": "display_data"
    }
   ],
   "source": [
    "Coef=pd.DataFrame()\n",
    "Coef['Simple_par']=ridgecv_0.coef_  #parameters for simple reg, all predictors\n",
    "Coef['Ridge_par']=ridgecv.coef_  #parameters for ridge reg, all predictors,with best lambda\n",
    "Coef['Lasso_par']=lassocv.coef_ #parameters for lasso reg, all predictors,with best lambda\n",
    "Coef['Predictor']=cols_f[:28]\n",
    "Coef['comp']=Coef.Lasso_par - Coef.Ridge_par\n",
    "print(np.count_nonzero(Coef['comp']>0))\n",
    "\n",
    "plt.figure(figsize=(8, 8))\n",
    "s=plt.scatter(Coef.Predictor,Coef.Simple_par)\n",
    "r=plt.scatter(Coef.Predictor,Coef.Ridge_par)\n",
    "l=plt.scatter(Coef.Predictor,Coef.Lasso_par)\n",
    "plt.xticks( rotation='vertical')\n",
    "plt.legend((s,\n",
    "            r,l),('Simple',\n",
    "                    'Ridge','Lasso'))\n",
    "Coef\n",
    "\n",
    "\n"
   ]
  },
  {
   "cell_type": "code",
   "execution_count": 1282,
   "metadata": {
    "collapsed": true
   },
   "outputs": [],
   "source": [
    "#How do the estimated coefficients compare to or differ from the coefficients estimated by a plain linear regression \n",
    "#(without shrikage penalty) in Part (b) from HW 3? Is there a difference between coefficients estimated by the two \n",
    "#shrinkage methods? If so, give an explantion for the difference.\n",
    "#- For all the three regression methods the coefficients are different. \n",
    "# \n",
    "#the size of coefficients increase with increase in model complexity. \n",
    "#thus putting a constraint on the magnitude of coefficients can be a good idea to reduce model complexity.\n",
    "#What does a large coefficient signify? It means that we’re putting a lot of emphasis on that feature, \n",
    "#i.e. the particular feature is a good predictor for the outcome. When it becomes too large, the algorithm starts \n",
    "#modelling intricate relations to estimate the output and ends up overfitting to the particular training data.\n",
    "#as the value of alpha increases, the model complexity reduces,Though higher values of alpha reduce overfitting, significantly \n",
    "#high values can cause underfitting \n",
    "\n",
    "# List the predictors that are assigned a coefficient value close to 0 (say < 1e-10) by the two methods. \n",
    "# the coef. estimated by ridge &lasso are definitely smaller, than those of the simple regression.This is the main puprose of \n",
    "# these two regression methods, to reruce the chance for overfitting (by putting additional constrains on the parameters) , while\n",
    "# lasso reg. sets some of the predictors to 0.\n",
    "# Predictors set to zero by lasso:Month 2,3, 5, 8, 12. holiday 1, weather 2., day of week 4.\n",
    "# mostly these predictors match the predictors from hw3 (C), except the weathe predictor, that we found as significant.However\n",
    "# since the weather predictor is correlated with other predictors also representin weather, differnet set of predictors might also \n",
    "#result in a goot estimation\n",
    "# How closely do these predictors match the redundant predictors (if any) identified in Part (c) from HW 3?\n",
    "# Is there a difference in the way Ridge and Lasso regression assign coefficients to the predictors temp and atemp?\n",
    "# If so, explain the reason for the difference.\n",
    "# Ridge: the values of the temp&atemp are close to each other. since ridge does not set to zero any of the predictors it includes them all\n",
    "# but the coefficients will be distributed among them depending on the correlation.\n",
    "# Lasso: It arbitrarily selects any one feature among the highly correlated ones and reduced the coefficients of the rest\n",
    "#to zero. Also, the chosen variable changes randomly with change in model parameters. \n",
    "#This generally doesn’t work that well as compared to ridge regression.\n",
    "#since temp&months 5-9 are highly correlated , the regression has chosen to set to zero month 5&8, however, for both ridge and lasso\n",
    "#the temp and a_temp coef are very closeto each other\n",
    "\n"
   ]
  },
  {
   "cell_type": "code",
   "execution_count": 1283,
   "metadata": {},
   "outputs": [
    {
     "data": {
      "text/plain": [
       "22"
      ]
     },
     "execution_count": 1283,
     "metadata": {},
     "output_type": "execute_result"
    }
   ],
   "source": [
    "# let us try to repeat the lasso, simple and ridge without the predictors set to zero.\n",
    "cols_f_1=[               #'season_1.0',\n",
    "                        'season_2.0', 'season_3.0', 'season_4.0', \n",
    "                     # 'month_1.0',\n",
    "                       #'month_2.0', 'month_3.0', \n",
    "                    'month_4.0', \n",
    "                  #  'month_5.0', \n",
    "                    'month_6.0', 'month_7.0',\n",
    "                     #  'month_8.0', \n",
    "                    'month_9.0', 'month_10.0', 'month_11.0',# 'month_12.0',           \n",
    "                         # 'holiday_0.0',\n",
    "                          #  'holiday_1.0',     \n",
    "                       # 'day_of_week_0.0',\n",
    "                        'day_of_week_1.0', 'day_of_week_2.0', 'day_of_week_3.0',#'day_of_week_4.0',\n",
    "                       'day_of_week_5.0', 'day_of_week_6.0',\n",
    "                         # 'workingday_0.0',\n",
    "                        'workingday_1.0', \n",
    "   'weather_1.0', \n",
    "                      #  'weather_2.0', \n",
    "    'weather_3.0',\n",
    "      'temp_new','atemp_new',  'humidity_new', 'windspeed_new',     \n",
    "    'count' \n",
    "] \n",
    "np.count_nonzero(cols_f_1)\n",
    "#print(cols_f_1[:21])"
   ]
  },
  {
   "cell_type": "code",
   "execution_count": 1284,
   "metadata": {
    "collapsed": true
   },
   "outputs": [],
   "source": [
    "df_train_f_1=finilize(dftrain_oneH,cols_f_1)\n",
    "df_test_f_1=finilize(dftest_oneH,cols_f_1)\n"
   ]
  },
  {
   "cell_type": "code",
   "execution_count": 1285,
   "metadata": {
    "collapsed": true
   },
   "outputs": [],
   "source": [
    "X_train_1=df_train_f_1[cols_f_1[:21]].values\n",
    "Y_train_1=df_train_f_1['count'].values\n",
    "\n",
    "X_test_1=df_test_f_1[cols_f_1[:21]].values\n",
    "Y_test_1=df_test_f_1['count'].values\n"
   ]
  },
  {
   "cell_type": "code",
   "execution_count": 1286,
   "metadata": {},
   "outputs": [
    {
     "name": "stdout",
     "output_type": "stream",
     "text": [
      "Ridge Results for lam=0, Simple regression\n",
      "The largest R^2 for the training set: 0.572300620502\n",
      "The largest R^2 for the test set: 0.266264405507\n",
      "Ridge Results for best l\n",
      "Best ridge lambda 10.0\n",
      "The largest R^2 for the training set: 0.560070309094\n",
      "The largest R^2 for the test set: 0.27189205141\n",
      "Ridge Results for best l\n",
      "Best lasso lambda 10.0\n",
      "The largest R^2 for the training set: 0.564810327031\n",
      "The largest R^2 for the test set: 0.276583747257\n"
     ]
    }
   ],
   "source": [
    "lam_0 =[0]\n",
    "lam_1 = [ 1e-5, 1e-4, 1e-3, 1e-2,1e-1,1, 1.0, 10.0, 1e2, 1e3, 1e4, 1e5]\n",
    "#def ridg_reg_lamV(lm):\n",
    "train_R_sq_ridg_1 = []\n",
    "test_R_sq_ridg_1 = []\n",
    "train_R_sq_lasso_1 = []\n",
    "test_R_sq_lasso_1 = []\n",
    "\n",
    "#Ridge       \n",
    "ridgecv_0_1 = RidgeCV(alphas=lam_0, normalize=False,cv=10)       \n",
    "ridgecv_0_1.fit(X_train_1, Y_train_1)\n",
    "\n",
    "print('Ridge Results for lam=0, Simple regression')\n",
    "print('The largest R^2 for the training set:',ridgecv_0_1.score(X_train_1,Y_train_1))\n",
    "print('The largest R^2 for the test set:', ridgecv_0_1.score(X_test_1,Y_test_1))\n",
    "\n",
    "#Ridge       \n",
    "ridgecv_1 = RidgeCV(alphas=lam_1, normalize=False,cv=10)       \n",
    "ridgecv_1.fit(X_train_1, Y_train_1)\n",
    "print('Ridge Results for best l')\n",
    "print('Best ridge lambda', ridgecv_1.alpha_)\n",
    "print('The largest R^2 for the training set:',ridgecv_1.score(X_train_1,Y_train_1))\n",
    "print('The largest R^2 for the test set:', ridgecv_1.score(X_test_1,Y_test_1))\n",
    "\n",
    "#Lasso\n",
    "lassocv_1=LassoCV(alphas=lam_1,  normalize=False,cv=10)\n",
    "lassocv_1.fit(X_train_1, Y_train_1)  \n",
    "print('Ridge Results for best l')\n",
    "print('Best lasso lambda', lassocv_1.alpha_)\n",
    "print('The largest R^2 for the training set:',lassocv_1.score(X_train_1,Y_train_1))\n",
    "print('The largest R^2 for the test set:', lassocv_1.score(X_test_1,Y_test_1))"
   ]
  },
  {
   "cell_type": "code",
   "execution_count": 1287,
   "metadata": {},
   "outputs": [
    {
     "name": "stdout",
     "output_type": "stream",
     "text": [
      "9\n"
     ]
    },
    {
     "data": {
      "text/html": [
       "<div>\n",
       "<style>\n",
       "    .dataframe thead tr:only-child th {\n",
       "        text-align: right;\n",
       "    }\n",
       "\n",
       "    .dataframe thead th {\n",
       "        text-align: left;\n",
       "    }\n",
       "\n",
       "    .dataframe tbody tr th {\n",
       "        vertical-align: top;\n",
       "    }\n",
       "</style>\n",
       "<table border=\"1\" class=\"dataframe\">\n",
       "  <thead>\n",
       "    <tr style=\"text-align: right;\">\n",
       "      <th></th>\n",
       "      <th>Simple_par_1</th>\n",
       "      <th>Ridge_par_1</th>\n",
       "      <th>Lasso_par_1</th>\n",
       "      <th>Predictor_1</th>\n",
       "      <th>comp_1</th>\n",
       "    </tr>\n",
       "  </thead>\n",
       "  <tbody>\n",
       "    <tr>\n",
       "      <th>0</th>\n",
       "      <td>865.398340</td>\n",
       "      <td>477.751640</td>\n",
       "      <td>544.233105</td>\n",
       "      <td>season_2.0</td>\n",
       "      <td>66.481466</td>\n",
       "    </tr>\n",
       "    <tr>\n",
       "      <th>1</th>\n",
       "      <td>524.707564</td>\n",
       "      <td>136.471023</td>\n",
       "      <td>112.314955</td>\n",
       "      <td>season_3.0</td>\n",
       "      <td>-24.156068</td>\n",
       "    </tr>\n",
       "    <tr>\n",
       "      <th>2</th>\n",
       "      <td>942.760390</td>\n",
       "      <td>733.831195</td>\n",
       "      <td>895.539099</td>\n",
       "      <td>season_4.0</td>\n",
       "      <td>161.707904</td>\n",
       "    </tr>\n",
       "    <tr>\n",
       "      <th>3</th>\n",
       "      <td>369.719034</td>\n",
       "      <td>322.659263</td>\n",
       "      <td>310.984623</td>\n",
       "      <td>month_4.0</td>\n",
       "      <td>-11.674640</td>\n",
       "    </tr>\n",
       "    <tr>\n",
       "      <th>4</th>\n",
       "      <td>-527.382275</td>\n",
       "      <td>-330.225952</td>\n",
       "      <td>-352.801947</td>\n",
       "      <td>month_6.0</td>\n",
       "      <td>-22.575995</td>\n",
       "    </tr>\n",
       "    <tr>\n",
       "      <th>5</th>\n",
       "      <td>-642.307193</td>\n",
       "      <td>-498.120313</td>\n",
       "      <td>-494.647811</td>\n",
       "      <td>month_7.0</td>\n",
       "      <td>3.472502</td>\n",
       "    </tr>\n",
       "    <tr>\n",
       "      <th>6</th>\n",
       "      <td>902.379588</td>\n",
       "      <td>691.084769</td>\n",
       "      <td>831.565312</td>\n",
       "      <td>month_9.0</td>\n",
       "      <td>140.480543</td>\n",
       "    </tr>\n",
       "    <tr>\n",
       "      <th>7</th>\n",
       "      <td>774.290781</td>\n",
       "      <td>523.798912</td>\n",
       "      <td>482.914552</td>\n",
       "      <td>month_10.0</td>\n",
       "      <td>-40.884360</td>\n",
       "    </tr>\n",
       "    <tr>\n",
       "      <th>8</th>\n",
       "      <td>345.921733</td>\n",
       "      <td>184.438258</td>\n",
       "      <td>66.663914</td>\n",
       "      <td>month_11.0</td>\n",
       "      <td>-117.774344</td>\n",
       "    </tr>\n",
       "    <tr>\n",
       "      <th>9</th>\n",
       "      <td>-254.249676</td>\n",
       "      <td>-191.235443</td>\n",
       "      <td>-179.692771</td>\n",
       "      <td>day_of_week_1.0</td>\n",
       "      <td>11.542672</td>\n",
       "    </tr>\n",
       "    <tr>\n",
       "      <th>10</th>\n",
       "      <td>-246.126769</td>\n",
       "      <td>-133.942273</td>\n",
       "      <td>-126.923968</td>\n",
       "      <td>day_of_week_2.0</td>\n",
       "      <td>7.018305</td>\n",
       "    </tr>\n",
       "    <tr>\n",
       "      <th>11</th>\n",
       "      <td>87.144337</td>\n",
       "      <td>81.484705</td>\n",
       "      <td>15.597569</td>\n",
       "      <td>day_of_week_3.0</td>\n",
       "      <td>-65.887136</td>\n",
       "    </tr>\n",
       "    <tr>\n",
       "      <th>12</th>\n",
       "      <td>43.658044</td>\n",
       "      <td>99.172873</td>\n",
       "      <td>12.144126</td>\n",
       "      <td>day_of_week_5.0</td>\n",
       "      <td>-87.028747</td>\n",
       "    </tr>\n",
       "    <tr>\n",
       "      <th>13</th>\n",
       "      <td>470.041141</td>\n",
       "      <td>317.899472</td>\n",
       "      <td>311.536009</td>\n",
       "      <td>day_of_week_6.0</td>\n",
       "      <td>-6.363463</td>\n",
       "    </tr>\n",
       "    <tr>\n",
       "      <th>14</th>\n",
       "      <td>422.636811</td>\n",
       "      <td>271.853015</td>\n",
       "      <td>279.955431</td>\n",
       "      <td>workingday_1.0</td>\n",
       "      <td>8.102416</td>\n",
       "    </tr>\n",
       "    <tr>\n",
       "      <th>15</th>\n",
       "      <td>46.802642</td>\n",
       "      <td>112.951311</td>\n",
       "      <td>24.620923</td>\n",
       "      <td>weather_1.0</td>\n",
       "      <td>-88.330388</td>\n",
       "    </tr>\n",
       "    <tr>\n",
       "      <th>16</th>\n",
       "      <td>-1537.052770</td>\n",
       "      <td>-687.449180</td>\n",
       "      <td>-1058.703426</td>\n",
       "      <td>weather_3.0</td>\n",
       "      <td>-371.254246</td>\n",
       "    </tr>\n",
       "    <tr>\n",
       "      <th>17</th>\n",
       "      <td>744.747152</td>\n",
       "      <td>672.010817</td>\n",
       "      <td>850.520319</td>\n",
       "      <td>temp_new</td>\n",
       "      <td>178.509501</td>\n",
       "    </tr>\n",
       "    <tr>\n",
       "      <th>18</th>\n",
       "      <td>417.443926</td>\n",
       "      <td>559.521320</td>\n",
       "      <td>398.401157</td>\n",
       "      <td>atemp_new</td>\n",
       "      <td>-161.120163</td>\n",
       "    </tr>\n",
       "    <tr>\n",
       "      <th>19</th>\n",
       "      <td>-534.967497</td>\n",
       "      <td>-520.851943</td>\n",
       "      <td>-546.709920</td>\n",
       "      <td>humidity_new</td>\n",
       "      <td>-25.857977</td>\n",
       "    </tr>\n",
       "    <tr>\n",
       "      <th>20</th>\n",
       "      <td>-244.649255</td>\n",
       "      <td>-258.833720</td>\n",
       "      <td>-252.137079</td>\n",
       "      <td>windspeed_new</td>\n",
       "      <td>6.696640</td>\n",
       "    </tr>\n",
       "  </tbody>\n",
       "</table>\n",
       "</div>"
      ],
      "text/plain": [
       "    Simple_par_1  Ridge_par_1  Lasso_par_1      Predictor_1      comp_1\n",
       "0     865.398340   477.751640   544.233105       season_2.0   66.481466\n",
       "1     524.707564   136.471023   112.314955       season_3.0  -24.156068\n",
       "2     942.760390   733.831195   895.539099       season_4.0  161.707904\n",
       "3     369.719034   322.659263   310.984623        month_4.0  -11.674640\n",
       "4    -527.382275  -330.225952  -352.801947        month_6.0  -22.575995\n",
       "5    -642.307193  -498.120313  -494.647811        month_7.0    3.472502\n",
       "6     902.379588   691.084769   831.565312        month_9.0  140.480543\n",
       "7     774.290781   523.798912   482.914552       month_10.0  -40.884360\n",
       "8     345.921733   184.438258    66.663914       month_11.0 -117.774344\n",
       "9    -254.249676  -191.235443  -179.692771  day_of_week_1.0   11.542672\n",
       "10   -246.126769  -133.942273  -126.923968  day_of_week_2.0    7.018305\n",
       "11     87.144337    81.484705    15.597569  day_of_week_3.0  -65.887136\n",
       "12     43.658044    99.172873    12.144126  day_of_week_5.0  -87.028747\n",
       "13    470.041141   317.899472   311.536009  day_of_week_6.0   -6.363463\n",
       "14    422.636811   271.853015   279.955431   workingday_1.0    8.102416\n",
       "15     46.802642   112.951311    24.620923      weather_1.0  -88.330388\n",
       "16  -1537.052770  -687.449180 -1058.703426      weather_3.0 -371.254246\n",
       "17    744.747152   672.010817   850.520319         temp_new  178.509501\n",
       "18    417.443926   559.521320   398.401157        atemp_new -161.120163\n",
       "19   -534.967497  -520.851943  -546.709920     humidity_new  -25.857977\n",
       "20   -244.649255  -258.833720  -252.137079    windspeed_new    6.696640"
      ]
     },
     "execution_count": 1287,
     "metadata": {},
     "output_type": "execute_result"
    }
   ],
   "source": [
    "Coef=pd.DataFrame()\n",
    "Coef['Simple_par_1']=ridgecv_0_1.coef_  #parameters for simple reg, all predictors\n",
    "Coef['Ridge_par_1']=ridgecv_1.coef_  #parameters for ridge reg, all predictors,with best lambda\n",
    "Coef['Lasso_par_1']=lassocv_1.coef_ #parameters for lasso reg, all predictors,with best lambda\n",
    "Coef['Predictor_1']=cols_f_1[:21]\n",
    "Coef['comp_1']=Coef.Lasso_par_1 - Coef.Ridge_par_1\n",
    "print(np.count_nonzero(Coef['comp_1']>0))\n",
    "\n",
    "#plt.figure(figsize=(8, 8))\n",
    "#s=plt.scatter(Coef.Predictor,Coef.Simple_par)\n",
    "#r=plt.scatter(Coef.Predictor,Coef.Ridge_par)\n",
    "#l=plt.scatter(Coef.Predictor,Coef.Lasso_par)\n",
    "#plt.xticks( rotation='vertical')\n",
    "#plt.legend((s,\n",
    " #           r,l),('Simple',\n",
    " #                   'Ridge','Lasso'))\n",
    "Coef"
   ]
  },
  {
   "cell_type": "code",
   "execution_count": 1288,
   "metadata": {
    "collapsed": true
   },
   "outputs": [],
   "source": [
    "#gettint rid of the vars set to zero at the previous step, \n",
    "#Ridge:Temp & atemp have almost similar weight.\n",
    "#Lasso:The temp is ~2 larger than a-temp coeff. \n",
    "#However, the predictors that were chosen at hw3 (C) \n",
    "#have the abs larger values than the rest of the predictors."
   ]
  },
  {
   "cell_type": "code",
   "execution_count": 1289,
   "metadata": {
    "collapsed": true
   },
   "outputs": [],
   "source": [
    "#--------  sample\n",
    "# A function to select a random sample of size k from the training set\n",
    "# Input: \n",
    "#      x (n x d array of predictors in training data)\n",
    "#      y (n x 1 array of response variable vals in training data)\n",
    "#      k (size of sample) \n",
    "# Return: \n",
    "#      chosen sample of predictors and responses\n",
    "\n",
    "def sample(x, y, k):\n",
    "    n = x.shape[0] # No. of training points    \n",
    "    # Choose random indices of size 'k'\n",
    "    subset_ind = np.random.choice(np.arange(n), k)    \n",
    "    # Get predictors and reponses with the indices\n",
    "    x_subset = x[subset_ind, :]\n",
    "    y_subset = y[subset_ind]    \n",
    "    return (x_subset, y_subset)"
   ]
  },
  {
   "cell_type": "code",
   "execution_count": 1290,
   "metadata": {},
   "outputs": [
    {
     "name": "stderr",
     "output_type": "stream",
     "text": [
      "d:\\Users\\Home\\Anaconda3\\lib\\site-packages\\sklearn\\linear_model\\coordinate_descent.py:491: ConvergenceWarning: Objective did not converge. You might want to increase the number of iterations. Fitting data with very small alpha may cause precision problems.\n",
      "  ConvergenceWarning)\n",
      "d:\\Users\\Home\\Anaconda3\\lib\\site-packages\\sklearn\\linear_model\\coordinate_descent.py:491: ConvergenceWarning: Objective did not converge. You might want to increase the number of iterations. Fitting data with very small alpha may cause precision problems.\n",
      "  ConvergenceWarning)\n",
      "d:\\Users\\Home\\Anaconda3\\lib\\site-packages\\scipy\\linalg\\basic.py:223: RuntimeWarning: scipy.linalg.solve\n",
      "Ill-conditioned matrix detected. Result is not guaranteed to be accurate.\n",
      "Reciprocal condition number: 4.093388139999354e-19\n",
      "  ' condition number: {}'.format(rcond), RuntimeWarning)\n",
      "d:\\Users\\Home\\Anaconda3\\lib\\site-packages\\scipy\\linalg\\basic.py:223: RuntimeWarning: scipy.linalg.solve\n",
      "Ill-conditioned matrix detected. Result is not guaranteed to be accurate.\n",
      "Reciprocal condition number: 9.010540130961555e-20\n",
      "  ' condition number: {}'.format(rcond), RuntimeWarning)\n",
      "d:\\Users\\Home\\Anaconda3\\lib\\site-packages\\scipy\\linalg\\basic.py:223: RuntimeWarning: scipy.linalg.solve\n",
      "Ill-conditioned matrix detected. Result is not guaranteed to be accurate.\n",
      "Reciprocal condition number: 7.386955244637244e-20\n",
      "  ' condition number: {}'.format(rcond), RuntimeWarning)\n",
      "d:\\Users\\Home\\Anaconda3\\lib\\site-packages\\sklearn\\linear_model\\coordinate_descent.py:491: ConvergenceWarning: Objective did not converge. You might want to increase the number of iterations. Fitting data with very small alpha may cause precision problems.\n",
      "  ConvergenceWarning)\n",
      "d:\\Users\\Home\\Anaconda3\\lib\\site-packages\\sklearn\\linear_model\\coordinate_descent.py:491: ConvergenceWarning: Objective did not converge. You might want to increase the number of iterations. Fitting data with very small alpha may cause precision problems.\n",
      "  ConvergenceWarning)\n",
      "d:\\Users\\Home\\Anaconda3\\lib\\site-packages\\sklearn\\linear_model\\coordinate_descent.py:491: ConvergenceWarning: Objective did not converge. You might want to increase the number of iterations. Fitting data with very small alpha may cause precision problems.\n",
      "  ConvergenceWarning)\n",
      "d:\\Users\\Home\\Anaconda3\\lib\\site-packages\\sklearn\\linear_model\\coordinate_descent.py:491: ConvergenceWarning: Objective did not converge. You might want to increase the number of iterations. Fitting data with very small alpha may cause precision problems.\n",
      "  ConvergenceWarning)\n",
      "d:\\Users\\Home\\Anaconda3\\lib\\site-packages\\scipy\\linalg\\basic.py:223: RuntimeWarning: scipy.linalg.solve\n",
      "Ill-conditioned matrix detected. Result is not guaranteed to be accurate.\n",
      "Reciprocal condition number: 1.5261779383840834e-18\n",
      "  ' condition number: {}'.format(rcond), RuntimeWarning)\n",
      "d:\\Users\\Home\\Anaconda3\\lib\\site-packages\\scipy\\linalg\\basic.py:223: RuntimeWarning: scipy.linalg.solve\n",
      "Ill-conditioned matrix detected. Result is not guaranteed to be accurate.\n",
      "Reciprocal condition number: 5.6476424080453415e-18\n",
      "  ' condition number: {}'.format(rcond), RuntimeWarning)\n",
      "d:\\Users\\Home\\Anaconda3\\lib\\site-packages\\scipy\\linalg\\basic.py:223: RuntimeWarning: scipy.linalg.solve\n",
      "Ill-conditioned matrix detected. Result is not guaranteed to be accurate.\n",
      "Reciprocal condition number: 3.3837277425069237e-18\n",
      "  ' condition number: {}'.format(rcond), RuntimeWarning)\n",
      "d:\\Users\\Home\\Anaconda3\\lib\\site-packages\\sklearn\\linear_model\\coordinate_descent.py:491: ConvergenceWarning: Objective did not converge. You might want to increase the number of iterations. Fitting data with very small alpha may cause precision problems.\n",
      "  ConvergenceWarning)\n",
      "d:\\Users\\Home\\Anaconda3\\lib\\site-packages\\scipy\\linalg\\basic.py:223: RuntimeWarning: scipy.linalg.solve\n",
      "Ill-conditioned matrix detected. Result is not guaranteed to be accurate.\n",
      "Reciprocal condition number: 4.3434215808937175e-18\n",
      "  ' condition number: {}'.format(rcond), RuntimeWarning)\n",
      "d:\\Users\\Home\\Anaconda3\\lib\\site-packages\\scipy\\linalg\\basic.py:223: RuntimeWarning: scipy.linalg.solve\n",
      "Ill-conditioned matrix detected. Result is not guaranteed to be accurate.\n",
      "Reciprocal condition number: 2.5844955826187067e-19\n",
      "  ' condition number: {}'.format(rcond), RuntimeWarning)\n",
      "d:\\Users\\Home\\Anaconda3\\lib\\site-packages\\scipy\\linalg\\basic.py:223: RuntimeWarning: scipy.linalg.solve\n",
      "Ill-conditioned matrix detected. Result is not guaranteed to be accurate.\n",
      "Reciprocal condition number: 6.7171738324950645e-18\n",
      "  ' condition number: {}'.format(rcond), RuntimeWarning)\n",
      "d:\\Users\\Home\\Anaconda3\\lib\\site-packages\\sklearn\\linear_model\\coordinate_descent.py:491: ConvergenceWarning: Objective did not converge. You might want to increase the number of iterations. Fitting data with very small alpha may cause precision problems.\n",
      "  ConvergenceWarning)\n",
      "d:\\Users\\Home\\Anaconda3\\lib\\site-packages\\sklearn\\linear_model\\coordinate_descent.py:491: ConvergenceWarning: Objective did not converge. You might want to increase the number of iterations. Fitting data with very small alpha may cause precision problems.\n",
      "  ConvergenceWarning)\n",
      "d:\\Users\\Home\\Anaconda3\\lib\\site-packages\\scipy\\linalg\\basic.py:223: RuntimeWarning: scipy.linalg.solve\n",
      "Ill-conditioned matrix detected. Result is not guaranteed to be accurate.\n",
      "Reciprocal condition number: 4.055809959217322e-19\n",
      "  ' condition number: {}'.format(rcond), RuntimeWarning)\n",
      "d:\\Users\\Home\\Anaconda3\\lib\\site-packages\\scipy\\linalg\\basic.py:223: RuntimeWarning: scipy.linalg.solve\n",
      "Ill-conditioned matrix detected. Result is not guaranteed to be accurate.\n",
      "Reciprocal condition number: 1.7397149626924094e-18\n",
      "  ' condition number: {}'.format(rcond), RuntimeWarning)\n",
      "d:\\Users\\Home\\Anaconda3\\lib\\site-packages\\sklearn\\linear_model\\coordinate_descent.py:491: ConvergenceWarning: Objective did not converge. You might want to increase the number of iterations. Fitting data with very small alpha may cause precision problems.\n",
      "  ConvergenceWarning)\n"
     ]
    },
    {
     "name": "stdout",
     "output_type": "stream",
     "text": [
      "[0.491093752408373, 0.64667107409078772, 0.45278454168407334, 0.62894902634693239, 0.46675076586669689, 0.5403533605821369, 0.42885958863137053, 0.48952054175574938, 0.80583800942018935, 0.6388831512091957]\n",
      "0.723970037052\n"
     ]
    },
    {
     "name": "stderr",
     "output_type": "stream",
     "text": [
      "d:\\Users\\Home\\Anaconda3\\lib\\site-packages\\scipy\\linalg\\basic.py:223: RuntimeWarning: scipy.linalg.solve\n",
      "Ill-conditioned matrix detected. Result is not guaranteed to be accurate.\n",
      "Reciprocal condition number: 4.029367297738778e-18\n",
      "  ' condition number: {}'.format(rcond), RuntimeWarning)\n",
      "d:\\Users\\Home\\Anaconda3\\lib\\site-packages\\scipy\\linalg\\basic.py:223: RuntimeWarning: scipy.linalg.solve\n",
      "Ill-conditioned matrix detected. Result is not guaranteed to be accurate.\n",
      "Reciprocal condition number: 7.890885158938061e-19\n",
      "  ' condition number: {}'.format(rcond), RuntimeWarning)\n",
      "d:\\Users\\Home\\Anaconda3\\lib\\site-packages\\scipy\\linalg\\basic.py:223: RuntimeWarning: scipy.linalg.solve\n",
      "Ill-conditioned matrix detected. Result is not guaranteed to be accurate.\n",
      "Reciprocal condition number: 3.023390594569958e-18\n",
      "  ' condition number: {}'.format(rcond), RuntimeWarning)\n",
      "d:\\Users\\Home\\Anaconda3\\lib\\site-packages\\scipy\\linalg\\basic.py:223: RuntimeWarning: scipy.linalg.solve\n",
      "Ill-conditioned matrix detected. Result is not guaranteed to be accurate.\n",
      "Reciprocal condition number: 1.9258396024287558e-18\n",
      "  ' condition number: {}'.format(rcond), RuntimeWarning)\n",
      "d:\\Users\\Home\\Anaconda3\\lib\\site-packages\\scipy\\linalg\\basic.py:223: RuntimeWarning: scipy.linalg.solve\n",
      "Ill-conditioned matrix detected. Result is not guaranteed to be accurate.\n",
      "Reciprocal condition number: 1.0244023559015934e-17\n",
      "  ' condition number: {}'.format(rcond), RuntimeWarning)\n",
      "d:\\Users\\Home\\Anaconda3\\lib\\site-packages\\sklearn\\linear_model\\coordinate_descent.py:491: ConvergenceWarning: Objective did not converge. You might want to increase the number of iterations. Fitting data with very small alpha may cause precision problems.\n",
      "  ConvergenceWarning)\n",
      "d:\\Users\\Home\\Anaconda3\\lib\\site-packages\\scipy\\linalg\\basic.py:223: RuntimeWarning: scipy.linalg.solve\n",
      "Ill-conditioned matrix detected. Result is not guaranteed to be accurate.\n",
      "Reciprocal condition number: 7.452416378165596e-18\n",
      "  ' condition number: {}'.format(rcond), RuntimeWarning)\n",
      "d:\\Users\\Home\\Anaconda3\\lib\\site-packages\\scipy\\linalg\\basic.py:223: RuntimeWarning: scipy.linalg.solve\n",
      "Ill-conditioned matrix detected. Result is not guaranteed to be accurate.\n",
      "Reciprocal condition number: 9.027058542860449e-18\n",
      "  ' condition number: {}'.format(rcond), RuntimeWarning)\n",
      "d:\\Users\\Home\\Anaconda3\\lib\\site-packages\\scipy\\linalg\\basic.py:223: RuntimeWarning: scipy.linalg.solve\n",
      "Ill-conditioned matrix detected. Result is not guaranteed to be accurate.\n",
      "Reciprocal condition number: 1.0665481200093989e-17\n",
      "  ' condition number: {}'.format(rcond), RuntimeWarning)\n",
      "d:\\Users\\Home\\Anaconda3\\lib\\site-packages\\scipy\\linalg\\basic.py:223: RuntimeWarning: scipy.linalg.solve\n",
      "Ill-conditioned matrix detected. Result is not guaranteed to be accurate.\n",
      "Reciprocal condition number: 5.427210003471174e-18\n",
      "  ' condition number: {}'.format(rcond), RuntimeWarning)\n",
      "d:\\Users\\Home\\Anaconda3\\lib\\site-packages\\scipy\\linalg\\basic.py:223: RuntimeWarning: scipy.linalg.solve\n",
      "Ill-conditioned matrix detected. Result is not guaranteed to be accurate.\n",
      "Reciprocal condition number: 4.9030157406970316e-18\n",
      "  ' condition number: {}'.format(rcond), RuntimeWarning)\n",
      "d:\\Users\\Home\\Anaconda3\\lib\\site-packages\\scipy\\linalg\\basic.py:223: RuntimeWarning: scipy.linalg.solve\n",
      "Ill-conditioned matrix detected. Result is not guaranteed to be accurate.\n",
      "Reciprocal condition number: 4.7211666141313775e-18\n",
      "  ' condition number: {}'.format(rcond), RuntimeWarning)\n",
      "d:\\Users\\Home\\Anaconda3\\lib\\site-packages\\scipy\\linalg\\basic.py:223: RuntimeWarning: scipy.linalg.solve\n",
      "Ill-conditioned matrix detected. Result is not guaranteed to be accurate.\n",
      "Reciprocal condition number: 3.9958041321515784e-18\n",
      "  ' condition number: {}'.format(rcond), RuntimeWarning)\n",
      "d:\\Users\\Home\\Anaconda3\\lib\\site-packages\\scipy\\linalg\\basic.py:223: RuntimeWarning: scipy.linalg.solve\n",
      "Ill-conditioned matrix detected. Result is not guaranteed to be accurate.\n",
      "Reciprocal condition number: 2.3416811189811706e-18\n",
      "  ' condition number: {}'.format(rcond), RuntimeWarning)\n",
      "d:\\Users\\Home\\Anaconda3\\lib\\site-packages\\sklearn\\linear_model\\coordinate_descent.py:491: ConvergenceWarning: Objective did not converge. You might want to increase the number of iterations. Fitting data with very small alpha may cause precision problems.\n",
      "  ConvergenceWarning)\n",
      "d:\\Users\\Home\\Anaconda3\\lib\\site-packages\\scipy\\linalg\\basic.py:223: RuntimeWarning: scipy.linalg.solve\n",
      "Ill-conditioned matrix detected. Result is not guaranteed to be accurate.\n",
      "Reciprocal condition number: 7.260857571139439e-18\n",
      "  ' condition number: {}'.format(rcond), RuntimeWarning)\n",
      "d:\\Users\\Home\\Anaconda3\\lib\\site-packages\\scipy\\linalg\\basic.py:223: RuntimeWarning: scipy.linalg.solve\n",
      "Ill-conditioned matrix detected. Result is not guaranteed to be accurate.\n",
      "Reciprocal condition number: 2.7700619422469397e-18\n",
      "  ' condition number: {}'.format(rcond), RuntimeWarning)\n",
      "d:\\Users\\Home\\Anaconda3\\lib\\site-packages\\scipy\\linalg\\basic.py:223: RuntimeWarning: scipy.linalg.solve\n",
      "Ill-conditioned matrix detected. Result is not guaranteed to be accurate.\n",
      "Reciprocal condition number: 1.157384826187034e-17\n",
      "  ' condition number: {}'.format(rcond), RuntimeWarning)\n",
      "d:\\Users\\Home\\Anaconda3\\lib\\site-packages\\scipy\\linalg\\basic.py:223: RuntimeWarning: scipy.linalg.solve\n",
      "Ill-conditioned matrix detected. Result is not guaranteed to be accurate.\n",
      "Reciprocal condition number: 2.6842347580433175e-17\n",
      "  ' condition number: {}'.format(rcond), RuntimeWarning)\n",
      "d:\\Users\\Home\\Anaconda3\\lib\\site-packages\\sklearn\\linear_model\\coordinate_descent.py:491: ConvergenceWarning: Objective did not converge. You might want to increase the number of iterations. Fitting data with very small alpha may cause precision problems.\n",
      "  ConvergenceWarning)\n",
      "d:\\Users\\Home\\Anaconda3\\lib\\site-packages\\scipy\\linalg\\basic.py:223: RuntimeWarning: scipy.linalg.solve\n",
      "Ill-conditioned matrix detected. Result is not guaranteed to be accurate.\n",
      "Reciprocal condition number: 1.0358138094387647e-17\n",
      "  ' condition number: {}'.format(rcond), RuntimeWarning)\n",
      "d:\\Users\\Home\\Anaconda3\\lib\\site-packages\\scipy\\linalg\\basic.py:223: RuntimeWarning: scipy.linalg.solve\n",
      "Ill-conditioned matrix detected. Result is not guaranteed to be accurate.\n",
      "Reciprocal condition number: 6.614379547332676e-19\n",
      "  ' condition number: {}'.format(rcond), RuntimeWarning)\n",
      "d:\\Users\\Home\\Anaconda3\\lib\\site-packages\\scipy\\linalg\\basic.py:223: RuntimeWarning: scipy.linalg.solve\n",
      "Ill-conditioned matrix detected. Result is not guaranteed to be accurate.\n",
      "Reciprocal condition number: 1.2437284909815867e-17\n",
      "  ' condition number: {}'.format(rcond), RuntimeWarning)\n",
      "d:\\Users\\Home\\Anaconda3\\lib\\site-packages\\scipy\\linalg\\basic.py:223: RuntimeWarning: scipy.linalg.solve\n",
      "Ill-conditioned matrix detected. Result is not guaranteed to be accurate.\n",
      "Reciprocal condition number: 1.0204853804088868e-17\n",
      "  ' condition number: {}'.format(rcond), RuntimeWarning)\n",
      "d:\\Users\\Home\\Anaconda3\\lib\\site-packages\\scipy\\linalg\\basic.py:223: RuntimeWarning: scipy.linalg.solve\n",
      "Ill-conditioned matrix detected. Result is not guaranteed to be accurate.\n",
      "Reciprocal condition number: 2.0394860625299108e-17\n",
      "  ' condition number: {}'.format(rcond), RuntimeWarning)\n",
      "d:\\Users\\Home\\Anaconda3\\lib\\site-packages\\scipy\\linalg\\basic.py:223: RuntimeWarning: scipy.linalg.solve\n",
      "Ill-conditioned matrix detected. Result is not guaranteed to be accurate.\n",
      "Reciprocal condition number: 1.2207833918701298e-17\n",
      "  ' condition number: {}'.format(rcond), RuntimeWarning)\n",
      "d:\\Users\\Home\\Anaconda3\\lib\\site-packages\\scipy\\linalg\\basic.py:223: RuntimeWarning: scipy.linalg.solve\n",
      "Ill-conditioned matrix detected. Result is not guaranteed to be accurate.\n",
      "Reciprocal condition number: 2.279094218926033e-17\n",
      "  ' condition number: {}'.format(rcond), RuntimeWarning)\n",
      "d:\\Users\\Home\\Anaconda3\\lib\\site-packages\\scipy\\linalg\\basic.py:223: RuntimeWarning: scipy.linalg.solve\n",
      "Ill-conditioned matrix detected. Result is not guaranteed to be accurate.\n",
      "Reciprocal condition number: 2.458154039922146e-18\n",
      "  ' condition number: {}'.format(rcond), RuntimeWarning)\n",
      "d:\\Users\\Home\\Anaconda3\\lib\\site-packages\\scipy\\linalg\\basic.py:223: RuntimeWarning: scipy.linalg.solve\n",
      "Ill-conditioned matrix detected. Result is not guaranteed to be accurate.\n",
      "Reciprocal condition number: 4.372405345584137e-18\n",
      "  ' condition number: {}'.format(rcond), RuntimeWarning)\n",
      "d:\\Users\\Home\\Anaconda3\\lib\\site-packages\\sklearn\\linear_model\\coordinate_descent.py:491: ConvergenceWarning: Objective did not converge. You might want to increase the number of iterations. Fitting data with very small alpha may cause precision problems.\n",
      "  ConvergenceWarning)\n",
      "d:\\Users\\Home\\Anaconda3\\lib\\site-packages\\scipy\\linalg\\basic.py:223: RuntimeWarning: scipy.linalg.solve\n",
      "Ill-conditioned matrix detected. Result is not guaranteed to be accurate.\n",
      "Reciprocal condition number: 3.29209677346803e-18\n",
      "  ' condition number: {}'.format(rcond), RuntimeWarning)\n",
      "d:\\Users\\Home\\Anaconda3\\lib\\site-packages\\scipy\\linalg\\basic.py:223: RuntimeWarning: scipy.linalg.solve\n",
      "Ill-conditioned matrix detected. Result is not guaranteed to be accurate.\n",
      "Reciprocal condition number: 1.2661034833503916e-18\n",
      "  ' condition number: {}'.format(rcond), RuntimeWarning)\n",
      "d:\\Users\\Home\\Anaconda3\\lib\\site-packages\\scipy\\linalg\\basic.py:223: RuntimeWarning: scipy.linalg.solve\n",
      "Ill-conditioned matrix detected. Result is not guaranteed to be accurate.\n",
      "Reciprocal condition number: 7.757331921616866e-18\n",
      "  ' condition number: {}'.format(rcond), RuntimeWarning)\n",
      "d:\\Users\\Home\\Anaconda3\\lib\\site-packages\\scipy\\linalg\\basic.py:223: RuntimeWarning: scipy.linalg.solve\n",
      "Ill-conditioned matrix detected. Result is not guaranteed to be accurate.\n",
      "Reciprocal condition number: 2.5710513740319303e-18\n",
      "  ' condition number: {}'.format(rcond), RuntimeWarning)\n",
      "d:\\Users\\Home\\Anaconda3\\lib\\site-packages\\sklearn\\linear_model\\coordinate_descent.py:491: ConvergenceWarning: Objective did not converge. You might want to increase the number of iterations. Fitting data with very small alpha may cause precision problems.\n",
      "  ConvergenceWarning)\n"
     ]
    },
    {
     "name": "stderr",
     "output_type": "stream",
     "text": [
      "d:\\Users\\Home\\Anaconda3\\lib\\site-packages\\sklearn\\linear_model\\coordinate_descent.py:491: ConvergenceWarning: Objective did not converge. You might want to increase the number of iterations. Fitting data with very small alpha may cause precision problems.\n",
      "  ConvergenceWarning)\n",
      "d:\\Users\\Home\\Anaconda3\\lib\\site-packages\\scipy\\linalg\\basic.py:223: RuntimeWarning: scipy.linalg.solve\n",
      "Ill-conditioned matrix detected. Result is not guaranteed to be accurate.\n",
      "Reciprocal condition number: 9.101227730611687e-18\n",
      "  ' condition number: {}'.format(rcond), RuntimeWarning)\n",
      "d:\\Users\\Home\\Anaconda3\\lib\\site-packages\\scipy\\linalg\\basic.py:223: RuntimeWarning: scipy.linalg.solve\n",
      "Ill-conditioned matrix detected. Result is not guaranteed to be accurate.\n",
      "Reciprocal condition number: 1.0002956575850309e-17\n",
      "  ' condition number: {}'.format(rcond), RuntimeWarning)\n",
      "d:\\Users\\Home\\Anaconda3\\lib\\site-packages\\scipy\\linalg\\basic.py:223: RuntimeWarning: scipy.linalg.solve\n",
      "Ill-conditioned matrix detected. Result is not guaranteed to be accurate.\n",
      "Reciprocal condition number: 1.4240750315844018e-18\n",
      "  ' condition number: {}'.format(rcond), RuntimeWarning)\n",
      "d:\\Users\\Home\\Anaconda3\\lib\\site-packages\\scipy\\linalg\\basic.py:223: RuntimeWarning: scipy.linalg.solve\n",
      "Ill-conditioned matrix detected. Result is not guaranteed to be accurate.\n",
      "Reciprocal condition number: 1.461962771098684e-19\n",
      "  ' condition number: {}'.format(rcond), RuntimeWarning)\n",
      "d:\\Users\\Home\\Anaconda3\\lib\\site-packages\\sklearn\\linear_model\\coordinate_descent.py:491: ConvergenceWarning: Objective did not converge. You might want to increase the number of iterations. Fitting data with very small alpha may cause precision problems.\n",
      "  ConvergenceWarning)\n",
      "d:\\Users\\Home\\Anaconda3\\lib\\site-packages\\scipy\\linalg\\basic.py:223: RuntimeWarning: scipy.linalg.solve\n",
      "Ill-conditioned matrix detected. Result is not guaranteed to be accurate.\n",
      "Reciprocal condition number: 4.779660804297438e-18\n",
      "  ' condition number: {}'.format(rcond), RuntimeWarning)\n",
      "d:\\Users\\Home\\Anaconda3\\lib\\site-packages\\scipy\\linalg\\basic.py:223: RuntimeWarning: scipy.linalg.solve\n",
      "Ill-conditioned matrix detected. Result is not guaranteed to be accurate.\n",
      "Reciprocal condition number: 9.419004194686286e-18\n",
      "  ' condition number: {}'.format(rcond), RuntimeWarning)\n",
      "d:\\Users\\Home\\Anaconda3\\lib\\site-packages\\scipy\\linalg\\basic.py:223: RuntimeWarning: scipy.linalg.solve\n",
      "Ill-conditioned matrix detected. Result is not guaranteed to be accurate.\n",
      "Reciprocal condition number: 1.612457535825793e-17\n",
      "  ' condition number: {}'.format(rcond), RuntimeWarning)\n",
      "d:\\Users\\Home\\Anaconda3\\lib\\site-packages\\scipy\\linalg\\basic.py:223: RuntimeWarning: scipy.linalg.solve\n",
      "Ill-conditioned matrix detected. Result is not guaranteed to be accurate.\n",
      "Reciprocal condition number: 2.3061067228281655e-18\n",
      "  ' condition number: {}'.format(rcond), RuntimeWarning)\n",
      "d:\\Users\\Home\\Anaconda3\\lib\\site-packages\\scipy\\linalg\\basic.py:223: RuntimeWarning: scipy.linalg.solve\n",
      "Ill-conditioned matrix detected. Result is not guaranteed to be accurate.\n",
      "Reciprocal condition number: 1.416287006264019e-18\n",
      "  ' condition number: {}'.format(rcond), RuntimeWarning)\n",
      "d:\\Users\\Home\\Anaconda3\\lib\\site-packages\\sklearn\\linear_model\\coordinate_descent.py:491: ConvergenceWarning: Objective did not converge. You might want to increase the number of iterations. Fitting data with very small alpha may cause precision problems.\n",
      "  ConvergenceWarning)\n",
      "d:\\Users\\Home\\Anaconda3\\lib\\site-packages\\scipy\\linalg\\basic.py:223: RuntimeWarning: scipy.linalg.solve\n",
      "Ill-conditioned matrix detected. Result is not guaranteed to be accurate.\n",
      "Reciprocal condition number: 1.834626431878333e-18\n",
      "  ' condition number: {}'.format(rcond), RuntimeWarning)\n",
      "d:\\Users\\Home\\Anaconda3\\lib\\site-packages\\scipy\\linalg\\basic.py:223: RuntimeWarning: scipy.linalg.solve\n",
      "Ill-conditioned matrix detected. Result is not guaranteed to be accurate.\n",
      "Reciprocal condition number: 1.3617033517307531e-18\n",
      "  ' condition number: {}'.format(rcond), RuntimeWarning)\n",
      "d:\\Users\\Home\\Anaconda3\\lib\\site-packages\\scipy\\linalg\\basic.py:223: RuntimeWarning: scipy.linalg.solve\n",
      "Ill-conditioned matrix detected. Result is not guaranteed to be accurate.\n",
      "Reciprocal condition number: 3.4660653569255424e-17\n",
      "  ' condition number: {}'.format(rcond), RuntimeWarning)\n",
      "d:\\Users\\Home\\Anaconda3\\lib\\site-packages\\scipy\\linalg\\basic.py:223: RuntimeWarning: scipy.linalg.solve\n",
      "Ill-conditioned matrix detected. Result is not guaranteed to be accurate.\n",
      "Reciprocal condition number: 1.7400742706573258e-18\n",
      "  ' condition number: {}'.format(rcond), RuntimeWarning)\n",
      "d:\\Users\\Home\\Anaconda3\\lib\\site-packages\\scipy\\linalg\\basic.py:223: RuntimeWarning: scipy.linalg.solve\n",
      "Ill-conditioned matrix detected. Result is not guaranteed to be accurate.\n",
      "Reciprocal condition number: 1.0069950441221113e-17\n",
      "  ' condition number: {}'.format(rcond), RuntimeWarning)\n",
      "d:\\Users\\Home\\Anaconda3\\lib\\site-packages\\sklearn\\linear_model\\coordinate_descent.py:491: ConvergenceWarning: Objective did not converge. You might want to increase the number of iterations. Fitting data with very small alpha may cause precision problems.\n",
      "  ConvergenceWarning)\n"
     ]
    },
    {
     "name": "stdout",
     "output_type": "stream",
     "text": [
      "[0.4633276615137244, 0.67381576913665808, 0.48235230995784767, 0.52625282465591638, 0.71503622035165448, 0.61567392766579887, 0.67883348168514746, 0.650750958378015, 0.64975721273162901, 0.56695036682942068]\n",
      "0.649007494527\n"
     ]
    },
    {
     "name": "stderr",
     "output_type": "stream",
     "text": [
      "d:\\Users\\Home\\Anaconda3\\lib\\site-packages\\scipy\\linalg\\basic.py:223: RuntimeWarning: scipy.linalg.solve\n",
      "Ill-conditioned matrix detected. Result is not guaranteed to be accurate.\n",
      "Reciprocal condition number: 9.201497218702189e-18\n",
      "  ' condition number: {}'.format(rcond), RuntimeWarning)\n",
      "d:\\Users\\Home\\Anaconda3\\lib\\site-packages\\scipy\\linalg\\basic.py:223: RuntimeWarning: scipy.linalg.solve\n",
      "Ill-conditioned matrix detected. Result is not guaranteed to be accurate.\n",
      "Reciprocal condition number: 9.522089009153839e-18\n",
      "  ' condition number: {}'.format(rcond), RuntimeWarning)\n",
      "d:\\Users\\Home\\Anaconda3\\lib\\site-packages\\scipy\\linalg\\basic.py:223: RuntimeWarning: scipy.linalg.solve\n",
      "Ill-conditioned matrix detected. Result is not guaranteed to be accurate.\n",
      "Reciprocal condition number: 7.173216169119273e-18\n",
      "  ' condition number: {}'.format(rcond), RuntimeWarning)\n",
      "d:\\Users\\Home\\Anaconda3\\lib\\site-packages\\scipy\\linalg\\basic.py:223: RuntimeWarning: scipy.linalg.solve\n",
      "Ill-conditioned matrix detected. Result is not guaranteed to be accurate.\n",
      "Reciprocal condition number: 8.532603895679223e-18\n",
      "  ' condition number: {}'.format(rcond), RuntimeWarning)\n",
      "d:\\Users\\Home\\Anaconda3\\lib\\site-packages\\scipy\\linalg\\basic.py:223: RuntimeWarning: scipy.linalg.solve\n",
      "Ill-conditioned matrix detected. Result is not guaranteed to be accurate.\n",
      "Reciprocal condition number: 1.3965587936916385e-17\n",
      "  ' condition number: {}'.format(rcond), RuntimeWarning)\n",
      "d:\\Users\\Home\\Anaconda3\\lib\\site-packages\\sklearn\\linear_model\\coordinate_descent.py:491: ConvergenceWarning: Objective did not converge. You might want to increase the number of iterations. Fitting data with very small alpha may cause precision problems.\n",
      "  ConvergenceWarning)\n",
      "d:\\Users\\Home\\Anaconda3\\lib\\site-packages\\scipy\\linalg\\basic.py:223: RuntimeWarning: scipy.linalg.solve\n",
      "Ill-conditioned matrix detected. Result is not guaranteed to be accurate.\n",
      "Reciprocal condition number: 2.1164894939613497e-17\n",
      "  ' condition number: {}'.format(rcond), RuntimeWarning)\n",
      "d:\\Users\\Home\\Anaconda3\\lib\\site-packages\\scipy\\linalg\\basic.py:223: RuntimeWarning: scipy.linalg.solve\n",
      "Ill-conditioned matrix detected. Result is not guaranteed to be accurate.\n",
      "Reciprocal condition number: 2.4211929284332516e-17\n",
      "  ' condition number: {}'.format(rcond), RuntimeWarning)\n",
      "d:\\Users\\Home\\Anaconda3\\lib\\site-packages\\scipy\\linalg\\basic.py:223: RuntimeWarning: scipy.linalg.solve\n",
      "Ill-conditioned matrix detected. Result is not guaranteed to be accurate.\n",
      "Reciprocal condition number: 1.7875500156564297e-18\n",
      "  ' condition number: {}'.format(rcond), RuntimeWarning)\n",
      "d:\\Users\\Home\\Anaconda3\\lib\\site-packages\\scipy\\linalg\\basic.py:223: RuntimeWarning: scipy.linalg.solve\n",
      "Ill-conditioned matrix detected. Result is not guaranteed to be accurate.\n",
      "Reciprocal condition number: 1.883699995404668e-17\n",
      "  ' condition number: {}'.format(rcond), RuntimeWarning)\n",
      "d:\\Users\\Home\\Anaconda3\\lib\\site-packages\\scipy\\linalg\\basic.py:223: RuntimeWarning: scipy.linalg.solve\n",
      "Ill-conditioned matrix detected. Result is not guaranteed to be accurate.\n",
      "Reciprocal condition number: 2.2671000276221842e-17\n",
      "  ' condition number: {}'.format(rcond), RuntimeWarning)\n",
      "d:\\Users\\Home\\Anaconda3\\lib\\site-packages\\sklearn\\linear_model\\coordinate_descent.py:491: ConvergenceWarning: Objective did not converge. You might want to increase the number of iterations. Fitting data with very small alpha may cause precision problems.\n",
      "  ConvergenceWarning)\n",
      "d:\\Users\\Home\\Anaconda3\\lib\\site-packages\\scipy\\linalg\\basic.py:223: RuntimeWarning: scipy.linalg.solve\n",
      "Ill-conditioned matrix detected. Result is not guaranteed to be accurate.\n",
      "Reciprocal condition number: 1.2478591246598862e-17\n",
      "  ' condition number: {}'.format(rcond), RuntimeWarning)\n",
      "d:\\Users\\Home\\Anaconda3\\lib\\site-packages\\scipy\\linalg\\basic.py:223: RuntimeWarning: scipy.linalg.solve\n",
      "Ill-conditioned matrix detected. Result is not guaranteed to be accurate.\n",
      "Reciprocal condition number: 2.9145001875981124e-17\n",
      "  ' condition number: {}'.format(rcond), RuntimeWarning)\n",
      "d:\\Users\\Home\\Anaconda3\\lib\\site-packages\\scipy\\linalg\\basic.py:223: RuntimeWarning: scipy.linalg.solve\n",
      "Ill-conditioned matrix detected. Result is not guaranteed to be accurate.\n",
      "Reciprocal condition number: 4.4449148892036274e-18\n",
      "  ' condition number: {}'.format(rcond), RuntimeWarning)\n",
      "d:\\Users\\Home\\Anaconda3\\lib\\site-packages\\scipy\\linalg\\basic.py:223: RuntimeWarning: scipy.linalg.solve\n",
      "Ill-conditioned matrix detected. Result is not guaranteed to be accurate.\n",
      "Reciprocal condition number: 5.206783537014665e-18\n",
      "  ' condition number: {}'.format(rcond), RuntimeWarning)\n",
      "d:\\Users\\Home\\Anaconda3\\lib\\site-packages\\scipy\\linalg\\basic.py:223: RuntimeWarning: scipy.linalg.solve\n",
      "Ill-conditioned matrix detected. Result is not guaranteed to be accurate.\n",
      "Reciprocal condition number: 2.9357924829811415e-17\n",
      "  ' condition number: {}'.format(rcond), RuntimeWarning)\n",
      "d:\\Users\\Home\\Anaconda3\\lib\\site-packages\\sklearn\\linear_model\\coordinate_descent.py:491: ConvergenceWarning: Objective did not converge. You might want to increase the number of iterations. Fitting data with very small alpha may cause precision problems.\n",
      "  ConvergenceWarning)\n",
      "d:\\Users\\Home\\Anaconda3\\lib\\site-packages\\scipy\\linalg\\basic.py:223: RuntimeWarning: scipy.linalg.solve\n",
      "Ill-conditioned matrix detected. Result is not guaranteed to be accurate.\n",
      "Reciprocal condition number: 3.977042747538567e-19\n",
      "  ' condition number: {}'.format(rcond), RuntimeWarning)\n",
      "d:\\Users\\Home\\Anaconda3\\lib\\site-packages\\scipy\\linalg\\basic.py:223: RuntimeWarning: scipy.linalg.solve\n",
      "Ill-conditioned matrix detected. Result is not guaranteed to be accurate.\n",
      "Reciprocal condition number: 4.052747297362394e-17\n",
      "  ' condition number: {}'.format(rcond), RuntimeWarning)\n",
      "d:\\Users\\Home\\Anaconda3\\lib\\site-packages\\scipy\\linalg\\basic.py:223: RuntimeWarning: scipy.linalg.solve\n",
      "Ill-conditioned matrix detected. Result is not guaranteed to be accurate.\n",
      "Reciprocal condition number: 1.6412106711270458e-18\n",
      "  ' condition number: {}'.format(rcond), RuntimeWarning)\n",
      "d:\\Users\\Home\\Anaconda3\\lib\\site-packages\\scipy\\linalg\\basic.py:223: RuntimeWarning: scipy.linalg.solve\n",
      "Ill-conditioned matrix detected. Result is not guaranteed to be accurate.\n",
      "Reciprocal condition number: 3.87779610546153e-17\n",
      "  ' condition number: {}'.format(rcond), RuntimeWarning)\n",
      "d:\\Users\\Home\\Anaconda3\\lib\\site-packages\\sklearn\\linear_model\\coordinate_descent.py:491: ConvergenceWarning: Objective did not converge. You might want to increase the number of iterations. Fitting data with very small alpha may cause precision problems.\n",
      "  ConvergenceWarning)\n",
      "d:\\Users\\Home\\Anaconda3\\lib\\site-packages\\scipy\\linalg\\basic.py:223: RuntimeWarning: scipy.linalg.solve\n",
      "Ill-conditioned matrix detected. Result is not guaranteed to be accurate.\n",
      "Reciprocal condition number: 1.9461304580844883e-17\n",
      "  ' condition number: {}'.format(rcond), RuntimeWarning)\n",
      "d:\\Users\\Home\\Anaconda3\\lib\\site-packages\\scipy\\linalg\\basic.py:223: RuntimeWarning: scipy.linalg.solve\n",
      "Ill-conditioned matrix detected. Result is not guaranteed to be accurate.\n",
      "Reciprocal condition number: 2.906999985771449e-17\n",
      "  ' condition number: {}'.format(rcond), RuntimeWarning)\n",
      "d:\\Users\\Home\\Anaconda3\\lib\\site-packages\\scipy\\linalg\\basic.py:223: RuntimeWarning: scipy.linalg.solve\n",
      "Ill-conditioned matrix detected. Result is not guaranteed to be accurate.\n",
      "Reciprocal condition number: 1.603886599710666e-17\n",
      "  ' condition number: {}'.format(rcond), RuntimeWarning)\n",
      "d:\\Users\\Home\\Anaconda3\\lib\\site-packages\\scipy\\linalg\\basic.py:223: RuntimeWarning: scipy.linalg.solve\n",
      "Ill-conditioned matrix detected. Result is not guaranteed to be accurate.\n",
      "Reciprocal condition number: 1.5372842905225728e-17\n",
      "  ' condition number: {}'.format(rcond), RuntimeWarning)\n",
      "d:\\Users\\Home\\Anaconda3\\lib\\site-packages\\scipy\\linalg\\basic.py:223: RuntimeWarning: scipy.linalg.solve\n",
      "Ill-conditioned matrix detected. Result is not guaranteed to be accurate.\n",
      "Reciprocal condition number: 3.044255613329639e-17\n",
      "  ' condition number: {}'.format(rcond), RuntimeWarning)\n",
      "d:\\Users\\Home\\Anaconda3\\lib\\site-packages\\sklearn\\linear_model\\coordinate_descent.py:491: ConvergenceWarning: Objective did not converge. You might want to increase the number of iterations. Fitting data with very small alpha may cause precision problems.\n",
      "  ConvergenceWarning)\n",
      "d:\\Users\\Home\\Anaconda3\\lib\\site-packages\\sklearn\\linear_model\\coordinate_descent.py:491: ConvergenceWarning: Objective did not converge. You might want to increase the number of iterations. Fitting data with very small alpha may cause precision problems.\n",
      "  ConvergenceWarning)\n",
      "d:\\Users\\Home\\Anaconda3\\lib\\site-packages\\scipy\\linalg\\basic.py:223: RuntimeWarning: scipy.linalg.solve\n",
      "Ill-conditioned matrix detected. Result is not guaranteed to be accurate.\n",
      "Reciprocal condition number: 1.238906255447992e-17\n",
      "  ' condition number: {}'.format(rcond), RuntimeWarning)\n",
      "d:\\Users\\Home\\Anaconda3\\lib\\site-packages\\scipy\\linalg\\basic.py:223: RuntimeWarning: scipy.linalg.solve\n",
      "Ill-conditioned matrix detected. Result is not guaranteed to be accurate.\n",
      "Reciprocal condition number: 8.566432086945804e-18\n",
      "  ' condition number: {}'.format(rcond), RuntimeWarning)\n",
      "d:\\Users\\Home\\Anaconda3\\lib\\site-packages\\scipy\\linalg\\basic.py:223: RuntimeWarning: scipy.linalg.solve\n",
      "Ill-conditioned matrix detected. Result is not guaranteed to be accurate.\n",
      "Reciprocal condition number: 6.0081558153493766e-18\n",
      "  ' condition number: {}'.format(rcond), RuntimeWarning)\n",
      "d:\\Users\\Home\\Anaconda3\\lib\\site-packages\\scipy\\linalg\\basic.py:223: RuntimeWarning: scipy.linalg.solve\n",
      "Ill-conditioned matrix detected. Result is not guaranteed to be accurate.\n",
      "Reciprocal condition number: 1.8636832546974325e-17\n",
      "  ' condition number: {}'.format(rcond), RuntimeWarning)\n",
      "d:\\Users\\Home\\Anaconda3\\lib\\site-packages\\scipy\\linalg\\basic.py:223: RuntimeWarning: scipy.linalg.solve\n",
      "Ill-conditioned matrix detected. Result is not guaranteed to be accurate.\n",
      "Reciprocal condition number: 1.8745694906189627e-17\n",
      "  ' condition number: {}'.format(rcond), RuntimeWarning)\n"
     ]
    },
    {
     "name": "stderr",
     "output_type": "stream",
     "text": [
      "d:\\Users\\Home\\Anaconda3\\lib\\site-packages\\sklearn\\linear_model\\coordinate_descent.py:491: ConvergenceWarning: Objective did not converge. You might want to increase the number of iterations. Fitting data with very small alpha may cause precision problems.\n",
      "  ConvergenceWarning)\n",
      "d:\\Users\\Home\\Anaconda3\\lib\\site-packages\\scipy\\linalg\\basic.py:223: RuntimeWarning: scipy.linalg.solve\n",
      "Ill-conditioned matrix detected. Result is not guaranteed to be accurate.\n",
      "Reciprocal condition number: 1.391607827476051e-17\n",
      "  ' condition number: {}'.format(rcond), RuntimeWarning)\n",
      "d:\\Users\\Home\\Anaconda3\\lib\\site-packages\\scipy\\linalg\\basic.py:223: RuntimeWarning: scipy.linalg.solve\n",
      "Ill-conditioned matrix detected. Result is not guaranteed to be accurate.\n",
      "Reciprocal condition number: 6.5255158272852314e-18\n",
      "  ' condition number: {}'.format(rcond), RuntimeWarning)\n",
      "d:\\Users\\Home\\Anaconda3\\lib\\site-packages\\scipy\\linalg\\basic.py:223: RuntimeWarning: scipy.linalg.solve\n",
      "Ill-conditioned matrix detected. Result is not guaranteed to be accurate.\n",
      "Reciprocal condition number: 1.9843594948718873e-17\n",
      "  ' condition number: {}'.format(rcond), RuntimeWarning)\n",
      "d:\\Users\\Home\\Anaconda3\\lib\\site-packages\\scipy\\linalg\\basic.py:223: RuntimeWarning: scipy.linalg.solve\n",
      "Ill-conditioned matrix detected. Result is not guaranteed to be accurate.\n",
      "Reciprocal condition number: 4.387707575578546e-18\n",
      "  ' condition number: {}'.format(rcond), RuntimeWarning)\n",
      "d:\\Users\\Home\\Anaconda3\\lib\\site-packages\\scipy\\linalg\\basic.py:223: RuntimeWarning: scipy.linalg.solve\n",
      "Ill-conditioned matrix detected. Result is not guaranteed to be accurate.\n",
      "Reciprocal condition number: 2.939783367315558e-18\n",
      "  ' condition number: {}'.format(rcond), RuntimeWarning)\n",
      "d:\\Users\\Home\\Anaconda3\\lib\\site-packages\\sklearn\\linear_model\\coordinate_descent.py:491: ConvergenceWarning: Objective did not converge. You might want to increase the number of iterations. Fitting data with very small alpha may cause precision problems.\n",
      "  ConvergenceWarning)\n",
      "d:\\Users\\Home\\Anaconda3\\lib\\site-packages\\scipy\\linalg\\basic.py:223: RuntimeWarning: scipy.linalg.solve\n",
      "Ill-conditioned matrix detected. Result is not guaranteed to be accurate.\n",
      "Reciprocal condition number: 1.3048472509827735e-17\n",
      "  ' condition number: {}'.format(rcond), RuntimeWarning)\n",
      "d:\\Users\\Home\\Anaconda3\\lib\\site-packages\\scipy\\linalg\\basic.py:223: RuntimeWarning: scipy.linalg.solve\n",
      "Ill-conditioned matrix detected. Result is not guaranteed to be accurate.\n",
      "Reciprocal condition number: 2.227261797363631e-17\n",
      "  ' condition number: {}'.format(rcond), RuntimeWarning)\n",
      "d:\\Users\\Home\\Anaconda3\\lib\\site-packages\\scipy\\linalg\\basic.py:223: RuntimeWarning: scipy.linalg.solve\n",
      "Ill-conditioned matrix detected. Result is not guaranteed to be accurate.\n",
      "Reciprocal condition number: 1.511601104331709e-19\n",
      "  ' condition number: {}'.format(rcond), RuntimeWarning)\n",
      "d:\\Users\\Home\\Anaconda3\\lib\\site-packages\\scipy\\linalg\\basic.py:223: RuntimeWarning: scipy.linalg.solve\n",
      "Ill-conditioned matrix detected. Result is not guaranteed to be accurate.\n",
      "Reciprocal condition number: 5.925834702684773e-18\n",
      "  ' condition number: {}'.format(rcond), RuntimeWarning)\n",
      "d:\\Users\\Home\\Anaconda3\\lib\\site-packages\\scipy\\linalg\\basic.py:223: RuntimeWarning: scipy.linalg.solve\n",
      "Ill-conditioned matrix detected. Result is not guaranteed to be accurate.\n",
      "Reciprocal condition number: 2.0270116794638513e-17\n",
      "  ' condition number: {}'.format(rcond), RuntimeWarning)\n",
      "d:\\Users\\Home\\Anaconda3\\lib\\site-packages\\sklearn\\linear_model\\coordinate_descent.py:491: ConvergenceWarning: Objective did not converge. You might want to increase the number of iterations. Fitting data with very small alpha may cause precision problems.\n",
      "  ConvergenceWarning)\n",
      "d:\\Users\\Home\\Anaconda3\\lib\\site-packages\\scipy\\linalg\\basic.py:223: RuntimeWarning: scipy.linalg.solve\n",
      "Ill-conditioned matrix detected. Result is not guaranteed to be accurate.\n",
      "Reciprocal condition number: 1.5443429778379115e-17\n",
      "  ' condition number: {}'.format(rcond), RuntimeWarning)\n",
      "d:\\Users\\Home\\Anaconda3\\lib\\site-packages\\scipy\\linalg\\basic.py:223: RuntimeWarning: scipy.linalg.solve\n",
      "Ill-conditioned matrix detected. Result is not guaranteed to be accurate.\n",
      "Reciprocal condition number: 3.781425984310112e-17\n",
      "  ' condition number: {}'.format(rcond), RuntimeWarning)\n",
      "d:\\Users\\Home\\Anaconda3\\lib\\site-packages\\scipy\\linalg\\basic.py:223: RuntimeWarning: scipy.linalg.solve\n",
      "Ill-conditioned matrix detected. Result is not guaranteed to be accurate.\n",
      "Reciprocal condition number: 8.116041449289505e-18\n",
      "  ' condition number: {}'.format(rcond), RuntimeWarning)\n",
      "d:\\Users\\Home\\Anaconda3\\lib\\site-packages\\scipy\\linalg\\basic.py:223: RuntimeWarning: scipy.linalg.solve\n",
      "Ill-conditioned matrix detected. Result is not guaranteed to be accurate.\n",
      "Reciprocal condition number: 9.746762625198928e-18\n",
      "  ' condition number: {}'.format(rcond), RuntimeWarning)\n",
      "d:\\Users\\Home\\Anaconda3\\lib\\site-packages\\scipy\\linalg\\basic.py:223: RuntimeWarning: scipy.linalg.solve\n",
      "Ill-conditioned matrix detected. Result is not guaranteed to be accurate.\n",
      "Reciprocal condition number: 3.181610352915871e-18\n",
      "  ' condition number: {}'.format(rcond), RuntimeWarning)\n",
      "d:\\Users\\Home\\Anaconda3\\lib\\site-packages\\sklearn\\linear_model\\coordinate_descent.py:491: ConvergenceWarning: Objective did not converge. You might want to increase the number of iterations. Fitting data with very small alpha may cause precision problems.\n",
      "  ConvergenceWarning)\n"
     ]
    },
    {
     "name": "stdout",
     "output_type": "stream",
     "text": [
      "[0.68806710559763307, 0.61762881975776951, 0.61814941843192783, 0.64893519915932329, 0.62557469441231195, 0.66001851002164957, 0.64434957210598243, 0.55285921969870211, 0.72161900326213801, 0.5544861719266192]\n",
      "0.640157364968\n"
     ]
    },
    {
     "name": "stderr",
     "output_type": "stream",
     "text": [
      "d:\\Users\\Home\\Anaconda3\\lib\\site-packages\\scipy\\linalg\\basic.py:223: RuntimeWarning: scipy.linalg.solve\n",
      "Ill-conditioned matrix detected. Result is not guaranteed to be accurate.\n",
      "Reciprocal condition number: 2.1510283386388573e-18\n",
      "  ' condition number: {}'.format(rcond), RuntimeWarning)\n",
      "d:\\Users\\Home\\Anaconda3\\lib\\site-packages\\scipy\\linalg\\basic.py:223: RuntimeWarning: scipy.linalg.solve\n",
      "Ill-conditioned matrix detected. Result is not guaranteed to be accurate.\n",
      "Reciprocal condition number: 1.8279826158543897e-18\n",
      "  ' condition number: {}'.format(rcond), RuntimeWarning)\n",
      "d:\\Users\\Home\\Anaconda3\\lib\\site-packages\\scipy\\linalg\\basic.py:223: RuntimeWarning: scipy.linalg.solve\n",
      "Ill-conditioned matrix detected. Result is not guaranteed to be accurate.\n",
      "Reciprocal condition number: 9.845778184155961e-18\n",
      "  ' condition number: {}'.format(rcond), RuntimeWarning)\n",
      "d:\\Users\\Home\\Anaconda3\\lib\\site-packages\\scipy\\linalg\\basic.py:223: RuntimeWarning: scipy.linalg.solve\n",
      "Ill-conditioned matrix detected. Result is not guaranteed to be accurate.\n",
      "Reciprocal condition number: 2.602444773755221e-17\n",
      "  ' condition number: {}'.format(rcond), RuntimeWarning)\n",
      "d:\\Users\\Home\\Anaconda3\\lib\\site-packages\\scipy\\linalg\\basic.py:223: RuntimeWarning: scipy.linalg.solve\n",
      "Ill-conditioned matrix detected. Result is not guaranteed to be accurate.\n",
      "Reciprocal condition number: 2.0428545049189255e-17\n",
      "  ' condition number: {}'.format(rcond), RuntimeWarning)\n",
      "d:\\Users\\Home\\Anaconda3\\lib\\site-packages\\sklearn\\linear_model\\coordinate_descent.py:491: ConvergenceWarning: Objective did not converge. You might want to increase the number of iterations. Fitting data with very small alpha may cause precision problems.\n",
      "  ConvergenceWarning)\n",
      "d:\\Users\\Home\\Anaconda3\\lib\\site-packages\\scipy\\linalg\\basic.py:223: RuntimeWarning: scipy.linalg.solve\n",
      "Ill-conditioned matrix detected. Result is not guaranteed to be accurate.\n",
      "Reciprocal condition number: 2.1268142321430115e-17\n",
      "  ' condition number: {}'.format(rcond), RuntimeWarning)\n",
      "d:\\Users\\Home\\Anaconda3\\lib\\site-packages\\scipy\\linalg\\basic.py:223: RuntimeWarning: scipy.linalg.solve\n",
      "Ill-conditioned matrix detected. Result is not guaranteed to be accurate.\n",
      "Reciprocal condition number: 7.096618686984176e-18\n",
      "  ' condition number: {}'.format(rcond), RuntimeWarning)\n",
      "d:\\Users\\Home\\Anaconda3\\lib\\site-packages\\scipy\\linalg\\basic.py:223: RuntimeWarning: scipy.linalg.solve\n",
      "Ill-conditioned matrix detected. Result is not guaranteed to be accurate.\n",
      "Reciprocal condition number: 4.230864759439719e-18\n",
      "  ' condition number: {}'.format(rcond), RuntimeWarning)\n",
      "d:\\Users\\Home\\Anaconda3\\lib\\site-packages\\scipy\\linalg\\basic.py:223: RuntimeWarning: scipy.linalg.solve\n",
      "Ill-conditioned matrix detected. Result is not guaranteed to be accurate.\n",
      "Reciprocal condition number: 4.539563398642977e-17\n",
      "  ' condition number: {}'.format(rcond), RuntimeWarning)\n",
      "d:\\Users\\Home\\Anaconda3\\lib\\site-packages\\scipy\\linalg\\basic.py:223: RuntimeWarning: scipy.linalg.solve\n",
      "Ill-conditioned matrix detected. Result is not guaranteed to be accurate.\n",
      "Reciprocal condition number: 5.102498752275708e-18\n",
      "  ' condition number: {}'.format(rcond), RuntimeWarning)\n",
      "d:\\Users\\Home\\Anaconda3\\lib\\site-packages\\sklearn\\linear_model\\coordinate_descent.py:491: ConvergenceWarning: Objective did not converge. You might want to increase the number of iterations. Fitting data with very small alpha may cause precision problems.\n",
      "  ConvergenceWarning)\n",
      "d:\\Users\\Home\\Anaconda3\\lib\\site-packages\\scipy\\linalg\\basic.py:223: RuntimeWarning: scipy.linalg.solve\n",
      "Ill-conditioned matrix detected. Result is not guaranteed to be accurate.\n",
      "Reciprocal condition number: 3.1358574570445334e-17\n",
      "  ' condition number: {}'.format(rcond), RuntimeWarning)\n",
      "d:\\Users\\Home\\Anaconda3\\lib\\site-packages\\scipy\\linalg\\basic.py:223: RuntimeWarning: scipy.linalg.solve\n",
      "Ill-conditioned matrix detected. Result is not guaranteed to be accurate.\n",
      "Reciprocal condition number: 5.1711219538656734e-17\n",
      "  ' condition number: {}'.format(rcond), RuntimeWarning)\n",
      "d:\\Users\\Home\\Anaconda3\\lib\\site-packages\\scipy\\linalg\\basic.py:223: RuntimeWarning: scipy.linalg.solve\n",
      "Ill-conditioned matrix detected. Result is not guaranteed to be accurate.\n",
      "Reciprocal condition number: 7.061261881187802e-18\n",
      "  ' condition number: {}'.format(rcond), RuntimeWarning)\n",
      "d:\\Users\\Home\\Anaconda3\\lib\\site-packages\\scipy\\linalg\\basic.py:223: RuntimeWarning: scipy.linalg.solve\n",
      "Ill-conditioned matrix detected. Result is not guaranteed to be accurate.\n",
      "Reciprocal condition number: 3.4395101380230866e-18\n",
      "  ' condition number: {}'.format(rcond), RuntimeWarning)\n",
      "d:\\Users\\Home\\Anaconda3\\lib\\site-packages\\sklearn\\linear_model\\coordinate_descent.py:491: ConvergenceWarning: Objective did not converge. You might want to increase the number of iterations. Fitting data with very small alpha may cause precision problems.\n",
      "  ConvergenceWarning)\n",
      "d:\\Users\\Home\\Anaconda3\\lib\\site-packages\\scipy\\linalg\\basic.py:223: RuntimeWarning: scipy.linalg.solve\n",
      "Ill-conditioned matrix detected. Result is not guaranteed to be accurate.\n",
      "Reciprocal condition number: 1.4361405672221186e-17\n",
      "  ' condition number: {}'.format(rcond), RuntimeWarning)\n",
      "d:\\Users\\Home\\Anaconda3\\lib\\site-packages\\scipy\\linalg\\basic.py:223: RuntimeWarning: scipy.linalg.solve\n",
      "Ill-conditioned matrix detected. Result is not guaranteed to be accurate.\n",
      "Reciprocal condition number: 3.935593616040484e-17\n",
      "  ' condition number: {}'.format(rcond), RuntimeWarning)\n",
      "d:\\Users\\Home\\Anaconda3\\lib\\site-packages\\scipy\\linalg\\basic.py:223: RuntimeWarning: scipy.linalg.solve\n",
      "Ill-conditioned matrix detected. Result is not guaranteed to be accurate.\n",
      "Reciprocal condition number: 1.2633335500841148e-17\n",
      "  ' condition number: {}'.format(rcond), RuntimeWarning)\n",
      "d:\\Users\\Home\\Anaconda3\\lib\\site-packages\\scipy\\linalg\\basic.py:223: RuntimeWarning: scipy.linalg.solve\n",
      "Ill-conditioned matrix detected. Result is not guaranteed to be accurate.\n",
      "Reciprocal condition number: 1.669636006511844e-17\n",
      "  ' condition number: {}'.format(rcond), RuntimeWarning)\n",
      "d:\\Users\\Home\\Anaconda3\\lib\\site-packages\\scipy\\linalg\\basic.py:223: RuntimeWarning: scipy.linalg.solve\n",
      "Ill-conditioned matrix detected. Result is not guaranteed to be accurate.\n",
      "Reciprocal condition number: 6.188089032518855e-18\n",
      "  ' condition number: {}'.format(rcond), RuntimeWarning)\n",
      "d:\\Users\\Home\\Anaconda3\\lib\\site-packages\\sklearn\\linear_model\\coordinate_descent.py:491: ConvergenceWarning: Objective did not converge. You might want to increase the number of iterations. Fitting data with very small alpha may cause precision problems.\n",
      "  ConvergenceWarning)\n",
      "d:\\Users\\Home\\Anaconda3\\lib\\site-packages\\sklearn\\linear_model\\coordinate_descent.py:491: ConvergenceWarning: Objective did not converge. You might want to increase the number of iterations. Fitting data with very small alpha may cause precision problems.\n",
      "  ConvergenceWarning)\n",
      "d:\\Users\\Home\\Anaconda3\\lib\\site-packages\\scipy\\linalg\\basic.py:223: RuntimeWarning: scipy.linalg.solve\n",
      "Ill-conditioned matrix detected. Result is not guaranteed to be accurate.\n",
      "Reciprocal condition number: 6.598965478664452e-17\n",
      "  ' condition number: {}'.format(rcond), RuntimeWarning)\n",
      "d:\\Users\\Home\\Anaconda3\\lib\\site-packages\\scipy\\linalg\\basic.py:223: RuntimeWarning: scipy.linalg.solve\n",
      "Ill-conditioned matrix detected. Result is not guaranteed to be accurate.\n",
      "Reciprocal condition number: 1.882019205988955e-18\n",
      "  ' condition number: {}'.format(rcond), RuntimeWarning)\n",
      "d:\\Users\\Home\\Anaconda3\\lib\\site-packages\\scipy\\linalg\\basic.py:223: RuntimeWarning: scipy.linalg.solve\n",
      "Ill-conditioned matrix detected. Result is not guaranteed to be accurate.\n",
      "Reciprocal condition number: 1.0278784737880611e-18\n",
      "  ' condition number: {}'.format(rcond), RuntimeWarning)\n",
      "d:\\Users\\Home\\Anaconda3\\lib\\site-packages\\scipy\\linalg\\basic.py:223: RuntimeWarning: scipy.linalg.solve\n",
      "Ill-conditioned matrix detected. Result is not guaranteed to be accurate.\n",
      "Reciprocal condition number: 6.440027912392049e-18\n",
      "  ' condition number: {}'.format(rcond), RuntimeWarning)\n",
      "d:\\Users\\Home\\Anaconda3\\lib\\site-packages\\scipy\\linalg\\basic.py:223: RuntimeWarning: scipy.linalg.solve\n",
      "Ill-conditioned matrix detected. Result is not guaranteed to be accurate.\n",
      "Reciprocal condition number: 1.3987307457009485e-17\n",
      "  ' condition number: {}'.format(rcond), RuntimeWarning)\n",
      "d:\\Users\\Home\\Anaconda3\\lib\\site-packages\\sklearn\\linear_model\\coordinate_descent.py:491: ConvergenceWarning: Objective did not converge. You might want to increase the number of iterations. Fitting data with very small alpha may cause precision problems.\n",
      "  ConvergenceWarning)\n"
     ]
    },
    {
     "name": "stderr",
     "output_type": "stream",
     "text": [
      "d:\\Users\\Home\\Anaconda3\\lib\\site-packages\\scipy\\linalg\\basic.py:223: RuntimeWarning: scipy.linalg.solve\n",
      "Ill-conditioned matrix detected. Result is not guaranteed to be accurate.\n",
      "Reciprocal condition number: 1.2341369187084283e-17\n",
      "  ' condition number: {}'.format(rcond), RuntimeWarning)\n",
      "d:\\Users\\Home\\Anaconda3\\lib\\site-packages\\scipy\\linalg\\basic.py:223: RuntimeWarning: scipy.linalg.solve\n",
      "Ill-conditioned matrix detected. Result is not guaranteed to be accurate.\n",
      "Reciprocal condition number: 2.4667546613992076e-17\n",
      "  ' condition number: {}'.format(rcond), RuntimeWarning)\n",
      "d:\\Users\\Home\\Anaconda3\\lib\\site-packages\\scipy\\linalg\\basic.py:223: RuntimeWarning: scipy.linalg.solve\n",
      "Ill-conditioned matrix detected. Result is not guaranteed to be accurate.\n",
      "Reciprocal condition number: 2.5985983252409218e-17\n",
      "  ' condition number: {}'.format(rcond), RuntimeWarning)\n",
      "d:\\Users\\Home\\Anaconda3\\lib\\site-packages\\scipy\\linalg\\basic.py:223: RuntimeWarning: scipy.linalg.solve\n",
      "Ill-conditioned matrix detected. Result is not guaranteed to be accurate.\n",
      "Reciprocal condition number: 9.417224626248494e-18\n",
      "  ' condition number: {}'.format(rcond), RuntimeWarning)\n",
      "d:\\Users\\Home\\Anaconda3\\lib\\site-packages\\scipy\\linalg\\basic.py:223: RuntimeWarning: scipy.linalg.solve\n",
      "Ill-conditioned matrix detected. Result is not guaranteed to be accurate.\n",
      "Reciprocal condition number: 6.410391856342327e-17\n",
      "  ' condition number: {}'.format(rcond), RuntimeWarning)\n",
      "d:\\Users\\Home\\Anaconda3\\lib\\site-packages\\sklearn\\linear_model\\coordinate_descent.py:491: ConvergenceWarning: Objective did not converge. You might want to increase the number of iterations. Fitting data with very small alpha may cause precision problems.\n",
      "  ConvergenceWarning)\n",
      "d:\\Users\\Home\\Anaconda3\\lib\\site-packages\\sklearn\\linear_model\\coordinate_descent.py:491: ConvergenceWarning: Objective did not converge. You might want to increase the number of iterations. Fitting data with very small alpha may cause precision problems.\n",
      "  ConvergenceWarning)\n",
      "d:\\Users\\Home\\Anaconda3\\lib\\site-packages\\scipy\\linalg\\basic.py:223: RuntimeWarning: scipy.linalg.solve\n",
      "Ill-conditioned matrix detected. Result is not guaranteed to be accurate.\n",
      "Reciprocal condition number: 4.1353825508557694e-17\n",
      "  ' condition number: {}'.format(rcond), RuntimeWarning)\n",
      "d:\\Users\\Home\\Anaconda3\\lib\\site-packages\\scipy\\linalg\\basic.py:223: RuntimeWarning: scipy.linalg.solve\n",
      "Ill-conditioned matrix detected. Result is not guaranteed to be accurate.\n",
      "Reciprocal condition number: 1.6952497381852207e-17\n",
      "  ' condition number: {}'.format(rcond), RuntimeWarning)\n",
      "d:\\Users\\Home\\Anaconda3\\lib\\site-packages\\scipy\\linalg\\basic.py:223: RuntimeWarning: scipy.linalg.solve\n",
      "Ill-conditioned matrix detected. Result is not guaranteed to be accurate.\n",
      "Reciprocal condition number: 9.866146227531984e-19\n",
      "  ' condition number: {}'.format(rcond), RuntimeWarning)\n",
      "d:\\Users\\Home\\Anaconda3\\lib\\site-packages\\scipy\\linalg\\basic.py:223: RuntimeWarning: scipy.linalg.solve\n",
      "Ill-conditioned matrix detected. Result is not guaranteed to be accurate.\n",
      "Reciprocal condition number: 7.32477564371428e-17\n",
      "  ' condition number: {}'.format(rcond), RuntimeWarning)\n",
      "d:\\Users\\Home\\Anaconda3\\lib\\site-packages\\scipy\\linalg\\basic.py:223: RuntimeWarning: scipy.linalg.solve\n",
      "Ill-conditioned matrix detected. Result is not guaranteed to be accurate.\n",
      "Reciprocal condition number: 2.3527473586873e-17\n",
      "  ' condition number: {}'.format(rcond), RuntimeWarning)\n",
      "d:\\Users\\Home\\Anaconda3\\lib\\site-packages\\sklearn\\linear_model\\coordinate_descent.py:491: ConvergenceWarning: Objective did not converge. You might want to increase the number of iterations. Fitting data with very small alpha may cause precision problems.\n",
      "  ConvergenceWarning)\n",
      "d:\\Users\\Home\\Anaconda3\\lib\\site-packages\\scipy\\linalg\\basic.py:223: RuntimeWarning: scipy.linalg.solve\n",
      "Ill-conditioned matrix detected. Result is not guaranteed to be accurate.\n",
      "Reciprocal condition number: 4.351547027404017e-18\n",
      "  ' condition number: {}'.format(rcond), RuntimeWarning)\n",
      "d:\\Users\\Home\\Anaconda3\\lib\\site-packages\\scipy\\linalg\\basic.py:223: RuntimeWarning: scipy.linalg.solve\n",
      "Ill-conditioned matrix detected. Result is not guaranteed to be accurate.\n",
      "Reciprocal condition number: 3.754361396272801e-18\n",
      "  ' condition number: {}'.format(rcond), RuntimeWarning)\n",
      "d:\\Users\\Home\\Anaconda3\\lib\\site-packages\\scipy\\linalg\\basic.py:223: RuntimeWarning: scipy.linalg.solve\n",
      "Ill-conditioned matrix detected. Result is not guaranteed to be accurate.\n",
      "Reciprocal condition number: 1.9950628630211546e-17\n",
      "  ' condition number: {}'.format(rcond), RuntimeWarning)\n",
      "d:\\Users\\Home\\Anaconda3\\lib\\site-packages\\scipy\\linalg\\basic.py:223: RuntimeWarning: scipy.linalg.solve\n",
      "Ill-conditioned matrix detected. Result is not guaranteed to be accurate.\n",
      "Reciprocal condition number: 7.354605401120284e-18\n",
      "  ' condition number: {}'.format(rcond), RuntimeWarning)\n",
      "d:\\Users\\Home\\Anaconda3\\lib\\site-packages\\scipy\\linalg\\basic.py:223: RuntimeWarning: scipy.linalg.solve\n",
      "Ill-conditioned matrix detected. Result is not guaranteed to be accurate.\n",
      "Reciprocal condition number: 1.0331936848999443e-17\n",
      "  ' condition number: {}'.format(rcond), RuntimeWarning)\n",
      "d:\\Users\\Home\\Anaconda3\\lib\\site-packages\\sklearn\\linear_model\\coordinate_descent.py:491: ConvergenceWarning: Objective did not converge. You might want to increase the number of iterations. Fitting data with very small alpha may cause precision problems.\n",
      "  ConvergenceWarning)\n",
      "d:\\Users\\Home\\Anaconda3\\lib\\site-packages\\scipy\\linalg\\basic.py:223: RuntimeWarning: scipy.linalg.solve\n",
      "Ill-conditioned matrix detected. Result is not guaranteed to be accurate.\n",
      "Reciprocal condition number: 2.7857452147689525e-17\n",
      "  ' condition number: {}'.format(rcond), RuntimeWarning)\n",
      "d:\\Users\\Home\\Anaconda3\\lib\\site-packages\\scipy\\linalg\\basic.py:223: RuntimeWarning: scipy.linalg.solve\n",
      "Ill-conditioned matrix detected. Result is not guaranteed to be accurate.\n",
      "Reciprocal condition number: 6.3429949107867675e-18\n",
      "  ' condition number: {}'.format(rcond), RuntimeWarning)\n",
      "d:\\Users\\Home\\Anaconda3\\lib\\site-packages\\scipy\\linalg\\basic.py:223: RuntimeWarning: scipy.linalg.solve\n",
      "Ill-conditioned matrix detected. Result is not guaranteed to be accurate.\n",
      "Reciprocal condition number: 5.2720067677406555e-18\n",
      "  ' condition number: {}'.format(rcond), RuntimeWarning)\n",
      "d:\\Users\\Home\\Anaconda3\\lib\\site-packages\\scipy\\linalg\\basic.py:223: RuntimeWarning: scipy.linalg.solve\n",
      "Ill-conditioned matrix detected. Result is not guaranteed to be accurate.\n",
      "Reciprocal condition number: 9.261463228430368e-18\n",
      "  ' condition number: {}'.format(rcond), RuntimeWarning)\n",
      "d:\\Users\\Home\\Anaconda3\\lib\\site-packages\\scipy\\linalg\\basic.py:223: RuntimeWarning: scipy.linalg.solve\n",
      "Ill-conditioned matrix detected. Result is not guaranteed to be accurate.\n",
      "Reciprocal condition number: 5.445640250152374e-17\n",
      "  ' condition number: {}'.format(rcond), RuntimeWarning)\n",
      "d:\\Users\\Home\\Anaconda3\\lib\\site-packages\\sklearn\\linear_model\\coordinate_descent.py:491: ConvergenceWarning: Objective did not converge. You might want to increase the number of iterations. Fitting data with very small alpha may cause precision problems.\n",
      "  ConvergenceWarning)\n",
      "d:\\Users\\Home\\Anaconda3\\lib\\site-packages\\scipy\\linalg\\basic.py:223: RuntimeWarning: scipy.linalg.solve\n",
      "Ill-conditioned matrix detected. Result is not guaranteed to be accurate.\n",
      "Reciprocal condition number: 3.432157674068132e-17\n",
      "  ' condition number: {}'.format(rcond), RuntimeWarning)\n",
      "d:\\Users\\Home\\Anaconda3\\lib\\site-packages\\scipy\\linalg\\basic.py:223: RuntimeWarning: scipy.linalg.solve\n",
      "Ill-conditioned matrix detected. Result is not guaranteed to be accurate.\n",
      "Reciprocal condition number: 1.9966940136741618e-17\n",
      "  ' condition number: {}'.format(rcond), RuntimeWarning)\n",
      "d:\\Users\\Home\\Anaconda3\\lib\\site-packages\\scipy\\linalg\\basic.py:223: RuntimeWarning: scipy.linalg.solve\n",
      "Ill-conditioned matrix detected. Result is not guaranteed to be accurate.\n",
      "Reciprocal condition number: 4.160225673711173e-17\n",
      "  ' condition number: {}'.format(rcond), RuntimeWarning)\n",
      "d:\\Users\\Home\\Anaconda3\\lib\\site-packages\\scipy\\linalg\\basic.py:223: RuntimeWarning: scipy.linalg.solve\n",
      "Ill-conditioned matrix detected. Result is not guaranteed to be accurate.\n",
      "Reciprocal condition number: 5.804796499546956e-18\n",
      "  ' condition number: {}'.format(rcond), RuntimeWarning)\n",
      "d:\\Users\\Home\\Anaconda3\\lib\\site-packages\\scipy\\linalg\\basic.py:223: RuntimeWarning: scipy.linalg.solve\n",
      "Ill-conditioned matrix detected. Result is not guaranteed to be accurate.\n",
      "Reciprocal condition number: 1.9014407186733376e-17\n",
      "  ' condition number: {}'.format(rcond), RuntimeWarning)\n",
      "d:\\Users\\Home\\Anaconda3\\lib\\site-packages\\sklearn\\linear_model\\coordinate_descent.py:491: ConvergenceWarning: Objective did not converge. You might want to increase the number of iterations. Fitting data with very small alpha may cause precision problems.\n",
      "  ConvergenceWarning)\n",
      "d:\\Users\\Home\\Anaconda3\\lib\\site-packages\\scipy\\linalg\\basic.py:223: RuntimeWarning: scipy.linalg.solve\n",
      "Ill-conditioned matrix detected. Result is not guaranteed to be accurate.\n",
      "Reciprocal condition number: 2.4396826838632422e-17\n",
      "  ' condition number: {}'.format(rcond), RuntimeWarning)\n",
      "d:\\Users\\Home\\Anaconda3\\lib\\site-packages\\scipy\\linalg\\basic.py:223: RuntimeWarning: scipy.linalg.solve\n",
      "Ill-conditioned matrix detected. Result is not guaranteed to be accurate.\n",
      "Reciprocal condition number: 1.1462485958214515e-17\n",
      "  ' condition number: {}'.format(rcond), RuntimeWarning)\n",
      "d:\\Users\\Home\\Anaconda3\\lib\\site-packages\\scipy\\linalg\\basic.py:223: RuntimeWarning: scipy.linalg.solve\n",
      "Ill-conditioned matrix detected. Result is not guaranteed to be accurate.\n",
      "Reciprocal condition number: 1.883436568541053e-18\n",
      "  ' condition number: {}'.format(rcond), RuntimeWarning)\n",
      "d:\\Users\\Home\\Anaconda3\\lib\\site-packages\\scipy\\linalg\\basic.py:223: RuntimeWarning: scipy.linalg.solve\n",
      "Ill-conditioned matrix detected. Result is not guaranteed to be accurate.\n",
      "Reciprocal condition number: 8.274842119359109e-19\n",
      "  ' condition number: {}'.format(rcond), RuntimeWarning)\n",
      "d:\\Users\\Home\\Anaconda3\\lib\\site-packages\\scipy\\linalg\\basic.py:223: RuntimeWarning: scipy.linalg.solve\n",
      "Ill-conditioned matrix detected. Result is not guaranteed to be accurate.\n",
      "Reciprocal condition number: 5.151269954554774e-17\n",
      "  ' condition number: {}'.format(rcond), RuntimeWarning)\n"
     ]
    },
    {
     "name": "stdout",
     "output_type": "stream",
     "text": [
      "[0.59049591734348561, 0.5602234779768126, 0.56747878267151231, 0.606242230798266, 0.57025653778476104, 0.65420588232564603, 0.6097654219840376, 0.56638447890563626, 0.57047297723119006, 0.65043373473421262]\n",
      "0.66654064839\n"
     ]
    },
    {
     "name": "stderr",
     "output_type": "stream",
     "text": [
      "d:\\Users\\Home\\Anaconda3\\lib\\site-packages\\scipy\\linalg\\basic.py:223: RuntimeWarning: scipy.linalg.solve\n",
      "Ill-conditioned matrix detected. Result is not guaranteed to be accurate.\n",
      "Reciprocal condition number: 2.7596795532988335e-17\n",
      "  ' condition number: {}'.format(rcond), RuntimeWarning)\n",
      "d:\\Users\\Home\\Anaconda3\\lib\\site-packages\\scipy\\linalg\\basic.py:223: RuntimeWarning: scipy.linalg.solve\n",
      "Ill-conditioned matrix detected. Result is not guaranteed to be accurate.\n",
      "Reciprocal condition number: 1.5236044813595362e-18\n",
      "  ' condition number: {}'.format(rcond), RuntimeWarning)\n",
      "d:\\Users\\Home\\Anaconda3\\lib\\site-packages\\scipy\\linalg\\basic.py:223: RuntimeWarning: scipy.linalg.solve\n",
      "Ill-conditioned matrix detected. Result is not guaranteed to be accurate.\n",
      "Reciprocal condition number: 5.1258248744575873e-17\n",
      "  ' condition number: {}'.format(rcond), RuntimeWarning)\n",
      "d:\\Users\\Home\\Anaconda3\\lib\\site-packages\\scipy\\linalg\\basic.py:223: RuntimeWarning: scipy.linalg.solve\n",
      "Ill-conditioned matrix detected. Result is not guaranteed to be accurate.\n",
      "Reciprocal condition number: 1.7820280650696273e-17\n",
      "  ' condition number: {}'.format(rcond), RuntimeWarning)\n",
      "d:\\Users\\Home\\Anaconda3\\lib\\site-packages\\scipy\\linalg\\basic.py:223: RuntimeWarning: scipy.linalg.solve\n",
      "Ill-conditioned matrix detected. Result is not guaranteed to be accurate.\n",
      "Reciprocal condition number: 4.26472041773042e-18\n",
      "  ' condition number: {}'.format(rcond), RuntimeWarning)\n",
      "d:\\Users\\Home\\Anaconda3\\lib\\site-packages\\sklearn\\linear_model\\coordinate_descent.py:491: ConvergenceWarning: Objective did not converge. You might want to increase the number of iterations. Fitting data with very small alpha may cause precision problems.\n",
      "  ConvergenceWarning)\n",
      "d:\\Users\\Home\\Anaconda3\\lib\\site-packages\\scipy\\linalg\\basic.py:223: RuntimeWarning: scipy.linalg.solve\n",
      "Ill-conditioned matrix detected. Result is not guaranteed to be accurate.\n",
      "Reciprocal condition number: 2.0564308465507745e-17\n",
      "  ' condition number: {}'.format(rcond), RuntimeWarning)\n",
      "d:\\Users\\Home\\Anaconda3\\lib\\site-packages\\scipy\\linalg\\basic.py:223: RuntimeWarning: scipy.linalg.solve\n",
      "Ill-conditioned matrix detected. Result is not guaranteed to be accurate.\n",
      "Reciprocal condition number: 2.8614415520366116e-17\n",
      "  ' condition number: {}'.format(rcond), RuntimeWarning)\n",
      "d:\\Users\\Home\\Anaconda3\\lib\\site-packages\\scipy\\linalg\\basic.py:223: RuntimeWarning: scipy.linalg.solve\n",
      "Ill-conditioned matrix detected. Result is not guaranteed to be accurate.\n",
      "Reciprocal condition number: 1.3801215698287103e-17\n",
      "  ' condition number: {}'.format(rcond), RuntimeWarning)\n",
      "d:\\Users\\Home\\Anaconda3\\lib\\site-packages\\scipy\\linalg\\basic.py:223: RuntimeWarning: scipy.linalg.solve\n",
      "Ill-conditioned matrix detected. Result is not guaranteed to be accurate.\n",
      "Reciprocal condition number: 3.204601063558618e-17\n",
      "  ' condition number: {}'.format(rcond), RuntimeWarning)\n",
      "d:\\Users\\Home\\Anaconda3\\lib\\site-packages\\scipy\\linalg\\basic.py:223: RuntimeWarning: scipy.linalg.solve\n",
      "Ill-conditioned matrix detected. Result is not guaranteed to be accurate.\n",
      "Reciprocal condition number: 3.8638241436359034e-17\n",
      "  ' condition number: {}'.format(rcond), RuntimeWarning)\n",
      "d:\\Users\\Home\\Anaconda3\\lib\\site-packages\\scipy\\linalg\\basic.py:223: RuntimeWarning: scipy.linalg.solve\n",
      "Ill-conditioned matrix detected. Result is not guaranteed to be accurate.\n",
      "Reciprocal condition number: 4.6542108376221146e-17\n",
      "  ' condition number: {}'.format(rcond), RuntimeWarning)\n",
      "d:\\Users\\Home\\Anaconda3\\lib\\site-packages\\scipy\\linalg\\basic.py:223: RuntimeWarning: scipy.linalg.solve\n",
      "Ill-conditioned matrix detected. Result is not guaranteed to be accurate.\n",
      "Reciprocal condition number: 5.078856930922301e-17\n",
      "  ' condition number: {}'.format(rcond), RuntimeWarning)\n",
      "d:\\Users\\Home\\Anaconda3\\lib\\site-packages\\scipy\\linalg\\basic.py:223: RuntimeWarning: scipy.linalg.solve\n",
      "Ill-conditioned matrix detected. Result is not guaranteed to be accurate.\n",
      "Reciprocal condition number: 2.34188421350927e-17\n",
      "  ' condition number: {}'.format(rcond), RuntimeWarning)\n",
      "d:\\Users\\Home\\Anaconda3\\lib\\site-packages\\scipy\\linalg\\basic.py:223: RuntimeWarning: scipy.linalg.solve\n",
      "Ill-conditioned matrix detected. Result is not guaranteed to be accurate.\n",
      "Reciprocal condition number: 7.414466655913839e-18\n",
      "  ' condition number: {}'.format(rcond), RuntimeWarning)\n",
      "d:\\Users\\Home\\Anaconda3\\lib\\site-packages\\scipy\\linalg\\basic.py:223: RuntimeWarning: scipy.linalg.solve\n",
      "Ill-conditioned matrix detected. Result is not guaranteed to be accurate.\n",
      "Reciprocal condition number: 9.653936429595062e-17\n",
      "  ' condition number: {}'.format(rcond), RuntimeWarning)\n",
      "d:\\Users\\Home\\Anaconda3\\lib\\site-packages\\scipy\\linalg\\basic.py:223: RuntimeWarning: scipy.linalg.solve\n",
      "Ill-conditioned matrix detected. Result is not guaranteed to be accurate.\n",
      "Reciprocal condition number: 3.829235994290752e-17\n",
      "  ' condition number: {}'.format(rcond), RuntimeWarning)\n",
      "d:\\Users\\Home\\Anaconda3\\lib\\site-packages\\scipy\\linalg\\basic.py:223: RuntimeWarning: scipy.linalg.solve\n",
      "Ill-conditioned matrix detected. Result is not guaranteed to be accurate.\n",
      "Reciprocal condition number: 3.795522977172447e-17\n",
      "  ' condition number: {}'.format(rcond), RuntimeWarning)\n",
      "d:\\Users\\Home\\Anaconda3\\lib\\site-packages\\scipy\\linalg\\basic.py:223: RuntimeWarning: scipy.linalg.solve\n",
      "Ill-conditioned matrix detected. Result is not guaranteed to be accurate.\n",
      "Reciprocal condition number: 1.9589873203907697e-17\n",
      "  ' condition number: {}'.format(rcond), RuntimeWarning)\n",
      "d:\\Users\\Home\\Anaconda3\\lib\\site-packages\\scipy\\linalg\\basic.py:223: RuntimeWarning: scipy.linalg.solve\n",
      "Ill-conditioned matrix detected. Result is not guaranteed to be accurate.\n",
      "Reciprocal condition number: 2.0621617578384977e-17\n",
      "  ' condition number: {}'.format(rcond), RuntimeWarning)\n",
      "d:\\Users\\Home\\Anaconda3\\lib\\site-packages\\scipy\\linalg\\basic.py:223: RuntimeWarning: scipy.linalg.solve\n",
      "Ill-conditioned matrix detected. Result is not guaranteed to be accurate.\n",
      "Reciprocal condition number: 2.0047558936066593e-17\n",
      "  ' condition number: {}'.format(rcond), RuntimeWarning)\n",
      "d:\\Users\\Home\\Anaconda3\\lib\\site-packages\\sklearn\\linear_model\\coordinate_descent.py:491: ConvergenceWarning: Objective did not converge. You might want to increase the number of iterations. Fitting data with very small alpha may cause precision problems.\n",
      "  ConvergenceWarning)\n",
      "d:\\Users\\Home\\Anaconda3\\lib\\site-packages\\sklearn\\linear_model\\coordinate_descent.py:491: ConvergenceWarning: Objective did not converge. You might want to increase the number of iterations. Fitting data with very small alpha may cause precision problems.\n",
      "  ConvergenceWarning)\n",
      "d:\\Users\\Home\\Anaconda3\\lib\\site-packages\\scipy\\linalg\\basic.py:223: RuntimeWarning: scipy.linalg.solve\n",
      "Ill-conditioned matrix detected. Result is not guaranteed to be accurate.\n",
      "Reciprocal condition number: 5.93426051263313e-17\n",
      "  ' condition number: {}'.format(rcond), RuntimeWarning)\n",
      "d:\\Users\\Home\\Anaconda3\\lib\\site-packages\\scipy\\linalg\\basic.py:223: RuntimeWarning: scipy.linalg.solve\n",
      "Ill-conditioned matrix detected. Result is not guaranteed to be accurate.\n",
      "Reciprocal condition number: 3.55973155100338e-17\n",
      "  ' condition number: {}'.format(rcond), RuntimeWarning)\n",
      "d:\\Users\\Home\\Anaconda3\\lib\\site-packages\\scipy\\linalg\\basic.py:223: RuntimeWarning: scipy.linalg.solve\n",
      "Ill-conditioned matrix detected. Result is not guaranteed to be accurate.\n",
      "Reciprocal condition number: 1.0140216256717521e-17\n",
      "  ' condition number: {}'.format(rcond), RuntimeWarning)\n",
      "d:\\Users\\Home\\Anaconda3\\lib\\site-packages\\scipy\\linalg\\basic.py:223: RuntimeWarning: scipy.linalg.solve\n",
      "Ill-conditioned matrix detected. Result is not guaranteed to be accurate.\n",
      "Reciprocal condition number: 3.7949097651002856e-17\n",
      "  ' condition number: {}'.format(rcond), RuntimeWarning)\n",
      "d:\\Users\\Home\\Anaconda3\\lib\\site-packages\\scipy\\linalg\\basic.py:223: RuntimeWarning: scipy.linalg.solve\n",
      "Ill-conditioned matrix detected. Result is not guaranteed to be accurate.\n",
      "Reciprocal condition number: 5.792354327873371e-17\n",
      "  ' condition number: {}'.format(rcond), RuntimeWarning)\n",
      "d:\\Users\\Home\\Anaconda3\\lib\\site-packages\\sklearn\\linear_model\\coordinate_descent.py:491: ConvergenceWarning: Objective did not converge. You might want to increase the number of iterations. Fitting data with very small alpha may cause precision problems.\n",
      "  ConvergenceWarning)\n",
      "d:\\Users\\Home\\Anaconda3\\lib\\site-packages\\scipy\\linalg\\basic.py:223: RuntimeWarning: scipy.linalg.solve\n",
      "Ill-conditioned matrix detected. Result is not guaranteed to be accurate.\n",
      "Reciprocal condition number: 3.126019440086475e-18\n",
      "  ' condition number: {}'.format(rcond), RuntimeWarning)\n",
      "d:\\Users\\Home\\Anaconda3\\lib\\site-packages\\scipy\\linalg\\basic.py:223: RuntimeWarning: scipy.linalg.solve\n",
      "Ill-conditioned matrix detected. Result is not guaranteed to be accurate.\n",
      "Reciprocal condition number: 1.8880074223138514e-17\n",
      "  ' condition number: {}'.format(rcond), RuntimeWarning)\n",
      "d:\\Users\\Home\\Anaconda3\\lib\\site-packages\\scipy\\linalg\\basic.py:223: RuntimeWarning: scipy.linalg.solve\n",
      "Ill-conditioned matrix detected. Result is not guaranteed to be accurate.\n",
      "Reciprocal condition number: 6.689691480694773e-18\n",
      "  ' condition number: {}'.format(rcond), RuntimeWarning)\n",
      "d:\\Users\\Home\\Anaconda3\\lib\\site-packages\\scipy\\linalg\\basic.py:223: RuntimeWarning: scipy.linalg.solve\n",
      "Ill-conditioned matrix detected. Result is not guaranteed to be accurate.\n",
      "Reciprocal condition number: 2.638825433509758e-17\n",
      "  ' condition number: {}'.format(rcond), RuntimeWarning)\n",
      "d:\\Users\\Home\\Anaconda3\\lib\\site-packages\\scipy\\linalg\\basic.py:223: RuntimeWarning: scipy.linalg.solve\n",
      "Ill-conditioned matrix detected. Result is not guaranteed to be accurate.\n",
      "Reciprocal condition number: 2.9535558183397524e-17\n",
      "  ' condition number: {}'.format(rcond), RuntimeWarning)\n",
      "d:\\Users\\Home\\Anaconda3\\lib\\site-packages\\sklearn\\linear_model\\coordinate_descent.py:491: ConvergenceWarning: Objective did not converge. You might want to increase the number of iterations. Fitting data with very small alpha may cause precision problems.\n",
      "  ConvergenceWarning)\n"
     ]
    },
    {
     "name": "stderr",
     "output_type": "stream",
     "text": [
      "d:\\Users\\Home\\Anaconda3\\lib\\site-packages\\scipy\\linalg\\basic.py:223: RuntimeWarning: scipy.linalg.solve\n",
      "Ill-conditioned matrix detected. Result is not guaranteed to be accurate.\n",
      "Reciprocal condition number: 2.2997022588820808e-17\n",
      "  ' condition number: {}'.format(rcond), RuntimeWarning)\n",
      "d:\\Users\\Home\\Anaconda3\\lib\\site-packages\\scipy\\linalg\\basic.py:223: RuntimeWarning: scipy.linalg.solve\n",
      "Ill-conditioned matrix detected. Result is not guaranteed to be accurate.\n",
      "Reciprocal condition number: 2.5204911779901815e-17\n",
      "  ' condition number: {}'.format(rcond), RuntimeWarning)\n",
      "d:\\Users\\Home\\Anaconda3\\lib\\site-packages\\scipy\\linalg\\basic.py:223: RuntimeWarning: scipy.linalg.solve\n",
      "Ill-conditioned matrix detected. Result is not guaranteed to be accurate.\n",
      "Reciprocal condition number: 9.912108886015092e-18\n",
      "  ' condition number: {}'.format(rcond), RuntimeWarning)\n",
      "d:\\Users\\Home\\Anaconda3\\lib\\site-packages\\scipy\\linalg\\basic.py:223: RuntimeWarning: scipy.linalg.solve\n",
      "Ill-conditioned matrix detected. Result is not guaranteed to be accurate.\n",
      "Reciprocal condition number: 7.836300024832881e-18\n",
      "  ' condition number: {}'.format(rcond), RuntimeWarning)\n",
      "d:\\Users\\Home\\Anaconda3\\lib\\site-packages\\scipy\\linalg\\basic.py:223: RuntimeWarning: scipy.linalg.solve\n",
      "Ill-conditioned matrix detected. Result is not guaranteed to be accurate.\n",
      "Reciprocal condition number: 3.857037990695437e-17\n",
      "  ' condition number: {}'.format(rcond), RuntimeWarning)\n",
      "d:\\Users\\Home\\Anaconda3\\lib\\site-packages\\sklearn\\linear_model\\coordinate_descent.py:491: ConvergenceWarning: Objective did not converge. You might want to increase the number of iterations. Fitting data with very small alpha may cause precision problems.\n",
      "  ConvergenceWarning)\n",
      "d:\\Users\\Home\\Anaconda3\\lib\\site-packages\\scipy\\linalg\\basic.py:223: RuntimeWarning: scipy.linalg.solve\n",
      "Ill-conditioned matrix detected. Result is not guaranteed to be accurate.\n",
      "Reciprocal condition number: 1.654326464901961e-17\n",
      "  ' condition number: {}'.format(rcond), RuntimeWarning)\n",
      "d:\\Users\\Home\\Anaconda3\\lib\\site-packages\\scipy\\linalg\\basic.py:223: RuntimeWarning: scipy.linalg.solve\n",
      "Ill-conditioned matrix detected. Result is not guaranteed to be accurate.\n",
      "Reciprocal condition number: 7.53306643759016e-18\n",
      "  ' condition number: {}'.format(rcond), RuntimeWarning)\n",
      "d:\\Users\\Home\\Anaconda3\\lib\\site-packages\\scipy\\linalg\\basic.py:223: RuntimeWarning: scipy.linalg.solve\n",
      "Ill-conditioned matrix detected. Result is not guaranteed to be accurate.\n",
      "Reciprocal condition number: 1.1440279768852921e-17\n",
      "  ' condition number: {}'.format(rcond), RuntimeWarning)\n",
      "d:\\Users\\Home\\Anaconda3\\lib\\site-packages\\scipy\\linalg\\basic.py:223: RuntimeWarning: scipy.linalg.solve\n",
      "Ill-conditioned matrix detected. Result is not guaranteed to be accurate.\n",
      "Reciprocal condition number: 2.903751768462319e-18\n",
      "  ' condition number: {}'.format(rcond), RuntimeWarning)\n",
      "d:\\Users\\Home\\Anaconda3\\lib\\site-packages\\scipy\\linalg\\basic.py:223: RuntimeWarning: scipy.linalg.solve\n",
      "Ill-conditioned matrix detected. Result is not guaranteed to be accurate.\n",
      "Reciprocal condition number: 5.498299861260118e-18\n",
      "  ' condition number: {}'.format(rcond), RuntimeWarning)\n",
      "d:\\Users\\Home\\Anaconda3\\lib\\site-packages\\sklearn\\linear_model\\coordinate_descent.py:491: ConvergenceWarning: Objective did not converge. You might want to increase the number of iterations. Fitting data with very small alpha may cause precision problems.\n",
      "  ConvergenceWarning)\n",
      "d:\\Users\\Home\\Anaconda3\\lib\\site-packages\\scipy\\linalg\\basic.py:223: RuntimeWarning: scipy.linalg.solve\n",
      "Ill-conditioned matrix detected. Result is not guaranteed to be accurate.\n",
      "Reciprocal condition number: 3.330370470850793e-17\n",
      "  ' condition number: {}'.format(rcond), RuntimeWarning)\n",
      "d:\\Users\\Home\\Anaconda3\\lib\\site-packages\\scipy\\linalg\\basic.py:223: RuntimeWarning: scipy.linalg.solve\n",
      "Ill-conditioned matrix detected. Result is not guaranteed to be accurate.\n",
      "Reciprocal condition number: 3.531441345072584e-18\n",
      "  ' condition number: {}'.format(rcond), RuntimeWarning)\n",
      "d:\\Users\\Home\\Anaconda3\\lib\\site-packages\\scipy\\linalg\\basic.py:223: RuntimeWarning: scipy.linalg.solve\n",
      "Ill-conditioned matrix detected. Result is not guaranteed to be accurate.\n",
      "Reciprocal condition number: 1.2974982121029909e-18\n",
      "  ' condition number: {}'.format(rcond), RuntimeWarning)\n",
      "d:\\Users\\Home\\Anaconda3\\lib\\site-packages\\scipy\\linalg\\basic.py:223: RuntimeWarning: scipy.linalg.solve\n",
      "Ill-conditioned matrix detected. Result is not guaranteed to be accurate.\n",
      "Reciprocal condition number: 1.0582653752651183e-17\n",
      "  ' condition number: {}'.format(rcond), RuntimeWarning)\n",
      "d:\\Users\\Home\\Anaconda3\\lib\\site-packages\\scipy\\linalg\\basic.py:223: RuntimeWarning: scipy.linalg.solve\n",
      "Ill-conditioned matrix detected. Result is not guaranteed to be accurate.\n",
      "Reciprocal condition number: 2.8780157034668965e-17\n",
      "  ' condition number: {}'.format(rcond), RuntimeWarning)\n",
      "d:\\Users\\Home\\Anaconda3\\lib\\site-packages\\sklearn\\linear_model\\coordinate_descent.py:491: ConvergenceWarning: Objective did not converge. You might want to increase the number of iterations. Fitting data with very small alpha may cause precision problems.\n",
      "  ConvergenceWarning)\n",
      "d:\\Users\\Home\\Anaconda3\\lib\\site-packages\\scipy\\linalg\\basic.py:223: RuntimeWarning: scipy.linalg.solve\n",
      "Ill-conditioned matrix detected. Result is not guaranteed to be accurate.\n",
      "Reciprocal condition number: 9.868227089604056e-18\n",
      "  ' condition number: {}'.format(rcond), RuntimeWarning)\n",
      "d:\\Users\\Home\\Anaconda3\\lib\\site-packages\\scipy\\linalg\\basic.py:223: RuntimeWarning: scipy.linalg.solve\n",
      "Ill-conditioned matrix detected. Result is not guaranteed to be accurate.\n",
      "Reciprocal condition number: 7.781646735276275e-18\n",
      "  ' condition number: {}'.format(rcond), RuntimeWarning)\n",
      "d:\\Users\\Home\\Anaconda3\\lib\\site-packages\\scipy\\linalg\\basic.py:223: RuntimeWarning: scipy.linalg.solve\n",
      "Ill-conditioned matrix detected. Result is not guaranteed to be accurate.\n",
      "Reciprocal condition number: 6.445868833291469e-17\n",
      "  ' condition number: {}'.format(rcond), RuntimeWarning)\n",
      "d:\\Users\\Home\\Anaconda3\\lib\\site-packages\\scipy\\linalg\\basic.py:223: RuntimeWarning: scipy.linalg.solve\n",
      "Ill-conditioned matrix detected. Result is not guaranteed to be accurate.\n",
      "Reciprocal condition number: 6.103485238451294e-17\n",
      "  ' condition number: {}'.format(rcond), RuntimeWarning)\n",
      "d:\\Users\\Home\\Anaconda3\\lib\\site-packages\\scipy\\linalg\\basic.py:223: RuntimeWarning: scipy.linalg.solve\n",
      "Ill-conditioned matrix detected. Result is not guaranteed to be accurate.\n",
      "Reciprocal condition number: 1.2966953831667825e-17\n",
      "  ' condition number: {}'.format(rcond), RuntimeWarning)\n"
     ]
    },
    {
     "name": "stdout",
     "output_type": "stream",
     "text": [
      "[0.62135399531870705, 0.62267403358741868, 0.60579464696370255, 0.59000235164851067, 0.62967048280059679, 0.61217388438554854, 0.61054321352001961, 0.58361163377848135, 0.51839100041646857, 0.64810745302950945]\n",
      "0.633412945706\n"
     ]
    },
    {
     "name": "stderr",
     "output_type": "stream",
     "text": [
      "d:\\Users\\Home\\Anaconda3\\lib\\site-packages\\scipy\\linalg\\basic.py:223: RuntimeWarning: scipy.linalg.solve\n",
      "Ill-conditioned matrix detected. Result is not guaranteed to be accurate.\n",
      "Reciprocal condition number: 2.5028093475502762e-17\n",
      "  ' condition number: {}'.format(rcond), RuntimeWarning)\n",
      "d:\\Users\\Home\\Anaconda3\\lib\\site-packages\\scipy\\linalg\\basic.py:223: RuntimeWarning: scipy.linalg.solve\n",
      "Ill-conditioned matrix detected. Result is not guaranteed to be accurate.\n",
      "Reciprocal condition number: 7.044275771921537e-18\n",
      "  ' condition number: {}'.format(rcond), RuntimeWarning)\n",
      "d:\\Users\\Home\\Anaconda3\\lib\\site-packages\\scipy\\linalg\\basic.py:223: RuntimeWarning: scipy.linalg.solve\n",
      "Ill-conditioned matrix detected. Result is not guaranteed to be accurate.\n",
      "Reciprocal condition number: 4.1419976963586985e-17\n",
      "  ' condition number: {}'.format(rcond), RuntimeWarning)\n",
      "d:\\Users\\Home\\Anaconda3\\lib\\site-packages\\scipy\\linalg\\basic.py:223: RuntimeWarning: scipy.linalg.solve\n",
      "Ill-conditioned matrix detected. Result is not guaranteed to be accurate.\n",
      "Reciprocal condition number: 4.746615760267659e-17\n",
      "  ' condition number: {}'.format(rcond), RuntimeWarning)\n",
      "d:\\Users\\Home\\Anaconda3\\lib\\site-packages\\scipy\\linalg\\basic.py:223: RuntimeWarning: scipy.linalg.solve\n",
      "Ill-conditioned matrix detected. Result is not guaranteed to be accurate.\n",
      "Reciprocal condition number: 1.9014007781551253e-18\n",
      "  ' condition number: {}'.format(rcond), RuntimeWarning)\n",
      "d:\\Users\\Home\\Anaconda3\\lib\\site-packages\\sklearn\\linear_model\\coordinate_descent.py:491: ConvergenceWarning: Objective did not converge. You might want to increase the number of iterations. Fitting data with very small alpha may cause precision problems.\n",
      "  ConvergenceWarning)\n",
      "d:\\Users\\Home\\Anaconda3\\lib\\site-packages\\scipy\\linalg\\basic.py:223: RuntimeWarning: scipy.linalg.solve\n",
      "Ill-conditioned matrix detected. Result is not guaranteed to be accurate.\n",
      "Reciprocal condition number: 3.016223423248478e-17\n",
      "  ' condition number: {}'.format(rcond), RuntimeWarning)\n",
      "d:\\Users\\Home\\Anaconda3\\lib\\site-packages\\scipy\\linalg\\basic.py:223: RuntimeWarning: scipy.linalg.solve\n",
      "Ill-conditioned matrix detected. Result is not guaranteed to be accurate.\n",
      "Reciprocal condition number: 1.4785550666054182e-17\n",
      "  ' condition number: {}'.format(rcond), RuntimeWarning)\n",
      "d:\\Users\\Home\\Anaconda3\\lib\\site-packages\\scipy\\linalg\\basic.py:223: RuntimeWarning: scipy.linalg.solve\n",
      "Ill-conditioned matrix detected. Result is not guaranteed to be accurate.\n",
      "Reciprocal condition number: 5.930602485785267e-17\n",
      "  ' condition number: {}'.format(rcond), RuntimeWarning)\n",
      "d:\\Users\\Home\\Anaconda3\\lib\\site-packages\\scipy\\linalg\\basic.py:223: RuntimeWarning: scipy.linalg.solve\n",
      "Ill-conditioned matrix detected. Result is not guaranteed to be accurate.\n",
      "Reciprocal condition number: 5.920779094432367e-17\n",
      "  ' condition number: {}'.format(rcond), RuntimeWarning)\n",
      "d:\\Users\\Home\\Anaconda3\\lib\\site-packages\\scipy\\linalg\\basic.py:223: RuntimeWarning: scipy.linalg.solve\n",
      "Ill-conditioned matrix detected. Result is not guaranteed to be accurate.\n",
      "Reciprocal condition number: 3.637283368946711e-17\n",
      "  ' condition number: {}'.format(rcond), RuntimeWarning)\n",
      "d:\\Users\\Home\\Anaconda3\\lib\\site-packages\\scipy\\linalg\\basic.py:223: RuntimeWarning: scipy.linalg.solve\n",
      "Ill-conditioned matrix detected. Result is not guaranteed to be accurate.\n",
      "Reciprocal condition number: 3.9678277378213614e-17\n",
      "  ' condition number: {}'.format(rcond), RuntimeWarning)\n",
      "d:\\Users\\Home\\Anaconda3\\lib\\site-packages\\scipy\\linalg\\basic.py:223: RuntimeWarning: scipy.linalg.solve\n",
      "Ill-conditioned matrix detected. Result is not guaranteed to be accurate.\n",
      "Reciprocal condition number: 1.1169440874047994e-18\n",
      "  ' condition number: {}'.format(rcond), RuntimeWarning)\n",
      "d:\\Users\\Home\\Anaconda3\\lib\\site-packages\\scipy\\linalg\\basic.py:223: RuntimeWarning: scipy.linalg.solve\n",
      "Ill-conditioned matrix detected. Result is not guaranteed to be accurate.\n",
      "Reciprocal condition number: 8.626068909475011e-17\n",
      "  ' condition number: {}'.format(rcond), RuntimeWarning)\n",
      "d:\\Users\\Home\\Anaconda3\\lib\\site-packages\\scipy\\linalg\\basic.py:223: RuntimeWarning: scipy.linalg.solve\n",
      "Ill-conditioned matrix detected. Result is not guaranteed to be accurate.\n",
      "Reciprocal condition number: 4.4005397709935413e-17\n",
      "  ' condition number: {}'.format(rcond), RuntimeWarning)\n",
      "d:\\Users\\Home\\Anaconda3\\lib\\site-packages\\scipy\\linalg\\basic.py:223: RuntimeWarning: scipy.linalg.solve\n",
      "Ill-conditioned matrix detected. Result is not guaranteed to be accurate.\n",
      "Reciprocal condition number: 2.8367357226196537e-17\n",
      "  ' condition number: {}'.format(rcond), RuntimeWarning)\n",
      "d:\\Users\\Home\\Anaconda3\\lib\\site-packages\\sklearn\\linear_model\\coordinate_descent.py:491: ConvergenceWarning: Objective did not converge. You might want to increase the number of iterations. Fitting data with very small alpha may cause precision problems.\n",
      "  ConvergenceWarning)\n",
      "d:\\Users\\Home\\Anaconda3\\lib\\site-packages\\scipy\\linalg\\basic.py:223: RuntimeWarning: scipy.linalg.solve\n",
      "Ill-conditioned matrix detected. Result is not guaranteed to be accurate.\n",
      "Reciprocal condition number: 1.8292664798257688e-18\n",
      "  ' condition number: {}'.format(rcond), RuntimeWarning)\n",
      "d:\\Users\\Home\\Anaconda3\\lib\\site-packages\\scipy\\linalg\\basic.py:223: RuntimeWarning: scipy.linalg.solve\n",
      "Ill-conditioned matrix detected. Result is not guaranteed to be accurate.\n",
      "Reciprocal condition number: 2.5930915611761008e-18\n",
      "  ' condition number: {}'.format(rcond), RuntimeWarning)\n",
      "d:\\Users\\Home\\Anaconda3\\lib\\site-packages\\scipy\\linalg\\basic.py:223: RuntimeWarning: scipy.linalg.solve\n",
      "Ill-conditioned matrix detected. Result is not guaranteed to be accurate.\n",
      "Reciprocal condition number: 5.232802628567613e-18\n",
      "  ' condition number: {}'.format(rcond), RuntimeWarning)\n",
      "d:\\Users\\Home\\Anaconda3\\lib\\site-packages\\scipy\\linalg\\basic.py:223: RuntimeWarning: scipy.linalg.solve\n",
      "Ill-conditioned matrix detected. Result is not guaranteed to be accurate.\n",
      "Reciprocal condition number: 7.388716680769843e-17\n",
      "  ' condition number: {}'.format(rcond), RuntimeWarning)\n",
      "d:\\Users\\Home\\Anaconda3\\lib\\site-packages\\scipy\\linalg\\basic.py:223: RuntimeWarning: scipy.linalg.solve\n",
      "Ill-conditioned matrix detected. Result is not guaranteed to be accurate.\n",
      "Reciprocal condition number: 5.984757898547695e-18\n",
      "  ' condition number: {}'.format(rcond), RuntimeWarning)\n",
      "d:\\Users\\Home\\Anaconda3\\lib\\site-packages\\sklearn\\linear_model\\coordinate_descent.py:491: ConvergenceWarning: Objective did not converge. You might want to increase the number of iterations. Fitting data with very small alpha may cause precision problems.\n",
      "  ConvergenceWarning)\n",
      "d:\\Users\\Home\\Anaconda3\\lib\\site-packages\\sklearn\\linear_model\\coordinate_descent.py:491: ConvergenceWarning: Objective did not converge. You might want to increase the number of iterations. Fitting data with very small alpha may cause precision problems.\n",
      "  ConvergenceWarning)\n",
      "d:\\Users\\Home\\Anaconda3\\lib\\site-packages\\scipy\\linalg\\basic.py:223: RuntimeWarning: scipy.linalg.solve\n",
      "Ill-conditioned matrix detected. Result is not guaranteed to be accurate.\n",
      "Reciprocal condition number: 9.87817939414229e-18\n",
      "  ' condition number: {}'.format(rcond), RuntimeWarning)\n",
      "d:\\Users\\Home\\Anaconda3\\lib\\site-packages\\scipy\\linalg\\basic.py:223: RuntimeWarning: scipy.linalg.solve\n",
      "Ill-conditioned matrix detected. Result is not guaranteed to be accurate.\n",
      "Reciprocal condition number: 4.909404101027519e-17\n",
      "  ' condition number: {}'.format(rcond), RuntimeWarning)\n",
      "d:\\Users\\Home\\Anaconda3\\lib\\site-packages\\scipy\\linalg\\basic.py:223: RuntimeWarning: scipy.linalg.solve\n",
      "Ill-conditioned matrix detected. Result is not guaranteed to be accurate.\n",
      "Reciprocal condition number: 1.590816779607365e-17\n",
      "  ' condition number: {}'.format(rcond), RuntimeWarning)\n",
      "d:\\Users\\Home\\Anaconda3\\lib\\site-packages\\scipy\\linalg\\basic.py:223: RuntimeWarning: scipy.linalg.solve\n",
      "Ill-conditioned matrix detected. Result is not guaranteed to be accurate.\n",
      "Reciprocal condition number: 6.227629857188329e-17\n",
      "  ' condition number: {}'.format(rcond), RuntimeWarning)\n",
      "d:\\Users\\Home\\Anaconda3\\lib\\site-packages\\scipy\\linalg\\basic.py:223: RuntimeWarning: scipy.linalg.solve\n",
      "Ill-conditioned matrix detected. Result is not guaranteed to be accurate.\n",
      "Reciprocal condition number: 7.670546373542958e-18\n",
      "  ' condition number: {}'.format(rcond), RuntimeWarning)\n",
      "d:\\Users\\Home\\Anaconda3\\lib\\site-packages\\sklearn\\linear_model\\coordinate_descent.py:491: ConvergenceWarning: Objective did not converge. You might want to increase the number of iterations. Fitting data with very small alpha may cause precision problems.\n",
      "  ConvergenceWarning)\n",
      "d:\\Users\\Home\\Anaconda3\\lib\\site-packages\\scipy\\linalg\\basic.py:223: RuntimeWarning: scipy.linalg.solve\n",
      "Ill-conditioned matrix detected. Result is not guaranteed to be accurate.\n",
      "Reciprocal condition number: 7.122534335876985e-18\n",
      "  ' condition number: {}'.format(rcond), RuntimeWarning)\n",
      "d:\\Users\\Home\\Anaconda3\\lib\\site-packages\\scipy\\linalg\\basic.py:223: RuntimeWarning: scipy.linalg.solve\n",
      "Ill-conditioned matrix detected. Result is not guaranteed to be accurate.\n",
      "Reciprocal condition number: 7.957239349507448e-18\n",
      "  ' condition number: {}'.format(rcond), RuntimeWarning)\n",
      "d:\\Users\\Home\\Anaconda3\\lib\\site-packages\\scipy\\linalg\\basic.py:223: RuntimeWarning: scipy.linalg.solve\n",
      "Ill-conditioned matrix detected. Result is not guaranteed to be accurate.\n",
      "Reciprocal condition number: 1.3538435369874314e-17\n",
      "  ' condition number: {}'.format(rcond), RuntimeWarning)\n",
      "d:\\Users\\Home\\Anaconda3\\lib\\site-packages\\scipy\\linalg\\basic.py:223: RuntimeWarning: scipy.linalg.solve\n",
      "Ill-conditioned matrix detected. Result is not guaranteed to be accurate.\n",
      "Reciprocal condition number: 4.534545817365052e-18\n",
      "  ' condition number: {}'.format(rcond), RuntimeWarning)\n",
      "d:\\Users\\Home\\Anaconda3\\lib\\site-packages\\scipy\\linalg\\basic.py:223: RuntimeWarning: scipy.linalg.solve\n",
      "Ill-conditioned matrix detected. Result is not guaranteed to be accurate.\n",
      "Reciprocal condition number: 4.299752587396696e-17\n",
      "  ' condition number: {}'.format(rcond), RuntimeWarning)\n",
      "d:\\Users\\Home\\Anaconda3\\lib\\site-packages\\sklearn\\linear_model\\coordinate_descent.py:491: ConvergenceWarning: Objective did not converge. You might want to increase the number of iterations. Fitting data with very small alpha may cause precision problems.\n",
      "  ConvergenceWarning)\n"
     ]
    },
    {
     "name": "stderr",
     "output_type": "stream",
     "text": [
      "d:\\Users\\Home\\Anaconda3\\lib\\site-packages\\scipy\\linalg\\basic.py:223: RuntimeWarning: scipy.linalg.solve\n",
      "Ill-conditioned matrix detected. Result is not guaranteed to be accurate.\n",
      "Reciprocal condition number: 1.790223979804138e-17\n",
      "  ' condition number: {}'.format(rcond), RuntimeWarning)\n",
      "d:\\Users\\Home\\Anaconda3\\lib\\site-packages\\scipy\\linalg\\basic.py:223: RuntimeWarning: scipy.linalg.solve\n",
      "Ill-conditioned matrix detected. Result is not guaranteed to be accurate.\n",
      "Reciprocal condition number: 6.380401659558193e-17\n",
      "  ' condition number: {}'.format(rcond), RuntimeWarning)\n",
      "d:\\Users\\Home\\Anaconda3\\lib\\site-packages\\scipy\\linalg\\basic.py:223: RuntimeWarning: scipy.linalg.solve\n",
      "Ill-conditioned matrix detected. Result is not guaranteed to be accurate.\n",
      "Reciprocal condition number: 1.1038935481226084e-17\n",
      "  ' condition number: {}'.format(rcond), RuntimeWarning)\n",
      "d:\\Users\\Home\\Anaconda3\\lib\\site-packages\\scipy\\linalg\\basic.py:223: RuntimeWarning: scipy.linalg.solve\n",
      "Ill-conditioned matrix detected. Result is not guaranteed to be accurate.\n",
      "Reciprocal condition number: 2.1204964631056467e-17\n",
      "  ' condition number: {}'.format(rcond), RuntimeWarning)\n",
      "d:\\Users\\Home\\Anaconda3\\lib\\site-packages\\scipy\\linalg\\basic.py:223: RuntimeWarning: scipy.linalg.solve\n",
      "Ill-conditioned matrix detected. Result is not guaranteed to be accurate.\n",
      "Reciprocal condition number: 3.531316733314558e-18\n",
      "  ' condition number: {}'.format(rcond), RuntimeWarning)\n",
      "d:\\Users\\Home\\Anaconda3\\lib\\site-packages\\scipy\\linalg\\basic.py:223: RuntimeWarning: scipy.linalg.solve\n",
      "Ill-conditioned matrix detected. Result is not guaranteed to be accurate.\n",
      "Reciprocal condition number: 6.469800850196671e-17\n",
      "  ' condition number: {}'.format(rcond), RuntimeWarning)\n",
      "d:\\Users\\Home\\Anaconda3\\lib\\site-packages\\scipy\\linalg\\basic.py:223: RuntimeWarning: scipy.linalg.solve\n",
      "Ill-conditioned matrix detected. Result is not guaranteed to be accurate.\n",
      "Reciprocal condition number: 5.621770563182041e-18\n",
      "  ' condition number: {}'.format(rcond), RuntimeWarning)\n",
      "d:\\Users\\Home\\Anaconda3\\lib\\site-packages\\scipy\\linalg\\basic.py:223: RuntimeWarning: scipy.linalg.solve\n",
      "Ill-conditioned matrix detected. Result is not guaranteed to be accurate.\n",
      "Reciprocal condition number: 2.1013797947873725e-17\n",
      "  ' condition number: {}'.format(rcond), RuntimeWarning)\n",
      "d:\\Users\\Home\\Anaconda3\\lib\\site-packages\\scipy\\linalg\\basic.py:223: RuntimeWarning: scipy.linalg.solve\n",
      "Ill-conditioned matrix detected. Result is not guaranteed to be accurate.\n",
      "Reciprocal condition number: 1.0635371385041026e-16\n",
      "  ' condition number: {}'.format(rcond), RuntimeWarning)\n",
      "d:\\Users\\Home\\Anaconda3\\lib\\site-packages\\scipy\\linalg\\basic.py:223: RuntimeWarning: scipy.linalg.solve\n",
      "Ill-conditioned matrix detected. Result is not guaranteed to be accurate.\n",
      "Reciprocal condition number: 9.322858490915459e-18\n",
      "  ' condition number: {}'.format(rcond), RuntimeWarning)\n"
     ]
    },
    {
     "name": "stdout",
     "output_type": "stream",
     "text": [
      "[0.58410007941484754, 0.58794601384699674, 0.64147673295356467, 0.55278912775257882, 0.59088940555350322, 0.56875880923675171, 0.61744541682003828, 0.5791118684957034, 0.49096652051887879, 0.57026288903637223]\n",
      "0.581701966735\n"
     ]
    },
    {
     "name": "stderr",
     "output_type": "stream",
     "text": [
      "d:\\Users\\Home\\Anaconda3\\lib\\site-packages\\scipy\\linalg\\basic.py:223: RuntimeWarning: scipy.linalg.solve\n",
      "Ill-conditioned matrix detected. Result is not guaranteed to be accurate.\n",
      "Reciprocal condition number: 4.292085406994359e-17\n",
      "  ' condition number: {}'.format(rcond), RuntimeWarning)\n",
      "d:\\Users\\Home\\Anaconda3\\lib\\site-packages\\scipy\\linalg\\basic.py:223: RuntimeWarning: scipy.linalg.solve\n",
      "Ill-conditioned matrix detected. Result is not guaranteed to be accurate.\n",
      "Reciprocal condition number: 2.2270179152675002e-17\n",
      "  ' condition number: {}'.format(rcond), RuntimeWarning)\n",
      "d:\\Users\\Home\\Anaconda3\\lib\\site-packages\\scipy\\linalg\\basic.py:223: RuntimeWarning: scipy.linalg.solve\n",
      "Ill-conditioned matrix detected. Result is not guaranteed to be accurate.\n",
      "Reciprocal condition number: 5.468218339715665e-18\n",
      "  ' condition number: {}'.format(rcond), RuntimeWarning)\n",
      "d:\\Users\\Home\\Anaconda3\\lib\\site-packages\\scipy\\linalg\\basic.py:223: RuntimeWarning: scipy.linalg.solve\n",
      "Ill-conditioned matrix detected. Result is not guaranteed to be accurate.\n",
      "Reciprocal condition number: 3.912570498894349e-17\n",
      "  ' condition number: {}'.format(rcond), RuntimeWarning)\n",
      "d:\\Users\\Home\\Anaconda3\\lib\\site-packages\\scipy\\linalg\\basic.py:223: RuntimeWarning: scipy.linalg.solve\n",
      "Ill-conditioned matrix detected. Result is not guaranteed to be accurate.\n",
      "Reciprocal condition number: 1.5050151518240108e-17\n",
      "  ' condition number: {}'.format(rcond), RuntimeWarning)\n"
     ]
    }
   ],
   "source": [
    "#X_train=df_train_f[cols_f[:28]].values\n",
    "#Y_train=df_train_f['count'].values\n",
    "\n",
    "#X_test=df_test_f[cols_f[:28]].values\n",
    "#Y_test=df_test_f['count'].values\n",
    "\n",
    "#100, 150, ..., 400\n",
    "x_subset_100, y_subset_100=sample(X_train,Y_train,100)\n",
    "lam_0 =[0]\n",
    "lam_1 = [ 1e-5, 1e-4, 1e-3, 1e-2,1e-1,1, 1.0, 10.0, 1e2, 1e3, 1e4, 1e5]\n",
    "#def ridg_reg_lamV(lm):\n",
    "train_R_sq_ridg_2 = []\n",
    "test_R_sq_ridg_2 = []\n",
    "train_R_sq_lasso_2 = []\n",
    "test_R_sq_lasso_2 = []\n",
    "\n",
    "train_R_sq_ridg_2_avg =  []\n",
    "test_R_sq_ridg_2_avg =   []\n",
    "train_R_sq_lasso_2_avg = []\n",
    "test_R_sq_lasso_2_avg =  []\n",
    "\n",
    "train_R_sq_ridg_2_std =  []\n",
    "test_R_sq_ridg_2_std =   []\n",
    "train_R_sq_lasso_2_std = []\n",
    "test_R_sq_lasso_2_std =  []  \n",
    "\n",
    "train_R_sq_simple_2_avg =[]\n",
    "test_R_sq_simple_2_avg = []\n",
    "train_R_sq_simple_2_std = []\n",
    "test_R_sq_simple_2_std =  []\n",
    "\n",
    "for i in range(2,8):\n",
    "        k=(i-1)*50\n",
    "             #print (y_subset_tr.size,y_subset_ts.size)\n",
    "        train_R_sq_ridg_2 = []\n",
    "        test_R_sq_ridg_2 =  []\n",
    "        train_R_sq_lasso_2 =[]\n",
    "        test_R_sq_lasso_2 = []\n",
    "       #simple regression model \n",
    "        train_R_sq_simple_2=[]\n",
    "        test_R_sq_simple_2 =[]\n",
    "        for j in range(0,10): \n",
    "                x_subset_tr, y_subset_tr=sample(X_train,Y_train,k)\n",
    "                x_subset_ts, y_subset_ts=sample(X_test,Y_test,k) \n",
    "               # print (y_subset_tr.size,y_subset_ts.size)\n",
    "                ridgecv_2 = RidgeCV(alphas=lam_1, normalize=False,cv=4)       \n",
    "                ridgecv_2.fit( x_subset_tr, y_subset_tr)   \n",
    "                \n",
    "                train_R_sq_ridg_2.append(ridgecv_2.score(x_subset_tr, y_subset_tr))\n",
    "                test_R_sq_ridg_2.append(ridgecv_2.score(x_subset_ts, y_subset_ts))\n",
    "                \n",
    "                #simple regression model \n",
    "                simple_2_0 = RidgeCV(alphas=lam_0, normalize=False,cv=4)       \n",
    "                simple_2_0.fit( x_subset_tr, y_subset_tr)\n",
    "                train_R_sq_simple_2.append(simple_2_0.score(x_subset_tr, y_subset_tr))\n",
    "                test_R_sq_simple_2.append(simple_2_0.score(x_subset_ts, y_subset_ts))\n",
    "       \n",
    "                lassocv_2=LassoCV(alphas=lam_1,  normalize=False,cv=4)               \n",
    "                lassocv_2.fit(x_subset_tr, y_subset_tr) \n",
    "                train_R_sq_lasso_2.append(lassocv_2.score(x_subset_tr, y_subset_tr))\n",
    "                test_R_sq_lasso_2.append(lassocv_2.score(x_subset_ts, y_subset_ts))\n",
    "                \n",
    "        print(train_R_sq_lasso_2)\n",
    "        print (ridgecv_2.score(x_subset_tr, y_subset_tr))\n",
    "    \n",
    "        train_R_sq_ridg_2_avg.append(np.mean(train_R_sq_ridg_2))\n",
    "        test_R_sq_ridg_2_avg.append(np.mean(test_R_sq_ridg_2))\n",
    "        train_R_sq_lasso_2_avg.append(np.mean(train_R_sq_lasso_2))\n",
    "        test_R_sq_lasso_2_avg.append(np.mean(test_R_sq_lasso_2))\n",
    "\n",
    "        train_R_sq_ridg_2_std.append(np.std(train_R_sq_ridg_2))\n",
    "        test_R_sq_ridg_2_std.append(np.std(test_R_sq_ridg_2))\n",
    "        train_R_sq_lasso_2_std.append(np.std(train_R_sq_lasso_2))\n",
    "        test_R_sq_lasso_2_std.append(np.std(test_R_sq_lasso_2))\n",
    "        \n",
    "        train_R_sq_simple_2_avg.append(np.mean(train_R_sq_simple_2))\n",
    "        test_R_sq_simple_2_avg.append(np.mean(test_R_sq_simple_2))\n",
    "        train_R_sq_simple_2_std.append(np.std(train_R_sq_simple_2))\n",
    "        test_R_sq_simple_2_std.append(np.std(test_R_sq_simple_2))\n"
   ]
  },
  {
   "cell_type": "code",
   "execution_count": 1291,
   "metadata": {},
   "outputs": [
    {
     "data": {
      "text/html": [
       "<div>\n",
       "<style>\n",
       "    .dataframe thead tr:only-child th {\n",
       "        text-align: right;\n",
       "    }\n",
       "\n",
       "    .dataframe thead th {\n",
       "        text-align: left;\n",
       "    }\n",
       "\n",
       "    .dataframe tbody tr th {\n",
       "        vertical-align: top;\n",
       "    }\n",
       "</style>\n",
       "<table border=\"1\" class=\"dataframe\">\n",
       "  <thead>\n",
       "    <tr style=\"text-align: right;\">\n",
       "      <th></th>\n",
       "      <th>train_R_sq_ridg_2_avg</th>\n",
       "      <th>test_R_sq_ridg_2_avg</th>\n",
       "      <th>train_R_sq_simple_2_avg</th>\n",
       "      <th>test_R_sq_simple_2_avg</th>\n",
       "      <th>train_R_sq_lasso_2_avg</th>\n",
       "      <th>test_R_sq_lasso_2_avg</th>\n",
       "      <th>train_R_sq_ridg_2_std</th>\n",
       "      <th>test_R_sq_ridg_2_std</th>\n",
       "      <th>train_R_sq_simple_2_std</th>\n",
       "      <th>test_R_sq_simple_2_std</th>\n",
       "      <th>...</th>\n",
       "      <th>test_R_sq_ridg_2_avg_High</th>\n",
       "      <th>train_R_sq_simple_2_avg_Low</th>\n",
       "      <th>train_R_sq_simple_2_avg_High</th>\n",
       "      <th>test_R_sq_simple_2_avg_Low</th>\n",
       "      <th>test_R_sq_simple_2_avg_High</th>\n",
       "      <th>train_R_sq_lasso_2_avg_Low</th>\n",
       "      <th>train_R_sq_lasso_2_avg_High</th>\n",
       "      <th>test_R_sq_lasso_2_avg_Low</th>\n",
       "      <th>test_R_sq_lasso_2_avg_High</th>\n",
       "      <th>samples</th>\n",
       "    </tr>\n",
       "  </thead>\n",
       "  <tbody>\n",
       "    <tr>\n",
       "      <th>0</th>\n",
       "      <td>0.624821</td>\n",
       "      <td>0.142614</td>\n",
       "      <td>0.808545</td>\n",
       "      <td>-402.411315</td>\n",
       "      <td>0.558970</td>\n",
       "      <td>0.144969</td>\n",
       "      <td>0.087659</td>\n",
       "      <td>0.183607</td>\n",
       "      <td>0.064383</td>\n",
       "      <td>1206.061260</td>\n",
       "      <td>...</td>\n",
       "      <td>0.326220</td>\n",
       "      <td>0.744162</td>\n",
       "      <td>0.872929</td>\n",
       "      <td>-1608.472576</td>\n",
       "      <td>803.649945</td>\n",
       "      <td>0.446541</td>\n",
       "      <td>0.671400</td>\n",
       "      <td>-0.024720</td>\n",
       "      <td>0.314658</td>\n",
       "      <td>50</td>\n",
       "    </tr>\n",
       "    <tr>\n",
       "      <th>1</th>\n",
       "      <td>0.622248</td>\n",
       "      <td>0.216470</td>\n",
       "      <td>0.696632</td>\n",
       "      <td>0.065167</td>\n",
       "      <td>0.602275</td>\n",
       "      <td>0.201767</td>\n",
       "      <td>0.053115</td>\n",
       "      <td>0.081145</td>\n",
       "      <td>0.037346</td>\n",
       "      <td>0.127570</td>\n",
       "      <td>...</td>\n",
       "      <td>0.297615</td>\n",
       "      <td>0.659286</td>\n",
       "      <td>0.733979</td>\n",
       "      <td>-0.062403</td>\n",
       "      <td>0.192737</td>\n",
       "      <td>0.519093</td>\n",
       "      <td>0.685458</td>\n",
       "      <td>0.139580</td>\n",
       "      <td>0.263954</td>\n",
       "      <td>100</td>\n",
       "    </tr>\n",
       "    <tr>\n",
       "      <th>2</th>\n",
       "      <td>0.634099</td>\n",
       "      <td>0.182038</td>\n",
       "      <td>0.678994</td>\n",
       "      <td>0.104225</td>\n",
       "      <td>0.633169</td>\n",
       "      <td>0.174068</td>\n",
       "      <td>0.037565</td>\n",
       "      <td>0.136877</td>\n",
       "      <td>0.033518</td>\n",
       "      <td>0.149861</td>\n",
       "      <td>...</td>\n",
       "      <td>0.318916</td>\n",
       "      <td>0.645476</td>\n",
       "      <td>0.712513</td>\n",
       "      <td>-0.045637</td>\n",
       "      <td>0.254086</td>\n",
       "      <td>0.583072</td>\n",
       "      <td>0.683266</td>\n",
       "      <td>0.049771</td>\n",
       "      <td>0.298365</td>\n",
       "      <td>150</td>\n",
       "    </tr>\n",
       "    <tr>\n",
       "      <th>3</th>\n",
       "      <td>0.576782</td>\n",
       "      <td>0.246781</td>\n",
       "      <td>0.612078</td>\n",
       "      <td>0.203348</td>\n",
       "      <td>0.594596</td>\n",
       "      <td>0.243843</td>\n",
       "      <td>0.039728</td>\n",
       "      <td>0.069389</td>\n",
       "      <td>0.032132</td>\n",
       "      <td>0.076601</td>\n",
       "      <td>...</td>\n",
       "      <td>0.316169</td>\n",
       "      <td>0.579946</td>\n",
       "      <td>0.644210</td>\n",
       "      <td>0.126746</td>\n",
       "      <td>0.279949</td>\n",
       "      <td>0.561519</td>\n",
       "      <td>0.627673</td>\n",
       "      <td>0.173397</td>\n",
       "      <td>0.314289</td>\n",
       "      <td>200</td>\n",
       "    </tr>\n",
       "    <tr>\n",
       "      <th>4</th>\n",
       "      <td>0.598539</td>\n",
       "      <td>0.220481</td>\n",
       "      <td>0.616215</td>\n",
       "      <td>0.199059</td>\n",
       "      <td>0.604232</td>\n",
       "      <td>0.233309</td>\n",
       "      <td>0.035993</td>\n",
       "      <td>0.081199</td>\n",
       "      <td>0.032701</td>\n",
       "      <td>0.084749</td>\n",
       "      <td>...</td>\n",
       "      <td>0.301680</td>\n",
       "      <td>0.583515</td>\n",
       "      <td>0.648916</td>\n",
       "      <td>0.114310</td>\n",
       "      <td>0.283808</td>\n",
       "      <td>0.570606</td>\n",
       "      <td>0.637858</td>\n",
       "      <td>0.147384</td>\n",
       "      <td>0.319234</td>\n",
       "      <td>250</td>\n",
       "    </tr>\n",
       "    <tr>\n",
       "      <th>5</th>\n",
       "      <td>0.571321</td>\n",
       "      <td>0.271896</td>\n",
       "      <td>0.591384</td>\n",
       "      <td>0.250812</td>\n",
       "      <td>0.578375</td>\n",
       "      <td>0.275028</td>\n",
       "      <td>0.043150</td>\n",
       "      <td>0.083475</td>\n",
       "      <td>0.036188</td>\n",
       "      <td>0.079957</td>\n",
       "      <td>...</td>\n",
       "      <td>0.355371</td>\n",
       "      <td>0.555196</td>\n",
       "      <td>0.627572</td>\n",
       "      <td>0.170855</td>\n",
       "      <td>0.330769</td>\n",
       "      <td>0.540635</td>\n",
       "      <td>0.616115</td>\n",
       "      <td>0.193833</td>\n",
       "      <td>0.356224</td>\n",
       "      <td>300</td>\n",
       "    </tr>\n",
       "  </tbody>\n",
       "</table>\n",
       "<p>6 rows × 25 columns</p>\n",
       "</div>"
      ],
      "text/plain": [
       "   train_R_sq_ridg_2_avg  test_R_sq_ridg_2_avg  train_R_sq_simple_2_avg  \\\n",
       "0               0.624821              0.142614                 0.808545   \n",
       "1               0.622248              0.216470                 0.696632   \n",
       "2               0.634099              0.182038                 0.678994   \n",
       "3               0.576782              0.246781                 0.612078   \n",
       "4               0.598539              0.220481                 0.616215   \n",
       "5               0.571321              0.271896                 0.591384   \n",
       "\n",
       "   test_R_sq_simple_2_avg  train_R_sq_lasso_2_avg  test_R_sq_lasso_2_avg  \\\n",
       "0             -402.411315                0.558970               0.144969   \n",
       "1                0.065167                0.602275               0.201767   \n",
       "2                0.104225                0.633169               0.174068   \n",
       "3                0.203348                0.594596               0.243843   \n",
       "4                0.199059                0.604232               0.233309   \n",
       "5                0.250812                0.578375               0.275028   \n",
       "\n",
       "   train_R_sq_ridg_2_std  test_R_sq_ridg_2_std  train_R_sq_simple_2_std  \\\n",
       "0               0.087659              0.183607                 0.064383   \n",
       "1               0.053115              0.081145                 0.037346   \n",
       "2               0.037565              0.136877                 0.033518   \n",
       "3               0.039728              0.069389                 0.032132   \n",
       "4               0.035993              0.081199                 0.032701   \n",
       "5               0.043150              0.083475                 0.036188   \n",
       "\n",
       "   test_R_sq_simple_2_std   ...     test_R_sq_ridg_2_avg_High  \\\n",
       "0             1206.061260   ...                      0.326220   \n",
       "1                0.127570   ...                      0.297615   \n",
       "2                0.149861   ...                      0.318916   \n",
       "3                0.076601   ...                      0.316169   \n",
       "4                0.084749   ...                      0.301680   \n",
       "5                0.079957   ...                      0.355371   \n",
       "\n",
       "   train_R_sq_simple_2_avg_Low  train_R_sq_simple_2_avg_High  \\\n",
       "0                     0.744162                      0.872929   \n",
       "1                     0.659286                      0.733979   \n",
       "2                     0.645476                      0.712513   \n",
       "3                     0.579946                      0.644210   \n",
       "4                     0.583515                      0.648916   \n",
       "5                     0.555196                      0.627572   \n",
       "\n",
       "   test_R_sq_simple_2_avg_Low  test_R_sq_simple_2_avg_High  \\\n",
       "0                -1608.472576                   803.649945   \n",
       "1                   -0.062403                     0.192737   \n",
       "2                   -0.045637                     0.254086   \n",
       "3                    0.126746                     0.279949   \n",
       "4                    0.114310                     0.283808   \n",
       "5                    0.170855                     0.330769   \n",
       "\n",
       "   train_R_sq_lasso_2_avg_Low  train_R_sq_lasso_2_avg_High  \\\n",
       "0                    0.446541                     0.671400   \n",
       "1                    0.519093                     0.685458   \n",
       "2                    0.583072                     0.683266   \n",
       "3                    0.561519                     0.627673   \n",
       "4                    0.570606                     0.637858   \n",
       "5                    0.540635                     0.616115   \n",
       "\n",
       "   test_R_sq_lasso_2_avg_Low  test_R_sq_lasso_2_avg_High  samples  \n",
       "0                  -0.024720                    0.314658       50  \n",
       "1                   0.139580                    0.263954      100  \n",
       "2                   0.049771                    0.298365      150  \n",
       "3                   0.173397                    0.314289      200  \n",
       "4                   0.147384                    0.319234      250  \n",
       "5                   0.193833                    0.356224      300  \n",
       "\n",
       "[6 rows x 25 columns]"
      ]
     },
     "execution_count": 1291,
     "metadata": {},
     "output_type": "execute_result"
    }
   ],
   "source": [
    "lin=(50,100,150,200,250,300)\n",
    "df_sns=pd.DataFrame(columns=['train_R_sq_ridg_2_avg'  ,   'test_R_sq_ridg_2_avg', \n",
    "                             'train_R_sq_simple_2_avg',   'test_R_sq_simple_2_avg',\n",
    "                             'train_R_sq_lasso_2_avg' ,   'test_R_sq_lasso_2_avg', \n",
    "                                                                 \n",
    "                             'train_R_sq_ridg_2_std'  ,   'test_R_sq_ridg_2_std', \n",
    "                             'train_R_sq_simple_2_std',   'test_R_sq_simple_2_std',\n",
    "                             'train_R_sq_lasso_2_std' ,   'test_R_sq_lasso_2_std', \n",
    "                            ])\n",
    "\n",
    "df_sns['train_R_sq_ridg_2_avg']=  train_R_sq_ridg_2_avg;\n",
    "df_sns['test_R_sq_ridg_2_avg']=   test_R_sq_ridg_2_avg;\n",
    "df_sns['train_R_sq_simple_2_avg']=train_R_sq_simple_2_avg;\n",
    "df_sns['test_R_sq_simple_2_avg']= test_R_sq_simple_2_avg;\n",
    "df_sns['train_R_sq_lasso_2_avg']= train_R_sq_lasso_2_avg;\n",
    "df_sns['test_R_sq_lasso_2_avg']=  test_R_sq_lasso_2_avg;\n",
    "\n",
    "df_sns['train_R_sq_ridg_2_std']=  train_R_sq_ridg_2_std;\n",
    "df_sns['test_R_sq_ridg_2_std']=   test_R_sq_ridg_2_std;\n",
    "df_sns['train_R_sq_simple_2_std']=train_R_sq_simple_2_std;\n",
    "df_sns['test_R_sq_simple_2_std']= test_R_sq_simple_2_std;\n",
    "df_sns['train_R_sq_lasso_2_std']= train_R_sq_lasso_2_std;\n",
    "df_sns['test_R_sq_lasso_2_std']=  test_R_sq_lasso_2_std;\n",
    "\n",
    "\n",
    "df_sns['train_R_sq_ridg_2_avg_Low']=df_sns['train_R_sq_ridg_2_avg']-df_sns['train_R_sq_ridg_2_std']\n",
    "df_sns['train_R_sq_ridg_2_avg_High']=df_sns['train_R_sq_ridg_2_avg']+df_sns['train_R_sq_ridg_2_std']\n",
    "\n",
    "df_sns['test_R_sq_ridg_2_avg_Low']=df_sns['test_R_sq_ridg_2_avg']-df_sns['test_R_sq_ridg_2_std']\n",
    "df_sns['test_R_sq_ridg_2_avg_High']=df_sns['test_R_sq_ridg_2_avg']+df_sns['test_R_sq_ridg_2_std']\n",
    "\n",
    "df_sns['train_R_sq_simple_2_avg_Low']=df_sns['train_R_sq_simple_2_avg']-df_sns['train_R_sq_simple_2_std']\n",
    "df_sns['train_R_sq_simple_2_avg_High']=df_sns['train_R_sq_simple_2_avg']+df_sns['train_R_sq_simple_2_std']\n",
    "\n",
    "df_sns['test_R_sq_simple_2_avg_Low']=df_sns['test_R_sq_simple_2_avg']-df_sns['test_R_sq_simple_2_std']\n",
    "df_sns['test_R_sq_simple_2_avg_High']=df_sns['test_R_sq_simple_2_avg']+df_sns['test_R_sq_simple_2_std']\n",
    "\n",
    "df_sns['train_R_sq_lasso_2_avg_Low']=df_sns['train_R_sq_lasso_2_avg']-df_sns['train_R_sq_lasso_2_std']\n",
    "df_sns['train_R_sq_lasso_2_avg_High']=df_sns['train_R_sq_lasso_2_avg']+df_sns['train_R_sq_lasso_2_std']\n",
    "\n",
    "df_sns['test_R_sq_lasso_2_avg_Low']=df_sns['test_R_sq_lasso_2_avg']-df_sns['test_R_sq_lasso_2_std']\n",
    "df_sns['test_R_sq_lasso_2_avg_High']=df_sns['test_R_sq_lasso_2_avg']+df_sns['test_R_sq_lasso_2_std']\n",
    "\n",
    "\n",
    "df_sns['samples']=lin\n",
    "#df_sns=df_sns.set_index('samples')\n",
    "df_sns"
   ]
  },
  {
   "cell_type": "code",
   "execution_count": 1292,
   "metadata": {},
   "outputs": [
    {
     "data": {
      "image/png": "[encoded data removed]",
      "text/plain": [
       "<matplotlib.figure.Figure at 0x111adc18>"
      ]
     },
     "metadata": {},
     "output_type": "display_data"
    }
   ],
   "source": [
    "lin=(50,100,150,200,250,300)\n",
    "fig, ax = plt.subplots(1, 2, figsize=(13, 6))\n",
    "\n",
    "ax[0].plot(lin, train_R_sq_ridg_2_avg,'*', color='blue', label='train R^2 RIDGE')\n",
    "ax[0].fill_between(df_sns.samples,df_sns.train_R_sq_ridg_2_avg_Low,df_sns.train_R_sq_ridg_2_avg_High,color='skyblue')\n",
    "\n",
    "ax[0].plot(lin, test_R_sq_ridg_2_avg,'*', color='red', label='test R^2 RIDGE')\n",
    "ax[0].fill_between(df_sns.samples,df_sns.test_R_sq_ridg_2_avg_Low,df_sns.test_R_sq_ridg_2_avg_High,color='mistyrose')\n",
    "\n",
    "ax[0].plot(lin, train_R_sq_simple_2_avg,'.', color='green', label='train R^2 simple')\n",
    "#ax[0].plot(lin, test_R_sq_simple_2_avg,'.', color='pink', label='test R^2 simple')\n",
    "#ax[0].fill_between(df_sns.samples,df_sns.train_R_sq_simple_2_avg_Low,df_sns.train_R_sq_simple_2_avg_High,color='lightgreen')\n",
    "\n",
    "ax[0].plot(lin,train_R_sq_lasso_2_avg,'^',color='gold',label='train R^2 lasso')\n",
    "\n",
    "ax[0].plot(lin,test_R_sq_lasso_2_avg,'^',color='silver',label='test R^2 lasso')\n",
    "\n",
    "\n",
    "ax[0].set_title('AVG R^2 train&test')\n",
    "ax[0].set_ylabel('R^2')\n",
    "ax[0].set_xlabel('num.samples')\n",
    "ax[0].legend(loc='best')\n",
    "\n",
    "ax[1].plot(lin, train_R_sq_ridg_2_std,'*', color='blue', label='train std RIDGE')\n",
    "ax[1].plot(lin, test_R_sq_ridg_2_std,'*', color='red', label='test std RIDGE')\n",
    "\n",
    "\n",
    "ax[1].plot(lin, train_R_sq_simple_2_std,'.', color='green', label='train std simple')\n",
    "ax[1].plot(lin, test_R_sq_simple_2_std,'.', color='pink', label='test R^2 simple')\n",
    "\n",
    "ax[1].plot(lin, train_R_sq_lasso_2_std,'^', color='gold', label='train std lasso')\n",
    "ax[1].plot(lin, test_R_sq_lasso_2_std,'^', color='silver', label='test std lasso')\n",
    "\n",
    "ax[1].set_title('STD train&test')\n",
    "ax[1].set_ylabel('std')\n",
    "ax[1].set_yscale('log')\n",
    "ax[1].set_xlabel('num.samples')\n",
    "ax[1].legend(loc='best')\n",
    "ax[1].set_ylim(0.03,0.3)\n",
    "\n",
    "plt.show()"
   ]
  },
  {
   "cell_type": "code",
   "execution_count": 1293,
   "metadata": {
    "collapsed": true
   },
   "outputs": [],
   "source": [
    "#While the R^2 for all the three methods with increasing the sample set size become closer to each other, the R^2 of the test set \n",
    "#for all the ridge and lasso  methods is almost 2 times lower, and almost identical , there are some very low values for the test \n",
    "#set of the simple regression model, indicating that the prediction of the training set on the small test set was not sucesfull\n",
    "#at all, thus given a small set we would rather use the lasso or the ridge reg. due to additional constraint on the coefs. of the \n",
    "#predictors , this methods predict more stable results that improve with the increase of the set size.\n",
    "#the confidense intervals with the increase of the set size become tighter\n",
    "#recomendation:lasso or ridge, probably lasso due to the ability to settle some of the predictors to zero"
   ]
  },
  {
   "cell_type": "markdown",
   "metadata": {},
   "source": [
    "- Fit linear, Ridge and Lasso regression models to each of the generated sample. In each case, compute the $R^2$ score for the model on the training sample on which it was fitted, and on the test set.\n",
    "- Repeat the above experiment for 10 random trials/splits, and compute the average train and test $R^2$ across the trials for each training sample size. Also, compute the standard deviation (SD) in each case.\n",
    "- Make a plot of the mean training $R^2$ scores for the linear, Ridge and Lasso regression methods as a function of the training sample size. Also, show a confidence interval for the mean scores extending from **mean - SD** to **mean + SD**. Make a similar plot for the test $R^2$ scores.\n",
    "\n",
    "How do the training and test $R^2$ scores compare for the three methods? Give an explanation for your observations. How do the confidence intervals for the estimated $R^2$ change with training sample size? Based on the plots, which of the three methods would you recommend when one needs to fit a regression model using a small training sample?\n",
    "\n",
    "*Hint:* You may use `sklearn`'s `RidgeCV` and `LassoCV` classes to implement Ridge and Lasso regression. These classes automatically perform cross-validation to tune the parameter $\\lambda$ from a given range of values. You may use the `plt.errorbar` function to plot confidence bars for the average $R^2$ scores."
   ]
  },
  {
   "cell_type": "markdown",
   "metadata": {},
   "source": [
    "your answers here"
   ]
  },
  {
   "cell_type": "markdown",
   "metadata": {},
   "source": [
    "## Part (g): Polynomial & Interaction Terms\n",
    "\n",
    "Moving beyond linear models, we will now try to improve the performance of the regression model in Part (b) from HW 3 by including higher-order polynomial and interaction terms. \n",
    "\n",
    "- For each continuous predictor $X_j$, include additional polynomial terms $X^2_j$, $X^3_j$, and $X^4_j$, and fit a multiple regression model to the expanded training set. How does the $R^2$ of this model on the test set compare with that of the linear model fitted in Part (b) from HW 3? Using a t-test, find out which of estimated coefficients for the polynomial terms are statistically significant at a significance level of 5%. \n",
    "\n",
    "- Fit a multiple linear regression model with additional interaction terms $\\mathbb{I}_{month = 12} \\times temp$ and $\\mathbb{I}_{workingday = 1} \\times \\mathbb{I}_{weathersit = 1}$ and report the test $R^2$ for the fitted model. How does this compare with the $R^2$ obtained using linear model in Part (b) from HW 3? Are the estimated coefficients for the interaction terms statistically significant at a significance level of 5%?"
   ]
  },
  {
   "cell_type": "code",
   "execution_count": 1349,
   "metadata": {
    "collapsed": true
   },
   "outputs": [],
   "source": [
    "X_train_temp = df_train_f_1[['temp_new']].values.reshape(331, 1)\n",
    "X_train_atemp=df_train_f_1[['atemp_new']].values.reshape(331, 1)\n",
    "X_train_humidity=df_train_f_1[['humidity_new']].values.reshape(331, 1)\n",
    "X_train_windspeed=df_train_f_1[['windspeed_new']].values.reshape(331, 1)\n",
    "\n",
    "X_test_temp = df_test_f[['temp_new']].values.reshape(400, 1)\n",
    "X_test_atemp=df_test_f[['atemp_new']].values.reshape(400, 1)\n",
    "X_test_humidity=df_test_f[['humidity_new']].values.reshape(400, 1)\n",
    "X_test_windspeed=df_test_f[['windspeed_new']].values.reshape(400, 1)\n"
   ]
  },
  {
   "cell_type": "code",
   "execution_count": 1891,
   "metadata": {},
   "outputs": [
    {
     "data": {
      "text/plain": [
       "array([[ 1.        ,  0.62474283,  0.39030361,  0.24383938,  0.15233691]])"
      ]
     },
     "execution_count": 1891,
     "metadata": {},
     "output_type": "execute_result"
    }
   ],
   "source": [
    "gen_poly_terms = PolynomialFeatures(degree=4, interaction_only=False)\n",
    "X_temp_pol = gen_poly_terms.fit_transform(X_train_temp)\n",
    "X_atemp_pol = gen_poly_terms.fit_transform(X_train_atemp)\n",
    "X_humidity_pol = gen_poly_terms.fit_transform(X_train_humidity)\n",
    "X_windspeed_pol = gen_poly_terms.fit_transform(X_train_windspeed)\n",
    "\n",
    "X_test_temp_pol=gen_poly_terms.fit_transform(X_test_temp)\n",
    "X_test_atemp_pol=gen_poly_terms.fit_transform(X_test_atemp)\n",
    "X_test_humidity_pol=gen_poly_terms.fit_transform(X_test_humidity)\n",
    "X_test_windspeed_pol=gen_poly_terms.fit_transform(X_test_windspeed)\n"
   ]
  },
  {
   "cell_type": "code",
   "execution_count": 1351,
   "metadata": {
    "collapsed": true
   },
   "outputs": [],
   "source": [
    "df_temp = pd.DataFrame(X_temp_pol)\n",
    "df_temp=df_temp.rename(columns={0:\"temp_0\",1:\"temp_1\",2:\"temp_2\",3:\"temp_3\",4:\"temp_4\"})\n",
    "df_atemp = pd.DataFrame(X_atemp_pol)\n",
    "df_atemp=df_atemp.rename(columns={0:\"atemp_0\",1:\"atemp_1\",2:\"atemp_2\",3:\"atemp_3\",4:\"atemp_4\"})\n",
    "df_humidity = pd.DataFrame(X_humidity_pol)\n",
    "df_humidity=df_humidity.rename(columns={0:\"humidity_0\",1:\"humidity_1\",2:\"humidity_2\",3:\"humidity_3\",4:\"humidity_4\"})\n",
    "df_windspeed = pd.DataFrame(X_windspeed_pol)\n",
    "df_windspeed=df_windspeed.rename(columns={0:\"windspeed_0\",1:\"windspeed_1\",2:\"windspeed_2\",3:\"windspeed_3\",4:\"windspeed_4\"})\n",
    "\n",
    "df_temp_test = pd.DataFrame(X_test_temp_pol)\n",
    "df_temp_test=df_temp_test .rename(columns={0:\"temp_0\",1:\"temp_1\",2:\"temp_2\",3:\"temp_3\",4:\"temp_4\"})\n",
    "df_atemp_test = pd.DataFrame(X_test_atemp_pol)\n",
    "df_atemp_test=df_atemp_test.rename(columns={0:\"atemp_0\",1:\"atemp_1\",2:\"atemp_2\",3:\"atemp_3\",4:\"atemp_4\"})\n",
    "df_humidity_test = pd.DataFrame(X_test_humidity_pol)\n",
    "df_humidity_test=df_humidity_test.rename(columns={0:\"humidity_0\",1:\"humidity_1\",2:\"humidity_2\",3:\"humidity_3\",4:\"humidity_4\"})\n",
    "df_windspeed_test = pd.DataFrame(X_test_windspeed_pol)\n",
    "df_windspeed_test=df_windspeed_test.rename(columns={0:\"windspeed_0\",1:\"windspeed_1\",2:\"windspeed_2\",3:\"windspeed_3\",4:\"windspeed_4\"})\n",
    "\n"
   ]
  },
  {
   "cell_type": "code",
   "execution_count": 1352,
   "metadata": {
    "collapsed": true
   },
   "outputs": [],
   "source": [
    "df_train_pol=pd.concat([df_train_f, df_temp,df_atemp,df_humidity,df_windspeed], axis=1)\n",
    "#df_train_pol.columns.tolist()\n",
    "del df_train_pol['temp_new']\n",
    "del df_train_pol['atemp_new']\n",
    "del df_train_pol['humidity_new']\n",
    "del df_train_pol['windspeed_new']\n",
    "del df_train_pol[ 'humidity_0']\n",
    "del df_train_pol[  'windspeed_0']\n"
   ]
  },
  {
   "cell_type": "code",
   "execution_count": 1880,
   "metadata": {
    "collapsed": true
   },
   "outputs": [],
   "source": [
    "#df_train_pol.columns.tolist()"
   ]
  },
  {
   "cell_type": "code",
   "execution_count": 1353,
   "metadata": {
    "collapsed": true
   },
   "outputs": [],
   "source": [
    "df_test_pol=pd.concat([df_test_f, df_temp_test,df_atemp_test,df_humidity_test,df_windspeed_test], axis=1)\n",
    "del df_test_pol['temp_new']\n",
    "del df_test_pol['atemp_new']\n",
    "del df_test_pol['humidity_new']\n",
    "del df_test_pol['windspeed_new']\n",
    "del df_test_pol[ 'humidity_0']\n",
    "del df_test_pol[  'windspeed_0']\n",
    "del df_test_pol[  'atemp_0']\n"
   ]
  },
  {
   "cell_type": "code",
   "execution_count": 1895,
   "metadata": {
    "collapsed": true
   },
   "outputs": [],
   "source": [
    "#df_test_pol.head()"
   ]
  },
  {
   "cell_type": "code",
   "execution_count": 1892,
   "metadata": {
    "collapsed": true
   },
   "outputs": [],
   "source": [
    "cols_f_pol=df_test_pol.columns.tolist()\n",
    "c=cols_f_pol[26:27]\n",
    "col1=cols_f_pol[:25]\n",
    "col2=col1+cols_f_pol[27:] #+c\n",
    "#print(col2)\n",
    "#len(cols_f_pol)\n",
    "#col2"
   ]
  },
  {
   "cell_type": "code",
   "execution_count": 1901,
   "metadata": {
    "collapsed": true
   },
   "outputs": [],
   "source": [
    "X_train_pol=df_train_pol[col2].values\n",
    "Y_train_pol=df_train_pol['count'].values\n",
    "\n",
    "X_test_pol=df_test_pol[col2].values\n",
    "Y_test_pol=df_test_pol['count'].values\n"
   ]
  },
  {
   "cell_type": "code",
   "execution_count": 1902,
   "metadata": {
    "scrolled": true
   },
   "outputs": [
    {
     "name": "stdout",
     "output_type": "stream",
     "text": [
      "Ridge Results for lam=0, Simple regression\n",
      "The largest R^2 for the training set: 0.669656240221\n",
      "The largest R^2 for the test set: 0.294070223623\n"
     ]
    },
    {
     "name": "stderr",
     "output_type": "stream",
     "text": [
      "d:\\Users\\Home\\Anaconda3\\lib\\site-packages\\scipy\\linalg\\basic.py:223: RuntimeWarning: scipy.linalg.solve\n",
      "Ill-conditioned matrix detected. Result is not guaranteed to be accurate.\n",
      "Reciprocal condition number: 2.9736761299043706e-17\n",
      "  ' condition number: {}'.format(rcond), RuntimeWarning)\n",
      "d:\\Users\\Home\\Anaconda3\\lib\\site-packages\\scipy\\linalg\\basic.py:223: RuntimeWarning: scipy.linalg.solve\n",
      "Ill-conditioned matrix detected. Result is not guaranteed to be accurate.\n",
      "Reciprocal condition number: 6.311553534857486e-18\n",
      "  ' condition number: {}'.format(rcond), RuntimeWarning)\n",
      "d:\\Users\\Home\\Anaconda3\\lib\\site-packages\\scipy\\linalg\\basic.py:223: RuntimeWarning: scipy.linalg.solve\n",
      "Ill-conditioned matrix detected. Result is not guaranteed to be accurate.\n",
      "Reciprocal condition number: 1.1386720176095823e-17\n",
      "  ' condition number: {}'.format(rcond), RuntimeWarning)\n"
     ]
    }
   ],
   "source": [
    "ridgecv_pol_0 = RidgeCV(alphas=lam_0, normalize=False,cv=2)       \n",
    "ridgecv_pol_0.fit(X_train_pol, Y_train_pol)\n",
    "print('Ridge Results for lam=0, Simple regression')\n",
    "print('The largest R^2 for the training set:',ridgecv_pol_0.score(X_train_pol,Y_train_pol))\n",
    "print('The largest R^2 for the test set:', ridgecv_pol_0.score(X_test_pol,Y_test_pol))"
   ]
  },
  {
   "cell_type": "code",
   "execution_count": 1903,
   "metadata": {
    "collapsed": true
   },
   "outputs": [],
   "source": [
    "result_all = sm.OLS(Y_train_pol,X_train_pol).fit()"
   ]
  },
  {
   "cell_type": "code",
   "execution_count": 1904,
   "metadata": {},
   "outputs": [
    {
     "name": "stdout",
     "output_type": "stream",
     "text": [
      "0.294070223623\n"
     ]
    }
   ],
   "source": [
    "y_hat_train_poly = result_all.predict(X_train_pol)\n",
    "y_hat_test_poly = result_all.predict(X_test_pol)\n",
    "print(r2_score(Y_test_pol, y_hat_test_poly))"
   ]
  },
  {
   "cell_type": "code",
   "execution_count": 1905,
   "metadata": {},
   "outputs": [
    {
     "data": {
      "text/html": [
       "<table class=\"simpletable\">\n",
       "<caption>OLS Regression Results</caption>\n",
       "<tr>\n",
       "  <th>Dep. Variable:</th>            <td>y</td>        <th>  R-squared:         </th> <td>   0.670</td>\n",
       "</tr>\n",
       "<tr>\n",
       "  <th>Model:</th>                   <td>OLS</td>       <th>  Adj. R-squared:    </th> <td>   0.625</td>\n",
       "</tr>\n",
       "<tr>\n",
       "  <th>Method:</th>             <td>Least Squares</td>  <th>  F-statistic:       </th> <td>   15.13</td>\n",
       "</tr>\n",
       "<tr>\n",
       "  <th>Date:</th>             <td>Wed, 17 Jan 2018</td> <th>  Prob (F-statistic):</th> <td>7.98e-50</td>\n",
       "</tr>\n",
       "<tr>\n",
       "  <th>Time:</th>                 <td>16:26:32</td>     <th>  Log-Likelihood:    </th> <td> -2790.9</td>\n",
       "</tr>\n",
       "<tr>\n",
       "  <th>No. Observations:</th>      <td>   331</td>      <th>  AIC:               </th> <td>   5662.</td>\n",
       "</tr>\n",
       "<tr>\n",
       "  <th>Df Residuals:</th>          <td>   291</td>      <th>  BIC:               </th> <td>   5814.</td>\n",
       "</tr>\n",
       "<tr>\n",
       "  <th>Df Model:</th>              <td>    39</td>      <th>                     </th>     <td> </td>   \n",
       "</tr>\n",
       "<tr>\n",
       "  <th>Covariance Type:</th>      <td>nonrobust</td>    <th>                     </th>     <td> </td>   \n",
       "</tr>\n",
       "</table>\n",
       "<table class=\"simpletable\">\n",
       "<tr>\n",
       "   <td></td>      <th>coef</th>     <th>std err</th>      <th>t</th>      <th>P>|t|</th>  <th>[0.025</th>    <th>0.975]</th>  \n",
       "</tr>\n",
       "<tr>\n",
       "  <th>x1</th>  <td>  766.4307</td> <td>  454.546</td> <td>    1.686</td> <td> 0.093</td> <td> -128.185</td> <td> 1661.046</td>\n",
       "</tr>\n",
       "<tr>\n",
       "  <th>x2</th>  <td> 1578.7544</td> <td>  519.364</td> <td>    3.040</td> <td> 0.003</td> <td>  556.569</td> <td> 2600.940</td>\n",
       "</tr>\n",
       "<tr>\n",
       "  <th>x3</th>  <td> 1523.2288</td> <td>  467.580</td> <td>    3.258</td> <td> 0.001</td> <td>  602.961</td> <td> 2443.496</td>\n",
       "</tr>\n",
       "<tr>\n",
       "  <th>x4</th>  <td> -325.0686</td> <td>  409.611</td> <td>   -0.794</td> <td> 0.428</td> <td>-1131.245</td> <td>  481.108</td>\n",
       "</tr>\n",
       "<tr>\n",
       "  <th>x5</th>  <td> -304.8491</td> <td>  446.028</td> <td>   -0.683</td> <td> 0.495</td> <td>-1182.700</td> <td>  573.002</td>\n",
       "</tr>\n",
       "<tr>\n",
       "  <th>x6</th>  <td> -418.0245</td> <td>  639.524</td> <td>   -0.654</td> <td> 0.514</td> <td>-1676.703</td> <td>  840.654</td>\n",
       "</tr>\n",
       "<tr>\n",
       "  <th>x7</th>  <td>-1037.2042</td> <td>  677.186</td> <td>   -1.532</td> <td> 0.127</td> <td>-2370.008</td> <td>  295.599</td>\n",
       "</tr>\n",
       "<tr>\n",
       "  <th>x8</th>  <td>-1456.1857</td> <td>  697.520</td> <td>   -2.088</td> <td> 0.038</td> <td>-2829.010</td> <td>  -83.362</td>\n",
       "</tr>\n",
       "<tr>\n",
       "  <th>x9</th>  <td>-1416.9882</td> <td>  749.751</td> <td>   -1.890</td> <td> 0.060</td> <td>-2892.610</td> <td>   58.634</td>\n",
       "</tr>\n",
       "<tr>\n",
       "  <th>x10</th> <td>-1715.9389</td> <td>  743.240</td> <td>   -2.309</td> <td> 0.022</td> <td>-3178.747</td> <td> -253.131</td>\n",
       "</tr>\n",
       "<tr>\n",
       "  <th>x11</th> <td>-1073.4008</td> <td>  660.859</td> <td>   -1.624</td> <td> 0.105</td> <td>-2374.069</td> <td>  227.268</td>\n",
       "</tr>\n",
       "<tr>\n",
       "  <th>x12</th> <td> -925.8710</td> <td>  617.522</td> <td>   -1.499</td> <td> 0.135</td> <td>-2141.247</td> <td>  289.505</td>\n",
       "</tr>\n",
       "<tr>\n",
       "  <th>x13</th> <td> -825.5328</td> <td>  591.138</td> <td>   -1.397</td> <td> 0.164</td> <td>-1988.981</td> <td>  337.916</td>\n",
       "</tr>\n",
       "<tr>\n",
       "  <th>x14</th> <td> -555.6676</td> <td>  479.543</td> <td>   -1.159</td> <td> 0.248</td> <td>-1499.481</td> <td>  388.146</td>\n",
       "</tr>\n",
       "<tr>\n",
       "  <th>x15</th> <td> -189.7675</td> <td>  365.157</td> <td>   -0.520</td> <td> 0.604</td> <td> -908.451</td> <td>  528.916</td>\n",
       "</tr>\n",
       "<tr>\n",
       "  <th>x16</th> <td>  -93.3265</td> <td>  156.015</td> <td>   -0.598</td> <td> 0.550</td> <td> -400.387</td> <td>  213.734</td>\n",
       "</tr>\n",
       "<tr>\n",
       "  <th>x17</th> <td> -133.4279</td> <td>  184.734</td> <td>   -0.722</td> <td> 0.471</td> <td> -497.012</td> <td>  230.156</td>\n",
       "</tr>\n",
       "<tr>\n",
       "  <th>x18</th> <td>  147.7313</td> <td>  195.071</td> <td>    0.757</td> <td> 0.449</td> <td> -236.197</td> <td>  531.660</td>\n",
       "</tr>\n",
       "<tr>\n",
       "  <th>x19</th> <td>   30.5924</td> <td>  187.547</td> <td>    0.163</td> <td> 0.871</td> <td> -338.528</td> <td>  399.713</td>\n",
       "</tr>\n",
       "<tr>\n",
       "  <th>x20</th> <td>  209.9371</td> <td>  182.024</td> <td>    1.153</td> <td> 0.250</td> <td> -148.313</td> <td>  568.187</td>\n",
       "</tr>\n",
       "<tr>\n",
       "  <th>x21</th> <td>  471.0834</td> <td>  246.557</td> <td>    1.911</td> <td> 0.057</td> <td>  -14.178</td> <td>  956.345</td>\n",
       "</tr>\n",
       "<tr>\n",
       "  <th>x22</th> <td>  351.2739</td> <td>  150.615</td> <td>    2.332</td> <td> 0.020</td> <td>   54.841</td> <td>  647.707</td>\n",
       "</tr>\n",
       "<tr>\n",
       "  <th>x23</th> <td> 5035.2713</td> <td>  460.417</td> <td>   10.936</td> <td> 0.000</td> <td> 4129.101</td> <td> 5941.442</td>\n",
       "</tr>\n",
       "<tr>\n",
       "  <th>x24</th> <td> 5094.2831</td> <td>  480.111</td> <td>   10.611</td> <td> 0.000</td> <td> 4149.352</td> <td> 6039.214</td>\n",
       "</tr>\n",
       "<tr>\n",
       "  <th>x25</th> <td> 3991.2716</td> <td>  710.187</td> <td>    5.620</td> <td> 0.000</td> <td> 2593.518</td> <td> 5389.025</td>\n",
       "</tr>\n",
       "<tr>\n",
       "  <th>x26</th> <td>  770.3204</td> <td>  758.967</td> <td>    1.015</td> <td> 0.311</td> <td> -723.441</td> <td> 2264.082</td>\n",
       "</tr>\n",
       "<tr>\n",
       "  <th>x27</th> <td>-1805.5466</td> <td>  814.442</td> <td>   -2.217</td> <td> 0.027</td> <td>-3408.491</td> <td> -202.602</td>\n",
       "</tr>\n",
       "<tr>\n",
       "  <th>x28</th> <td>    8.5688</td> <td>  274.482</td> <td>    0.031</td> <td> 0.975</td> <td> -531.653</td> <td>  548.790</td>\n",
       "</tr>\n",
       "<tr>\n",
       "  <th>x29</th> <td>  -44.9184</td> <td>  170.385</td> <td>   -0.264</td> <td> 0.792</td> <td> -380.261</td> <td>  290.425</td>\n",
       "</tr>\n",
       "<tr>\n",
       "  <th>x30</th> <td>  895.9192</td> <td>  712.094</td> <td>    1.258</td> <td> 0.209</td> <td> -505.588</td> <td> 2297.426</td>\n",
       "</tr>\n",
       "<tr>\n",
       "  <th>x31</th> <td> 1171.9491</td> <td>  786.481</td> <td>    1.490</td> <td> 0.137</td> <td> -375.962</td> <td> 2719.861</td>\n",
       "</tr>\n",
       "<tr>\n",
       "  <th>x32</th> <td> -302.5595</td> <td>  244.983</td> <td>   -1.235</td> <td> 0.218</td> <td> -784.722</td> <td>  179.603</td>\n",
       "</tr>\n",
       "<tr>\n",
       "  <th>x33</th> <td>  -20.6433</td> <td>  146.714</td> <td>   -0.141</td> <td> 0.888</td> <td> -309.398</td> <td>  268.112</td>\n",
       "</tr>\n",
       "<tr>\n",
       "  <th>x34</th> <td> -667.9033</td> <td>  157.118</td> <td>   -4.251</td> <td> 0.000</td> <td> -977.136</td> <td> -358.671</td>\n",
       "</tr>\n",
       "<tr>\n",
       "  <th>x35</th> <td>  -53.5087</td> <td>  154.914</td> <td>   -0.345</td> <td> 0.730</td> <td> -358.402</td> <td>  251.384</td>\n",
       "</tr>\n",
       "<tr>\n",
       "  <th>x36</th> <td>  -15.9849</td> <td>   44.689</td> <td>   -0.358</td> <td> 0.721</td> <td> -103.940</td> <td>   71.970</td>\n",
       "</tr>\n",
       "<tr>\n",
       "  <th>x37</th> <td>  -24.6869</td> <td>   31.291</td> <td>   -0.789</td> <td> 0.431</td> <td>  -86.272</td> <td>   36.898</td>\n",
       "</tr>\n",
       "<tr>\n",
       "  <th>x38</th> <td> -445.8335</td> <td>  148.704</td> <td>   -2.998</td> <td> 0.003</td> <td> -738.505</td> <td> -153.162</td>\n",
       "</tr>\n",
       "<tr>\n",
       "  <th>x39</th> <td>  -34.0621</td> <td>  126.569</td> <td>   -0.269</td> <td> 0.788</td> <td> -283.168</td> <td>  215.044</td>\n",
       "</tr>\n",
       "<tr>\n",
       "  <th>x40</th> <td>   44.6309</td> <td>   65.163</td> <td>    0.685</td> <td> 0.494</td> <td>  -83.619</td> <td>  172.881</td>\n",
       "</tr>\n",
       "<tr>\n",
       "  <th>x41</th> <td>  -20.0552</td> <td>   30.144</td> <td>   -0.665</td> <td> 0.506</td> <td>  -79.382</td> <td>   39.272</td>\n",
       "</tr>\n",
       "</table>\n",
       "<table class=\"simpletable\">\n",
       "<tr>\n",
       "  <th>Omnibus:</th>       <td>29.995</td> <th>  Durbin-Watson:     </th> <td>   1.959</td>\n",
       "</tr>\n",
       "<tr>\n",
       "  <th>Prob(Omnibus):</th> <td> 0.000</td> <th>  Jarque-Bera (JB):  </th> <td>  10.202</td>\n",
       "</tr>\n",
       "<tr>\n",
       "  <th>Skew:</th>          <td>-0.094</td> <th>  Prob(JB):          </th> <td> 0.00609</td>\n",
       "</tr>\n",
       "<tr>\n",
       "  <th>Kurtosis:</th>      <td> 2.161</td> <th>  Cond. No.          </th> <td>1.27e+16</td>\n",
       "</tr>\n",
       "</table>"
      ],
      "text/plain": [
       "<class 'statsmodels.iolib.summary.Summary'>\n",
       "\"\"\"\n",
       "                            OLS Regression Results                            \n",
       "==============================================================================\n",
       "Dep. Variable:                      y   R-squared:                       0.670\n",
       "Model:                            OLS   Adj. R-squared:                  0.625\n",
       "Method:                 Least Squares   F-statistic:                     15.13\n",
       "Date:                Wed, 17 Jan 2018   Prob (F-statistic):           7.98e-50\n",
       "Time:                        16:26:32   Log-Likelihood:                -2790.9\n",
       "No. Observations:                 331   AIC:                             5662.\n",
       "Df Residuals:                     291   BIC:                             5814.\n",
       "Df Model:                          39                                         \n",
       "Covariance Type:            nonrobust                                         \n",
       "==============================================================================\n",
       "                 coef    std err          t      P>|t|      [0.025      0.975]\n",
       "------------------------------------------------------------------------------\n",
       "x1           766.4307    454.546      1.686      0.093    -128.185    1661.046\n",
       "x2          1578.7544    519.364      3.040      0.003     556.569    2600.940\n",
       "x3          1523.2288    467.580      3.258      0.001     602.961    2443.496\n",
       "x4          -325.0686    409.611     -0.794      0.428   -1131.245     481.108\n",
       "x5          -304.8491    446.028     -0.683      0.495   -1182.700     573.002\n",
       "x6          -418.0245    639.524     -0.654      0.514   -1676.703     840.654\n",
       "x7         -1037.2042    677.186     -1.532      0.127   -2370.008     295.599\n",
       "x8         -1456.1857    697.520     -2.088      0.038   -2829.010     -83.362\n",
       "x9         -1416.9882    749.751     -1.890      0.060   -2892.610      58.634\n",
       "x10        -1715.9389    743.240     -2.309      0.022   -3178.747    -253.131\n",
       "x11        -1073.4008    660.859     -1.624      0.105   -2374.069     227.268\n",
       "x12         -925.8710    617.522     -1.499      0.135   -2141.247     289.505\n",
       "x13         -825.5328    591.138     -1.397      0.164   -1988.981     337.916\n",
       "x14         -555.6676    479.543     -1.159      0.248   -1499.481     388.146\n",
       "x15         -189.7675    365.157     -0.520      0.604    -908.451     528.916\n",
       "x16          -93.3265    156.015     -0.598      0.550    -400.387     213.734\n",
       "x17         -133.4279    184.734     -0.722      0.471    -497.012     230.156\n",
       "x18          147.7313    195.071      0.757      0.449    -236.197     531.660\n",
       "x19           30.5924    187.547      0.163      0.871    -338.528     399.713\n",
       "x20          209.9371    182.024      1.153      0.250    -148.313     568.187\n",
       "x21          471.0834    246.557      1.911      0.057     -14.178     956.345\n",
       "x22          351.2739    150.615      2.332      0.020      54.841     647.707\n",
       "x23         5035.2713    460.417     10.936      0.000    4129.101    5941.442\n",
       "x24         5094.2831    480.111     10.611      0.000    4149.352    6039.214\n",
       "x25         3991.2716    710.187      5.620      0.000    2593.518    5389.025\n",
       "x26          770.3204    758.967      1.015      0.311    -723.441    2264.082\n",
       "x27        -1805.5466    814.442     -2.217      0.027   -3408.491    -202.602\n",
       "x28            8.5688    274.482      0.031      0.975    -531.653     548.790\n",
       "x29          -44.9184    170.385     -0.264      0.792    -380.261     290.425\n",
       "x30          895.9192    712.094      1.258      0.209    -505.588    2297.426\n",
       "x31         1171.9491    786.481      1.490      0.137    -375.962    2719.861\n",
       "x32         -302.5595    244.983     -1.235      0.218    -784.722     179.603\n",
       "x33          -20.6433    146.714     -0.141      0.888    -309.398     268.112\n",
       "x34         -667.9033    157.118     -4.251      0.000    -977.136    -358.671\n",
       "x35          -53.5087    154.914     -0.345      0.730    -358.402     251.384\n",
       "x36          -15.9849     44.689     -0.358      0.721    -103.940      71.970\n",
       "x37          -24.6869     31.291     -0.789      0.431     -86.272      36.898\n",
       "x38         -445.8335    148.704     -2.998      0.003    -738.505    -153.162\n",
       "x39          -34.0621    126.569     -0.269      0.788    -283.168     215.044\n",
       "x40           44.6309     65.163      0.685      0.494     -83.619     172.881\n",
       "x41          -20.0552     30.144     -0.665      0.506     -79.382      39.272\n",
       "==============================================================================\n",
       "Omnibus:                       29.995   Durbin-Watson:                   1.959\n",
       "Prob(Omnibus):                  0.000   Jarque-Bera (JB):               10.202\n",
       "Skew:                          -0.094   Prob(JB):                      0.00609\n",
       "Kurtosis:                       2.161   Cond. No.                     1.27e+16\n",
       "==============================================================================\n",
       "\n",
       "Warnings:\n",
       "[1] Standard Errors assume that the covariance matrix of the errors is correctly specified.\n",
       "[2] The smallest eigenvalue is 2.39e-28. This might indicate that there are\n",
       "strong multicollinearity problems or that the design matrix is singular.\n",
       "\"\"\""
      ]
     },
     "execution_count": 1905,
     "metadata": {},
     "output_type": "execute_result"
    }
   ],
   "source": [
    "result_all.summary()"
   ]
  },
  {
   "cell_type": "code",
   "execution_count": 1906,
   "metadata": {},
   "outputs": [
    {
     "data": {
      "text/html": [
       "<div>\n",
       "<style>\n",
       "    .dataframe thead tr:only-child th {\n",
       "        text-align: right;\n",
       "    }\n",
       "\n",
       "    .dataframe thead th {\n",
       "        text-align: left;\n",
       "    }\n",
       "\n",
       "    .dataframe tbody tr th {\n",
       "        vertical-align: top;\n",
       "    }\n",
       "</style>\n",
       "<table border=\"1\" class=\"dataframe\">\n",
       "  <thead>\n",
       "    <tr style=\"text-align: right;\">\n",
       "      <th></th>\n",
       "      <th>0</th>\n",
       "      <th>p_val</th>\n",
       "      <th>coef</th>\n",
       "      <th>names</th>\n",
       "    </tr>\n",
       "  </thead>\n",
       "  <tbody>\n",
       "    <tr>\n",
       "      <th>1</th>\n",
       "      <td>2.582724e-03</td>\n",
       "      <td>2.582724e-03</td>\n",
       "      <td>1578.754367</td>\n",
       "      <td>season_3.0</td>\n",
       "    </tr>\n",
       "    <tr>\n",
       "      <th>2</th>\n",
       "      <td>1.256241e-03</td>\n",
       "      <td>1.256241e-03</td>\n",
       "      <td>1523.228823</td>\n",
       "      <td>season_4.0</td>\n",
       "    </tr>\n",
       "    <tr>\n",
       "      <th>7</th>\n",
       "      <td>3.769801e-02</td>\n",
       "      <td>3.769801e-02</td>\n",
       "      <td>-1456.185656</td>\n",
       "      <td>month_6.0</td>\n",
       "    </tr>\n",
       "    <tr>\n",
       "      <th>9</th>\n",
       "      <td>2.165939e-02</td>\n",
       "      <td>2.165939e-02</td>\n",
       "      <td>-1715.938891</td>\n",
       "      <td>month_8.0</td>\n",
       "    </tr>\n",
       "    <tr>\n",
       "      <th>21</th>\n",
       "      <td>2.036885e-02</td>\n",
       "      <td>2.036885e-02</td>\n",
       "      <td>351.273944</td>\n",
       "      <td>workingday_1.0</td>\n",
       "    </tr>\n",
       "    <tr>\n",
       "      <th>22</th>\n",
       "      <td>1.504637e-23</td>\n",
       "      <td>1.504637e-23</td>\n",
       "      <td>5035.271259</td>\n",
       "      <td>weather_1.0</td>\n",
       "    </tr>\n",
       "    <tr>\n",
       "      <th>23</th>\n",
       "      <td>1.887572e-22</td>\n",
       "      <td>1.887572e-22</td>\n",
       "      <td>5094.283142</td>\n",
       "      <td>weather_2.0</td>\n",
       "    </tr>\n",
       "    <tr>\n",
       "      <th>24</th>\n",
       "      <td>4.469192e-08</td>\n",
       "      <td>4.469192e-08</td>\n",
       "      <td>3991.271585</td>\n",
       "      <td>weather_3.0</td>\n",
       "    </tr>\n",
       "    <tr>\n",
       "      <th>26</th>\n",
       "      <td>2.740200e-02</td>\n",
       "      <td>2.740200e-02</td>\n",
       "      <td>-1805.546619</td>\n",
       "      <td>temp_2</td>\n",
       "    </tr>\n",
       "    <tr>\n",
       "      <th>33</th>\n",
       "      <td>2.870343e-05</td>\n",
       "      <td>2.870343e-05</td>\n",
       "      <td>-667.903254</td>\n",
       "      <td>humidity_1</td>\n",
       "    </tr>\n",
       "    <tr>\n",
       "      <th>37</th>\n",
       "      <td>2.950904e-03</td>\n",
       "      <td>2.950904e-03</td>\n",
       "      <td>-445.833510</td>\n",
       "      <td>windspeed_1</td>\n",
       "    </tr>\n",
       "  </tbody>\n",
       "</table>\n",
       "</div>"
      ],
      "text/plain": [
       "               0         p_val         coef           names\n",
       "1   2.582724e-03  2.582724e-03  1578.754367      season_3.0\n",
       "2   1.256241e-03  1.256241e-03  1523.228823      season_4.0\n",
       "7   3.769801e-02  3.769801e-02 -1456.185656       month_6.0\n",
       "9   2.165939e-02  2.165939e-02 -1715.938891       month_8.0\n",
       "21  2.036885e-02  2.036885e-02   351.273944  workingday_1.0\n",
       "22  1.504637e-23  1.504637e-23  5035.271259     weather_1.0\n",
       "23  1.887572e-22  1.887572e-22  5094.283142     weather_2.0\n",
       "24  4.469192e-08  4.469192e-08  3991.271585     weather_3.0\n",
       "26  2.740200e-02  2.740200e-02 -1805.546619          temp_2\n",
       "33  2.870343e-05  2.870343e-05  -667.903254      humidity_1\n",
       "37  2.950904e-03  2.950904e-03  -445.833510     windspeed_1"
      ]
     },
     "execution_count": 1906,
     "metadata": {},
     "output_type": "execute_result"
    }
   ],
   "source": [
    "#significant variables according to polynomial fitting\n",
    "df_pv=pd.DataFrame(result_all.pvalues)\n",
    "df_sel=pd.DataFrame(result_all.pvalues)\n",
    "df_pv['p_val']=result_all.pvalues\n",
    "df_pv['coef']=result_all.params\n",
    "df_pv['names']=col2\n",
    "\n",
    "df_sel=df_pv[df_pv.p_val<0.05]\n",
    "df_sel"
   ]
  },
  {
   "cell_type": "code",
   "execution_count": 1360,
   "metadata": {
    "collapsed": true
   },
   "outputs": [],
   "source": [
    "# HW 3(b)\n",
    "#season_3.0,month_6.0,month_12.0,day_of_week_5.0,day_of_week_6.0,workingday_0.0,workingday_1.0,weather_1.0,atemp_new,humidity_new\n",
    "#windspeed_new\n",
    "#THe R^2 of both test and trains are higher"
   ]
  },
  {
   "cell_type": "code",
   "execution_count": 1908,
   "metadata": {
    "collapsed": true
   },
   "outputs": [],
   "source": [
    "#Fit a multiple linear regression model with additional interaction terms  \n",
    "#𝕀month=12×temp  and  𝕀weathersit=1Iworkingday=1×Iweathersit=1 \n",
    "#and report the test  R2R2  for the fitted model. How does this compare with the  R2R2  obtained\n",
    "#using linear model in Part (b) from HW 3? Are the estimated coefficients for the interaction terms \n",
    "#statistically significant at a significance level of 5%?\n",
    "df_train_pol_p=df_train_pol\n",
    "df_train_pol[\"month_12.0*temp_1\"]=df_train_pol['month_12.0']*df_train_pol['temp_1']\n",
    "df_train_pol[\"workingday_1.0*weather_1.0\"]=df_train_pol['workingday_1.0']*df_train_pol['weather_1.0']\n",
    "df_train_i=df_train_pol\n",
    "df_test_pol_p=df_test_pol\n",
    "df_test_pol[\"month_12.0*temp_1\"]=df_test_pol['month_12.0']*df_test_pol['temp_1']\n",
    "df_test_pol[\"workingday_1.0*weather_1.0\"]=df_test_pol['workingday_1.0']*df_test_pol['weather_1.0']\n",
    "df_test_i=df_test_pol"
   ]
  },
  {
   "cell_type": "code",
   "execution_count": 1915,
   "metadata": {
    "collapsed": true
   },
   "outputs": [],
   "source": [
    "cols_f_pol=df_test_i.columns.tolist()\n",
    "ca=cols_f_pol[26:27]\n",
    "col1a=cols_f_pol[:25]\n",
    "col2a=col1a+cols_f_pol[27:] #+ca\n",
    "#col2a\n",
    "#len(cols_f_pol)"
   ]
  },
  {
   "cell_type": "code",
   "execution_count": 1334,
   "metadata": {
    "collapsed": true
   },
   "outputs": [],
   "source": [
    "del df_train_i['temp_2']\n",
    "del df_train_i['temp_3']\n",
    "del df_train_i['temp_4']\n",
    "del df_train_i['atemp_2']\n",
    "del df_train_i['atemp_3']\n",
    "del df_train_i['atemp_4']\n",
    "del df_train_i['humidity_2']\n",
    "del df_train_i['humidity_3']\n",
    "del df_train_i['humidity_4']\n",
    "del df_train_i['windspeed_2']\n",
    "del df_train_i['windspeed_3']\n",
    "del df_train_i['windspeed_4']"
   ]
  },
  {
   "cell_type": "code",
   "execution_count": 1335,
   "metadata": {
    "collapsed": true
   },
   "outputs": [],
   "source": [
    "del df_test_i['temp_2']\n",
    "del df_test_i['temp_3']\n",
    "del df_test_i['temp_4']\n",
    "del df_test_i['atemp_2']\n",
    "del df_test_i['atemp_3']\n",
    "del df_test_i['atemp_4']\n",
    "del df_test_i['humidity_2']\n",
    "del df_test_i['humidity_3']\n",
    "del df_test_i['humidity_4']\n",
    "del df_test_i['windspeed_2']\n",
    "del df_test_i['windspeed_3']\n",
    "del df_test_i['windspeed_4']"
   ]
  },
  {
   "cell_type": "code",
   "execution_count": 1916,
   "metadata": {
    "collapsed": true
   },
   "outputs": [],
   "source": [
    "cols_f_i=df_test_i.columns.tolist()\n",
    "cols_i=cols_f_i[:25] +cols_f_i[26:]\n",
    "cb=cols_i[25:26]\n",
    "col1b=cols_f_pol[:25]\n",
    "col2b=col1b+cols_i[27:]#+cb\n",
    "\n",
    "#col2b"
   ]
  },
  {
   "cell_type": "code",
   "execution_count": 1913,
   "metadata": {
    "collapsed": true
   },
   "outputs": [],
   "source": [
    "X_train_pol_i=df_train_i[col2b].values\n",
    "Y_train_pol_i=df_train_i['count'].values\n",
    "\n",
    "X_test_pol_i=df_test_i[col2b].values\n",
    "Y_test_pol_i=df_test_i['count'].values"
   ]
  },
  {
   "cell_type": "code",
   "execution_count": 1914,
   "metadata": {},
   "outputs": [
    {
     "name": "stdout",
     "output_type": "stream",
     "text": [
      "Ridge Results for lam=0, Simple regression\n",
      "The largest R^2 for the training set: 0.668732582864\n",
      "The largest R^2 for the test set: 0.30507682804\n"
     ]
    },
    {
     "name": "stderr",
     "output_type": "stream",
     "text": [
      "d:\\Users\\Home\\Anaconda3\\lib\\site-packages\\scipy\\linalg\\basic.py:223: RuntimeWarning: scipy.linalg.solve\n",
      "Ill-conditioned matrix detected. Result is not guaranteed to be accurate.\n",
      "Reciprocal condition number: 1.0212765157876567e-17\n",
      "  ' condition number: {}'.format(rcond), RuntimeWarning)\n",
      "d:\\Users\\Home\\Anaconda3\\lib\\site-packages\\scipy\\linalg\\basic.py:223: RuntimeWarning: scipy.linalg.solve\n",
      "Ill-conditioned matrix detected. Result is not guaranteed to be accurate.\n",
      "Reciprocal condition number: 2.3469904626412363e-17\n",
      "  ' condition number: {}'.format(rcond), RuntimeWarning)\n",
      "d:\\Users\\Home\\Anaconda3\\lib\\site-packages\\scipy\\linalg\\basic.py:223: RuntimeWarning: scipy.linalg.solve\n",
      "Ill-conditioned matrix detected. Result is not guaranteed to be accurate.\n",
      "Reciprocal condition number: 1.3108548693760066e-18\n",
      "  ' condition number: {}'.format(rcond), RuntimeWarning)\n",
      "d:\\Users\\Home\\Anaconda3\\lib\\site-packages\\scipy\\linalg\\basic.py:223: RuntimeWarning: scipy.linalg.solve\n",
      "Ill-conditioned matrix detected. Result is not guaranteed to be accurate.\n",
      "Reciprocal condition number: 1.0582070008391931e-17\n",
      "  ' condition number: {}'.format(rcond), RuntimeWarning)\n",
      "d:\\Users\\Home\\Anaconda3\\lib\\site-packages\\scipy\\linalg\\basic.py:223: RuntimeWarning: scipy.linalg.solve\n",
      "Ill-conditioned matrix detected. Result is not guaranteed to be accurate.\n",
      "Reciprocal condition number: 1.3748032157310023e-17\n",
      "  ' condition number: {}'.format(rcond), RuntimeWarning)\n",
      "d:\\Users\\Home\\Anaconda3\\lib\\site-packages\\scipy\\linalg\\basic.py:223: RuntimeWarning: scipy.linalg.solve\n",
      "Ill-conditioned matrix detected. Result is not guaranteed to be accurate.\n",
      "Reciprocal condition number: 1.9505941467975474e-17\n",
      "  ' condition number: {}'.format(rcond), RuntimeWarning)\n",
      "d:\\Users\\Home\\Anaconda3\\lib\\site-packages\\scipy\\linalg\\basic.py:223: RuntimeWarning: scipy.linalg.solve\n",
      "Ill-conditioned matrix detected. Result is not guaranteed to be accurate.\n",
      "Reciprocal condition number: 2.1639749969275794e-18\n",
      "  ' condition number: {}'.format(rcond), RuntimeWarning)\n",
      "d:\\Users\\Home\\Anaconda3\\lib\\site-packages\\scipy\\linalg\\basic.py:223: RuntimeWarning: scipy.linalg.solve\n",
      "Ill-conditioned matrix detected. Result is not guaranteed to be accurate.\n",
      "Reciprocal condition number: 6.09574635832959e-18\n",
      "  ' condition number: {}'.format(rcond), RuntimeWarning)\n",
      "d:\\Users\\Home\\Anaconda3\\lib\\site-packages\\scipy\\linalg\\basic.py:223: RuntimeWarning: scipy.linalg.solve\n",
      "Ill-conditioned matrix detected. Result is not guaranteed to be accurate.\n",
      "Reciprocal condition number: 4.0715124569480506e-17\n",
      "  ' condition number: {}'.format(rcond), RuntimeWarning)\n",
      "d:\\Users\\Home\\Anaconda3\\lib\\site-packages\\scipy\\linalg\\basic.py:223: RuntimeWarning: scipy.linalg.solve\n",
      "Ill-conditioned matrix detected. Result is not guaranteed to be accurate.\n",
      "Reciprocal condition number: 6.514527120191216e-18\n",
      "  ' condition number: {}'.format(rcond), RuntimeWarning)\n",
      "d:\\Users\\Home\\Anaconda3\\lib\\site-packages\\scipy\\linalg\\basic.py:223: RuntimeWarning: scipy.linalg.solve\n",
      "Ill-conditioned matrix detected. Result is not guaranteed to be accurate.\n",
      "Reciprocal condition number: 1.1457538988009849e-17\n",
      "  ' condition number: {}'.format(rcond), RuntimeWarning)\n"
     ]
    }
   ],
   "source": [
    "ridgecv_pol_0_i = RidgeCV(alphas=lam_0, normalize=False,cv=10)       \n",
    "ridgecv_pol_0_i.fit(X_train_pol_i, Y_train_pol_i)\n",
    "print('Ridge Results for lam=0, Simple regression')\n",
    "print('The largest R^2 for the training set:',ridgecv_pol_0_i.score(X_train_pol_i,Y_train_pol_i))\n",
    "print('The largest R^2 for the test set:', ridgecv_pol_0_i.score(X_test_pol_i,Y_test_pol_i))"
   ]
  },
  {
   "cell_type": "code",
   "execution_count": 1140,
   "metadata": {
    "collapsed": true
   },
   "outputs": [],
   "source": [
    "#results of this model are insignificantly better (regarding R^2 of the linear model only)\n",
    "# however the polynomial model delivers better results"
   ]
  },
  {
   "cell_type": "code",
   "execution_count": 1141,
   "metadata": {},
   "outputs": [
    {
     "data": {
      "text/plain": [
       "<statsmodels.regression.linear_model.RegressionResultsWrapper at 0x130eeb70>"
      ]
     },
     "execution_count": 1141,
     "metadata": {},
     "output_type": "execute_result"
    }
   ],
   "source": [
    "result_all_i = sm.OLS(Y_train_pol_i,X_train_pol_i).fit()\n",
    "result_all_i"
   ]
  },
  {
   "cell_type": "code",
   "execution_count": 1142,
   "metadata": {},
   "outputs": [
    {
     "data": {
      "text/html": [
       "<div>\n",
       "<style>\n",
       "    .dataframe thead tr:only-child th {\n",
       "        text-align: right;\n",
       "    }\n",
       "\n",
       "    .dataframe thead th {\n",
       "        text-align: left;\n",
       "    }\n",
       "\n",
       "    .dataframe tbody tr th {\n",
       "        vertical-align: top;\n",
       "    }\n",
       "</style>\n",
       "<table border=\"1\" class=\"dataframe\">\n",
       "  <thead>\n",
       "    <tr style=\"text-align: right;\">\n",
       "      <th></th>\n",
       "      <th>0</th>\n",
       "      <th>p_val</th>\n",
       "      <th>coef</th>\n",
       "      <th>names</th>\n",
       "    </tr>\n",
       "  </thead>\n",
       "  <tbody>\n",
       "    <tr>\n",
       "      <th>22</th>\n",
       "      <td>6.223369e-06</td>\n",
       "      <td>6.223369e-06</td>\n",
       "      <td>1142.148147</td>\n",
       "      <td>weather_1.0</td>\n",
       "    </tr>\n",
       "    <tr>\n",
       "      <th>23</th>\n",
       "      <td>2.000841e-09</td>\n",
       "      <td>2.000841e-09</td>\n",
       "      <td>1315.999877</td>\n",
       "      <td>weather_2.0</td>\n",
       "    </tr>\n",
       "    <tr>\n",
       "      <th>25</th>\n",
       "      <td>1.865007e-08</td>\n",
       "      <td>1.865007e-08</td>\n",
       "      <td>1021.429826</td>\n",
       "      <td>atemp_1</td>\n",
       "    </tr>\n",
       "    <tr>\n",
       "      <th>26</th>\n",
       "      <td>1.920662e-06</td>\n",
       "      <td>1.920662e-06</td>\n",
       "      <td>-552.692015</td>\n",
       "      <td>humidity_1</td>\n",
       "    </tr>\n",
       "    <tr>\n",
       "      <th>27</th>\n",
       "      <td>2.007906e-03</td>\n",
       "      <td>2.007906e-03</td>\n",
       "      <td>-252.734823</td>\n",
       "      <td>windspeed_1</td>\n",
       "    </tr>\n",
       "    <tr>\n",
       "      <th>30</th>\n",
       "      <td>1.726770e-09</td>\n",
       "      <td>1.726770e-09</td>\n",
       "      <td>2192.675720</td>\n",
       "      <td>temp_0</td>\n",
       "    </tr>\n",
       "  </tbody>\n",
       "</table>\n",
       "</div>"
      ],
      "text/plain": [
       "               0         p_val         coef        names\n",
       "22  6.223369e-06  6.223369e-06  1142.148147  weather_1.0\n",
       "23  2.000841e-09  2.000841e-09  1315.999877  weather_2.0\n",
       "25  1.865007e-08  1.865007e-08  1021.429826      atemp_1\n",
       "26  1.920662e-06  1.920662e-06  -552.692015   humidity_1\n",
       "27  2.007906e-03  2.007906e-03  -252.734823  windspeed_1\n",
       "30  1.726770e-09  1.726770e-09  2192.675720       temp_0"
      ]
     },
     "execution_count": 1142,
     "metadata": {},
     "output_type": "execute_result"
    }
   ],
   "source": [
    "#significant variables according to polynomial fitting\n",
    "df_pv_i=pd.DataFrame(result_all_i.pvalues)\n",
    "df_sel_i=pd.DataFrame(result_all_i.pvalues)\n",
    "df_pv_i['p_val']=result_all_i.pvalues\n",
    "df_pv_i['coef']=result_all_i.params\n",
    "df_pv_i['names']=col2b\n",
    "\n",
    "df_sel_i=df_pv_i[df_pv_i.p_val<0.05]\n",
    "df_sel_i"
   ]
  },
  {
   "cell_type": "code",
   "execution_count": 1143,
   "metadata": {
    "collapsed": true
   },
   "outputs": [],
   "source": [
    "#This is the most compact model between those we have seen\n",
    "#This model obviously captures the most important predictors"
   ]
  },
  {
   "cell_type": "code",
   "execution_count": 1144,
   "metadata": {},
   "outputs": [
    {
     "name": "stdout",
     "output_type": "stream",
     "text": [
      "Ridge Results for lam=0, Simple regression\n",
      "The largest R^2 for the training set: 0.454645199272\n",
      "The largest R^2 for the test set: 0.241090082918\n"
     ]
    }
   ],
   "source": [
    "#\n",
    "cols_ch=['weather_1.0','weather_2.0','atemp_1','humidity_1','windspeed_1']\n",
    "X_train_pol_ch=df_train_i[cols_ch].values\n",
    "Y_train_pol_ch=df_train_i['count'].values\n",
    "\n",
    "X_test_pol_ch=df_test_i[cols_ch].values\n",
    "Y_test_pol_ch=df_test_i['count'].values\n",
    "\n",
    "ridgecv_pol_0_ch = RidgeCV(alphas=lam_0, normalize=False,cv=10)       \n",
    "ridgecv_pol_0_ch.fit(X_train_pol_ch, Y_train_pol_ch)\n",
    "print('Ridge Results for lam=0, Simple regression')\n",
    "print('The largest R^2 for the training set:',ridgecv_pol_0_ch.score(X_train_pol_ch,Y_train_pol_ch))\n",
    "print('The largest R^2 for the test set:', ridgecv_pol_0_ch.score(X_test_pol_ch,Y_test_pol_ch))"
   ]
  },
  {
   "cell_type": "markdown",
   "metadata": {},
   "source": [
    "## Part (h): PCA to deal with high dimensionality\n",
    "\n",
    "We would like to fit a model to include all main effects, polynomial terms up to the $4^{th}$ order, and all interactions between all possible predictors and polynomial terms (not including the interactions between $X^1_j$, $X^2_j$, $X^3_j$, and $X^4_j$ as they would just create higher order polynomial terms).  \n",
    "\n",
    "- Create an expanded training set including all the desired terms mentioned above.  What are the dimensions of this 'design matrix' of all the predictor variables?   What are the issues with attempting to fit a regression model using all of these predictors?\n",
    "\n",
    "- Instead of using the usual approaches for model selection, let's instead use principal components analysis (PCA) to fit the model.  First, create the principal component vectors in python (consider: should you normalize first?).  Then fit 5 different regression models: (1) using just the first PCA vector, (2) using the first two PCA vectors, (3) using the first three PCA vectors, etc...  Briefly summarize how these models compare in the training set.\n",
    "\n",
    "- Use the test set to decide which of the 5 models above is best to predict out of sample.  How does this model compare to the previous models you've fit?  What are the interpretations of this model's coefficients?"
   ]
  },
  {
   "cell_type": "code",
   "execution_count": 1307,
   "metadata": {
    "collapsed": true
   },
   "outputs": [],
   "source": [
    "gen_poly_terms = PolynomialFeatures(degree=4, interaction_only=False)"
   ]
  },
  {
   "cell_type": "code",
   "execution_count": 1932,
   "metadata": {
    "collapsed": true
   },
   "outputs": [],
   "source": [
    "min_max_scaler = MinMaxScaler()"
   ]
  },
  {
   "cell_type": "code",
   "execution_count": 1952,
   "metadata": {
    "collapsed": true
   },
   "outputs": [],
   "source": [
    "continuous_features = ['temp_new','atemp_new','humidity_new','windspeed_new']"
   ]
  },
  {
   "cell_type": "code",
   "execution_count": 1316,
   "metadata": {},
   "outputs": [
    {
     "name": "stdout",
     "output_type": "stream",
     "text": [
      "number of total predictors 35960\n"
     ]
    }
   ],
   "source": [
    "#X_non_test = min_max_scaler.fit_transform(X_non_test)\n",
    "#X_test = min_max_scaler.fit_transform(X_test)\n",
    "\n",
    "X_train_full_poly = gen_poly_terms.fit_transform(X_train)\n",
    "X_test_full_poly = gen_poly_terms.fit_transform(X_test)\n",
    "\n",
    "#X_train=df_train_f[cols_f[:28]].values\n",
    "#Y_train=df_train_f['count'].values\n",
    "\n",
    "#X_test=df_test_f[cols_f[:28]].values\n",
    "#Y_test=df_test_f['count'].values\n",
    "\n",
    "print('number of total predictors', X_train_full_poly.shape[1])\n"
   ]
  },
  {
   "cell_type": "code",
   "execution_count": 1317,
   "metadata": {
    "collapsed": true
   },
   "outputs": [],
   "source": [
    "#The number of total predictors is larger than the number of the samples"
   ]
  },
  {
   "cell_type": "code",
   "execution_count": 1927,
   "metadata": {
    "collapsed": true
   },
   "outputs": [],
   "source": [
    "X_train_c_pol_df=df_train_f_1[continuous_features]\n",
    "X_test_c_pol_df=df_test_f_1[continuous_features]\n"
   ]
  },
  {
   "cell_type": "code",
   "execution_count": 1943,
   "metadata": {
    "collapsed": true
   },
   "outputs": [],
   "source": [
    "X_train_c_pol=df_train_f_1[continuous_features].values\n",
    "Y_train_c_pol=df_train_f_1['count'].values\n",
    "\n",
    "X_test_c_pol=df_test_f_1[continuous_features].values\n",
    "Y_test_c_pol=df_test_f_1['count'].values"
   ]
  },
  {
   "cell_type": "code",
   "execution_count": 1944,
   "metadata": {
    "collapsed": true
   },
   "outputs": [],
   "source": [
    "poly = PolynomialFeatures(degree=2, interaction_only=False)"
   ]
  },
  {
   "cell_type": "code",
   "execution_count": 1963,
   "metadata": {},
   "outputs": [
    {
     "data": {
      "text/html": [
       "<div>\n",
       "<style>\n",
       "    .dataframe thead tr:only-child th {\n",
       "        text-align: right;\n",
       "    }\n",
       "\n",
       "    .dataframe thead th {\n",
       "        text-align: left;\n",
       "    }\n",
       "\n",
       "    .dataframe tbody tr th {\n",
       "        vertical-align: top;\n",
       "    }\n",
       "</style>\n",
       "<table border=\"1\" class=\"dataframe\">\n",
       "  <thead>\n",
       "    <tr style=\"text-align: right;\">\n",
       "      <th></th>\n",
       "      <th>1</th>\n",
       "      <th>temp_new</th>\n",
       "      <th>atemp_new</th>\n",
       "      <th>humidity_new</th>\n",
       "      <th>windspeed_new</th>\n",
       "      <th>temp_new^2</th>\n",
       "      <th>temp_new atemp_new</th>\n",
       "      <th>temp_new humidity_new</th>\n",
       "      <th>temp_new windspeed_new</th>\n",
       "      <th>atemp_new^2</th>\n",
       "      <th>atemp_new humidity_new</th>\n",
       "      <th>atemp_new windspeed_new</th>\n",
       "      <th>humidity_new^2</th>\n",
       "      <th>humidity_new windspeed_new</th>\n",
       "      <th>windspeed_new^2</th>\n",
       "    </tr>\n",
       "  </thead>\n",
       "  <tbody>\n",
       "    <tr>\n",
       "      <th>0</th>\n",
       "      <td>1.0</td>\n",
       "      <td>-1.154231</td>\n",
       "      <td>-1.172400</td>\n",
       "      <td>-0.430291</td>\n",
       "      <td>0.049925</td>\n",
       "      <td>1.332248</td>\n",
       "      <td>1.353220</td>\n",
       "      <td>0.496655</td>\n",
       "      <td>-0.057625</td>\n",
       "      <td>1.374522</td>\n",
       "      <td>0.504473</td>\n",
       "      <td>-0.058532</td>\n",
       "      <td>0.185150</td>\n",
       "      <td>-0.021482</td>\n",
       "      <td>0.002492</td>\n",
       "    </tr>\n",
       "    <tr>\n",
       "      <th>1</th>\n",
       "      <td>1.0</td>\n",
       "      <td>-1.239241</td>\n",
       "      <td>-1.457424</td>\n",
       "      <td>0.211751</td>\n",
       "      <td>2.080346</td>\n",
       "      <td>1.535719</td>\n",
       "      <td>1.806100</td>\n",
       "      <td>-0.262411</td>\n",
       "      <td>-2.578050</td>\n",
       "      <td>2.124086</td>\n",
       "      <td>-0.308612</td>\n",
       "      <td>-3.031947</td>\n",
       "      <td>0.044839</td>\n",
       "      <td>0.440516</td>\n",
       "      <td>4.327838</td>\n",
       "    </tr>\n",
       "    <tr>\n",
       "      <th>2</th>\n",
       "      <td>1.0</td>\n",
       "      <td>1.736128</td>\n",
       "      <td>1.772851</td>\n",
       "      <td>-0.386114</td>\n",
       "      <td>-0.524409</td>\n",
       "      <td>3.014139</td>\n",
       "      <td>3.077896</td>\n",
       "      <td>-0.670343</td>\n",
       "      <td>-0.910441</td>\n",
       "      <td>3.143002</td>\n",
       "      <td>-0.684523</td>\n",
       "      <td>-0.929699</td>\n",
       "      <td>0.149084</td>\n",
       "      <td>0.202482</td>\n",
       "      <td>0.275005</td>\n",
       "    </tr>\n",
       "    <tr>\n",
       "      <th>3</th>\n",
       "      <td>1.0</td>\n",
       "      <td>-0.644167</td>\n",
       "      <td>-0.602351</td>\n",
       "      <td>-0.933908</td>\n",
       "      <td>1.012429</td>\n",
       "      <td>0.414952</td>\n",
       "      <td>0.388015</td>\n",
       "      <td>0.601593</td>\n",
       "      <td>-0.652173</td>\n",
       "      <td>0.362827</td>\n",
       "      <td>0.562541</td>\n",
       "      <td>-0.609838</td>\n",
       "      <td>0.872183</td>\n",
       "      <td>-0.945515</td>\n",
       "      <td>1.025012</td>\n",
       "    </tr>\n",
       "    <tr>\n",
       "      <th>4</th>\n",
       "      <td>1.0</td>\n",
       "      <td>1.056043</td>\n",
       "      <td>1.012786</td>\n",
       "      <td>0.523930</td>\n",
       "      <td>0.324825</td>\n",
       "      <td>1.115228</td>\n",
       "      <td>1.069546</td>\n",
       "      <td>0.553293</td>\n",
       "      <td>0.343030</td>\n",
       "      <td>1.025736</td>\n",
       "      <td>0.530629</td>\n",
       "      <td>0.328979</td>\n",
       "      <td>0.274503</td>\n",
       "      <td>0.170186</td>\n",
       "      <td>0.105512</td>\n",
       "    </tr>\n",
       "  </tbody>\n",
       "</table>\n",
       "</div>"
      ],
      "text/plain": [
       "     1  temp_new  atemp_new  humidity_new  windspeed_new  temp_new^2  \\\n",
       "0  1.0 -1.154231  -1.172400     -0.430291       0.049925    1.332248   \n",
       "1  1.0 -1.239241  -1.457424      0.211751       2.080346    1.535719   \n",
       "2  1.0  1.736128   1.772851     -0.386114      -0.524409    3.014139   \n",
       "3  1.0 -0.644167  -0.602351     -0.933908       1.012429    0.414952   \n",
       "4  1.0  1.056043   1.012786      0.523930       0.324825    1.115228   \n",
       "\n",
       "   temp_new atemp_new  temp_new humidity_new  temp_new windspeed_new  \\\n",
       "0            1.353220               0.496655               -0.057625   \n",
       "1            1.806100              -0.262411               -2.578050   \n",
       "2            3.077896              -0.670343               -0.910441   \n",
       "3            0.388015               0.601593               -0.652173   \n",
       "4            1.069546               0.553293                0.343030   \n",
       "\n",
       "   atemp_new^2  atemp_new humidity_new  atemp_new windspeed_new  \\\n",
       "0     1.374522                0.504473                -0.058532   \n",
       "1     2.124086               -0.308612                -3.031947   \n",
       "2     3.143002               -0.684523                -0.929699   \n",
       "3     0.362827                0.562541                -0.609838   \n",
       "4     1.025736                0.530629                 0.328979   \n",
       "\n",
       "   humidity_new^2  humidity_new windspeed_new  windspeed_new^2  \n",
       "0        0.185150                   -0.021482         0.002492  \n",
       "1        0.044839                    0.440516         4.327838  \n",
       "2        0.149084                    0.202482         0.275005  \n",
       "3        0.872183                   -0.945515         1.025012  \n",
       "4        0.274503                    0.170186         0.105512  "
      ]
     },
     "execution_count": 1963,
     "metadata": {},
     "output_type": "execute_result"
    }
   ],
   "source": [
    "X_train_pca_int = pd.DataFrame(poly.fit_transform(X_train_c_pol_df), \n",
    "                               columns = poly.get_feature_names(X_train_c_pol_df.columns))\n",
    "\n",
    "X_test_pca_int = pd.DataFrame(poly.fit_transform(X_test_c_pol_df),\n",
    "                               columns = poly.get_feature_names(X_test_c_pol_df.columns))\n",
    "\n",
    "X_train_pca_int_1=X_train_pca_int.values\n",
    "X_test_pca_int_1=X_test_pca_int.values\n",
    "X_test_pca_int.head()"
   ]
  },
  {
   "cell_type": "code",
   "execution_count": 1964,
   "metadata": {
    "collapsed": true
   },
   "outputs": [],
   "source": [
    "pol_features = [\n",
    "                'temp_2','temp_3','temp_4',\n",
    "                'atemp_2','atemp_3','atemp_4',\n",
    "                'humidity_2','humidity_3','humidity_4',\n",
    "                'windspeed_2','windspeed_3','windspeed_4',\n",
    "               ]"
   ]
  },
  {
   "cell_type": "code",
   "execution_count": 1969,
   "metadata": {
    "collapsed": true
   },
   "outputs": [],
   "source": [
    "#df_train_pol.head()"
   ]
  },
  {
   "cell_type": "code",
   "execution_count": 2048,
   "metadata": {
    "collapsed": true
   },
   "outputs": [],
   "source": [
    "df_train_pol_p=df_train_pol [pol_features]\n",
    "df_test_pol_p =df_test_pol  [pol_features]\n",
    "X_train_pca_int_full=pd.concat([X_train_pca_int, df_train_pol_p], axis=1)\n",
    "X_test_pca_int_full=pd.concat([X_test_pca_int, df_test_pol_p], axis=1) \n",
    "#X_train_pca_int_full.columns.tolist()"
   ]
  },
  {
   "cell_type": "code",
   "execution_count": 2015,
   "metadata": {
    "collapsed": true
   },
   "outputs": [],
   "source": [
    "cols_filtered=[\n",
    "               'temp_new', 'temp_2', 'temp_3', 'temp_4',\n",
    "               'atemp_new', 'atemp_2', 'atemp_3', 'atemp_4',\n",
    "               'humidity_new', 'humidity_2', 'humidity_3', 'humidity_4',\n",
    "               'windspeed_new','windspeed_2','windspeed_3','windspeed_4',\n",
    "               'temp_new atemp_new', 'temp_new humidity_new', 'temp_new windspeed_new',\n",
    "               'atemp_new humidity_new', 'atemp_new windspeed_new',\n",
    "               'humidity_new windspeed_new',\n",
    "            #   '1'\n",
    "              ]"
   ]
  },
  {
   "cell_type": "code",
   "execution_count": 2016,
   "metadata": {
    "collapsed": true
   },
   "outputs": [],
   "source": [
    "X_train_pca_int_full=X_train_pca_int_full[cols_filtered]\n",
    "X_test_pca_int_full=X_test_pca_int_full[cols_filtered]"
   ]
  },
  {
   "cell_type": "code",
   "execution_count": 2017,
   "metadata": {
    "collapsed": true
   },
   "outputs": [],
   "source": [
    "X_train_h=X_train_pca_int_full.values\n",
    "Y_train_h=df_train_i['count'].values\n",
    "\n",
    "X_test_h=X_test_pca_int_full.values\n",
    "Y_test_h=df_test_i['count'].values"
   ]
  },
  {
   "cell_type": "code",
   "execution_count": 2018,
   "metadata": {
    "collapsed": true
   },
   "outputs": [],
   "source": [
    "std_scale = MinMaxScaler().fit(X_train_h)\n",
    "X_train_h_std = std_scale.transform(X_train_h)\n",
    "X_test_ht_std = std_scale.transform(X_test_h)"
   ]
  },
  {
   "cell_type": "code",
   "execution_count": 2019,
   "metadata": {
    "collapsed": true
   },
   "outputs": [],
   "source": [
    "pca = PCA(n_components=5)\n",
    "pca.fit(X_train_h_std)\n",
    "X_train_pca = pca.transform(X_train_h_std)\n",
    "X_test_pca = pca.transform(X_test_ht_std)\n",
    "#X_train_pca[:,:6]\n",
    "#print('Explained variance ratio:', pca.explained_variance_ratio_)"
   ]
  },
  {
   "cell_type": "markdown",
   "metadata": {},
   "source": [
    "your answers here"
   ]
  },
  {
   "cell_type": "code",
   "execution_count": 2023,
   "metadata": {},
   "outputs": [
    {
     "name": "stdout",
     "output_type": "stream",
     "text": [
      "Num of principal cmponents: 1\n",
      "Test R^2: 0.20628226682409748\n",
      "Train R^2: 0.34403331655794933\n",
      "Num of principal cmponents: 2\n",
      "Test R^2: 0.20245833356024287\n",
      "Train R^2: 0.35105183894171543\n",
      "Num of principal cmponents: 3\n",
      "Test R^2: 0.23210912733497877\n",
      "Train R^2: 0.38143566650364247\n",
      "Num of principal cmponents: 4\n",
      "Test R^2: 0.2332184297982003\n",
      "Train R^2: 0.38147590135444753\n",
      "Num of principal cmponents: 5\n",
      "Test R^2: 0.2738919906316617\n",
      "Train R^2: 0.516957090544754\n"
     ]
    }
   ],
   "source": [
    "for i in range (1,6):\n",
    "    regression_model = LinearRegression(fit_intercept=True)\n",
    "    regression_model.fit(X_train_pca[:,:i], Y_train)\n",
    "    print('Num of principal cmponents:',i)\n",
    "    print('Test R^2: {}'.format(regression_model.score(X_test_pca[:,:i], Y_test_h)))\n",
    "    print('Train R^2: {}'.format(regression_model.score(X_train_pca[:,:i], Y_train_h)))"
   ]
  },
  {
   "cell_type": "markdown",
   "metadata": {},
   "source": [
    "## Part (i): Beyond Squared Error\n",
    "\n",
    "We have seen in class that the multiple linear regression method optimizes the Mean Squared Error (MSE) on the training set. Consider the following alternate evaluation metric, referred to as the Root Mean Squared Logarthmic Error (RMSLE):\n",
    "\n",
    "$$\n",
    "\\sqrt{\\frac{1}{n}\\sum_{i=1}^n (log(y_i+1) - log(\\hat{y}_i+1))^2}.\n",
    "$$\n",
    "\n",
    "The *lower* the RMSLE the *better* is the performance of a model. The RMSLE penalizes errors on smaller responses more heavily than errors on larger responses. For example, the RMSLE penalizes a prediction of $\\hat{y} = 15$ for a true response of $y=10$ more heavily than a prediction of $\\hat{y} = 105$ for a true response of $100$, though the difference in predicted and true responses are the same in both cases. \n",
    "\n",
    "This is a natural evaluation metric for bike share demand prediction, as in this application, it is more important that the prediction model is accurate on days where the demand is low (so that the few customers who arrive are served satisfactorily), compared to days on which the demand is high (when it is less damaging to lose out on some customers).\n",
    "\n",
    "The following code computes the RMSLE for you:"
   ]
  },
  {
   "cell_type": "code",
   "execution_count": 1402,
   "metadata": {
    "collapsed": true
   },
   "outputs": [],
   "source": [
    "#--------  rmsle\n",
    "# A function for evaluating Root Mean Squared Logarithmic Error (RMSLE)\n",
    "# of the linear regression model on a data set\n",
    "# Input: \n",
    "#      y_test (n x 1 array of response variable vals in testing data)\n",
    "#      y_pred (n x 1 array of response variable vals in testing data)\n",
    "# Return: \n",
    "#      RMSLE (float) \n",
    "\n",
    "def rmsle(y, y_pred):     \n",
    "    # Evaluate sqaured error, against target labels\n",
    "    # rmsle = \\sqrt(1/n \\sum_i (log (y[i]+1) - log (y_pred[i]+1))^2)\n",
    "    rmsle_ = np.sqrt(np.mean(np.square(np.log(y+1) - np.log(y_pred+1))))    \n",
    "    return rmsle_"
   ]
  },
  {
   "cell_type": "markdown",
   "metadata": {},
   "source": [
    "Use the above code to compute the training and test RMSLE for the polynomial regression model you fit in Part (g). \n",
    "\n",
    "You are required to develop a strategy to fit a regression model by optimizing the RMSLE on the training set. Give a justification for your proposed approach. Does the model fitted using your approach yield lower train RMSLE than the model in Part (g)? How about the test RMSLE of the new model? \n",
    "\n",
    "**Note:** We do not require you to implement a new regression solver for RMSLE. Instead, we ask you to think about ways to use existing built-in functions to fit a model that performs well on RMSLE. Your regression model may use the same polynomial terms used in Part (g)."
   ]
  },
  {
   "cell_type": "code",
   "execution_count": 1403,
   "metadata": {
    "collapsed": true
   },
   "outputs": [],
   "source": [
    "#del df_train_pol_p['month_12.0*temp_1']\n",
    "#del df_train_pol_p ['workingday_1.0*weather_1.0']\n"
   ]
  },
  {
   "cell_type": "code",
   "execution_count": 1379,
   "metadata": {
    "collapsed": true
   },
   "outputs": [],
   "source": [
    "del df_test_pol_p['month_12.0*temp_1']\n",
    "del df_test_pol_p ['workingday_1.0*weather_1.0']\n",
    "#df_test_pol_p.columns.tolist()"
   ]
  },
  {
   "cell_type": "code",
   "execution_count": 1380,
   "metadata": {},
   "outputs": [
    {
     "name": "stderr",
     "output_type": "stream",
     "text": [
      "d:\\Users\\Home\\Anaconda3\\lib\\site-packages\\ipykernel_launcher.py:2: DeprecationWarning: \n",
      ".ix is deprecated. Please use\n",
      ".loc for label based indexing or\n",
      ".iloc for positional indexing\n",
      "\n",
      "See the documentation here:\n",
      "http://pandas.pydata.org/pandas-docs/stable/indexing.html#ix-indexer-is-deprecated\n",
      "  \n"
     ]
    }
   ],
   "source": [
    "df_train_pol_p_1=df_train_pol_p.ix[:, col2a]\n",
    "df_test_pol_p_1=df_test_pol_p.ix[:, col2a]\n",
    "#df_train_pol_p_1"
   ]
  },
  {
   "cell_type": "code",
   "execution_count": 1385,
   "metadata": {
    "collapsed": true
   },
   "outputs": [],
   "source": [
    "#del df_test_pol_p_1['month_12.0*temp_1']\n",
    "#del df_test_pol_p_1['workingday_1.0*weather_1.0']\n"
   ]
  },
  {
   "cell_type": "markdown",
   "metadata": {},
   "source": [
    "your answers here"
   ]
  },
  {
   "cell_type": "code",
   "execution_count": 2050,
   "metadata": {
    "collapsed": true
   },
   "outputs": [],
   "source": [
    "c_3=df_test_pol_p_1.columns.tolist()\n",
    "#c_3"
   ]
  },
  {
   "cell_type": "code",
   "execution_count": 2026,
   "metadata": {
    "collapsed": true
   },
   "outputs": [],
   "source": [
    "X_train_pol_p1=df_train_pol_p_1[c_3].values\n",
    "Y_train_pol_p1=df_train_i['count'].values\n",
    "\n",
    "X_test_pol_p1=df_test_pol_p_1[c_3].values\n",
    "Y_test_pol_p1=df_test_i['count'].values\n",
    "#X_train_pol_p1.shape"
   ]
  },
  {
   "cell_type": "code",
   "execution_count": 2027,
   "metadata": {
    "collapsed": true
   },
   "outputs": [],
   "source": [
    "#Simple regression\n",
    "regression_p1 = LinearRegression(fit_intercept=True)\n",
    "regression_p1.fit(X_train_pol_p1, Y_train_pol_p1)\n",
    "y_train_pred=regression_p1.predict(X_train_pol_p1)\n",
    "y_test_pred=regression_p1.predict(X_test_pol_p1)"
   ]
  },
  {
   "cell_type": "code",
   "execution_count": 2031,
   "metadata": {
    "collapsed": true
   },
   "outputs": [],
   "source": [
    "def log_1(y):   \n",
    "     return np.log(y+1)"
   ]
  },
  {
   "cell_type": "code",
   "execution_count": 2033,
   "metadata": {
    "collapsed": true
   },
   "outputs": [],
   "source": [
    "Y_train_pol_p1_log_1=log_1(Y_train_pol_p1)\n",
    "Y_test_pol_p1_log_1=log_1(Y_test_pol_p1)"
   ]
  },
  {
   "cell_type": "code",
   "execution_count": 2036,
   "metadata": {
    "collapsed": true
   },
   "outputs": [],
   "source": [
    "regression_p1_rmsle = OLS(Y_train_pol_p1_log_1, X_train_pol_p1).fit()\n",
    "#regression_p1_rmsle.summary()"
   ]
  },
  {
   "cell_type": "code",
   "execution_count": 2040,
   "metadata": {
    "collapsed": true
   },
   "outputs": [],
   "source": [
    "#training predict\n",
    "y_pred_train_rmsle = regression_p1_rmsle.predict(X_train_pol_p1)\n",
    "\n",
    "#test predict    \n",
    "y_pred_test_rmsle = regression_p1_rmsle.predict(X_test_pol_p1)"
   ]
  },
  {
   "cell_type": "code",
   "execution_count": 2041,
   "metadata": {
    "collapsed": true
   },
   "outputs": [],
   "source": [
    "y_pred_train_rmsle_r = np.exp(y_pred_train_rmsle  - 1)\n",
    "y_pred_test_rmsle_r = np.exp(y_pred_test_rmsle - 1)"
   ]
  },
  {
   "cell_type": "code",
   "execution_count": 2042,
   "metadata": {
    "collapsed": true
   },
   "outputs": [],
   "source": [
    "def RMSLE(y,y_pred):   \n",
    "    A=np.log(y+1)\n",
    "    B=np.log(y_pred+1)  \n",
    "    A_B=(A-B)\n",
    "    A_B = A_B[np.logical_not(np.isnan(A_B))]\n",
    "    sq=np.square(A_B) \n",
    "    rmsle_ = np.sqrt(np.mean(np.square(A_B)))   \n",
    "    return np.sqrt(np.mean(np.square(A_B)))"
   ]
  },
  {
   "cell_type": "code",
   "execution_count": 2043,
   "metadata": {},
   "outputs": [
    {
     "name": "stdout",
     "output_type": "stream",
     "text": [
      "rmsle for train log:  1.0407935436\n",
      "rmsle for test log:  1.09808956215\n"
     ]
    }
   ],
   "source": [
    "print(\"rmsle for train log: \", RMSLE(Y_train_pol_p1, y_pred_train_rmsle_r ))\n",
    "print(\"rmsle for test log: \",  RMSLE(Y_test_pol_p1, y_pred_test_rmsle_r   ))\n"
   ]
  },
  {
   "cell_type": "code",
   "execution_count": 2045,
   "metadata": {},
   "outputs": [
    {
     "name": "stdout",
     "output_type": "stream",
     "text": [
      "rmsle for train_simple:  0.310644877348\n",
      "rmsle for test_simple:  0.501983957608\n"
     ]
    },
    {
     "name": "stderr",
     "output_type": "stream",
     "text": [
      "d:\\Users\\Home\\Anaconda3\\lib\\site-packages\\ipykernel_launcher.py:3: RuntimeWarning: invalid value encountered in log\n",
      "  This is separate from the ipykernel package so we can avoid doing imports until\n"
     ]
    }
   ],
   "source": [
    "print(\"rmsle for train_simple: \",RMSLE(Y_train_pol_p1, y_train_pred       ))\n",
    "print(\"rmsle for test_simple: \",  RMSLE(Y_test_pol_p1 , y_test_pred))"
   ]
  },
  {
   "cell_type": "code",
   "execution_count": 1482,
   "metadata": {},
   "outputs": [
    {
     "data": {
      "text/plain": [
       "(331, 42)"
      ]
     },
     "execution_count": 1482,
     "metadata": {},
     "output_type": "execute_result"
    }
   ],
   "source": [
    "X_train_pol_p1.shape"
   ]
  },
  {
   "cell_type": "code",
   "execution_count": 2046,
   "metadata": {
    "collapsed": true
   },
   "outputs": [],
   "source": [
    "def gradient_descent(X, y, nsteps, learning_rate=0.1):\n",
    "    k, n = X.shape\n",
    "    theta = np.ones((n, 1))\n",
    "    theta=0.1*theta\n",
    "    for step in range(nsteps):\n",
    "        # yhat becomes a (k, 1) array of predictions, per sample.\n",
    "        yhat = np.dot(X, theta)\n",
    "        yhat_1=yhat+1       \n",
    "        yhat_1 = yhat_1[np.logical_not(np.isnan(yhat_1))] \n",
    "        yhat_1=yhat_1.reshape((k,1))\n",
    "            \n",
    "        nom=(y+1)        \n",
    "        nom = nom[np.logical_not(np.isnan(nom))]\n",
    "        nom=nom.reshape((k,1))\n",
    "    \n",
    "        div=np.divide(nom,yhat_1)\n",
    "        div=div.reshape((k,1))\n",
    "       # print(div.shape)\n",
    "        log_yy=np.log(div)\n",
    "        w_2=np.divide(log_yy,yhat_1)\n",
    "     #   print(w_2.shape)        \n",
    "     \n",
    "        dtheta = np.zeros((n, 1))   \n",
    " \n",
    "        for j in range(n):            \n",
    "            # The sum over all samples is computed with a dot product between\n",
    "            # (y^-y) and the jth feature across all of X.\n",
    "            x_j=X[:, j].reshape(k,1) \n",
    "            dtheta[j, 0] = learning_rate * np.dot(w_2.T, (-1)*x_j) / k \n",
    "        theta =  theta-dtheta\n",
    "       # print('theta', theta.shape)\n",
    "    return theta "
   ]
  },
  {
   "cell_type": "code",
   "execution_count": 2047,
   "metadata": {
    "collapsed": true
   },
   "outputs": [],
   "source": [
    "calc_coef=gradient_descent(X_train_pol_p1, Y_train_pol_p1, 2000600, learning_rate=10)"
   ]
  },
  {
   "cell_type": "code",
   "execution_count": 1766,
   "metadata": {},
   "outputs": [
    {
     "name": "stdout",
     "output_type": "stream",
     "text": [
      "The rmsle of the train set: 0.705877960164\n"
     ]
    }
   ],
   "source": [
    "y_pred_new = np.dot(X_train_pol_p1, calc_coef)\n",
    "rmsle_=RMSLE(Y_train_pol_p1,y_pred_new)\n",
    "print('The rmsle of the train set:',rmsle_)"
   ]
  },
  {
   "cell_type": "code",
   "execution_count": null,
   "metadata": {
    "collapsed": true
   },
   "outputs": [],
   "source": [
    "#We will take the first principal component\n",
    "#log(y_train+1)\n",
    "#Log(PCA_1)\n",
    "#simple linear regression"
   ]
  },
  {
   "cell_type": "markdown",
   "metadata": {},
   "source": [
    "## Part (j): Dealing with Erroneous Labels\n",
    "\n",
    "Due to occasional system crashes, some of the bike counts reported in the data set have been recorded manually. These counts are not very unreliable and are prone to errors. It is known that roughly 5% of the labels in the training set are erroneous (i.e. can be arbitrarily different from the true counts), while all the labels in the test set were confirmed to be accurate. Unfortunately, the identities of the erroneous records in the training set are not available. Can this information about presence of 5% errors in the training set labels (without details about the specific identities of the erroneous rows) be used to improve the performance of the model in Part (g)? Note that we are interested in improving the $R^2$ performance of the model on the test set (not the training $R^2$ score). \n",
    "\n",
    "As a final task, we require you to come up with a strategy to fit a regression model, taking into account the errors in the training set labels. Explain the intuition behind your approach (we do not expect a detailed mathematical justification). Use your approach to fit a regression model on the training set, and compare its test $R^2$ with the model in Part (g).\n",
    "\n",
    "**Note:** Again, we do not require you to implement a new regression solver for handling erroneous labels. It is sufficient that you to come up with an approach that uses existing built-in functions. Your regression model may use the same polynomial terms used in Part (g)."
   ]
  },
  {
   "cell_type": "code",
   "execution_count": null,
   "metadata": {
    "collapsed": true
   },
   "outputs": [],
   "source": [
    "# 5% of the labels are wrong, since we don't know their identies. \n",
    "# 1 method : removing point by point 15 (~%5 of the point in the train set), that lower the R^2\n",
    "# splittin g randomally, the train set 95/5, taking only the 95 part\n",
    "# by cross-validation checking the R^2 and averaging.\n"
   ]
  },
  {
   "cell_type": "code",
   "execution_count": null,
   "metadata": {
    "collapsed": true
   },
   "outputs": [],
   "source": [
    "X_train_t, X_val, y_train_t, y_val = train_test_split(X_train, Y_train, test_size=0.33, random_state=42)\n",
    "var=df_train_f['temp_new'].values"
   ]
  },
  {
   "cell_type": "code",
   "execution_count": 2061,
   "metadata": {
    "collapsed": true
   },
   "outputs": [],
   "source": [
    "X_train_pol_p1=df_train_pol_p_1[c_3].values\n",
    "Y_train_pol_p1=df_train_i['count']  .values\n",
    "\n",
    "X_test_pol_p1=df_test_pol_p_1[c_3]  .values\n",
    "Y_test_pol_p1=df_test_i['count']    .values"
   ]
  },
  {
   "cell_type": "code",
   "execution_count": 2115,
   "metadata": {
    "collapsed": true
   },
   "outputs": [],
   "source": [
    "train_R_sq_ridg_j = []\n",
    "test_R_sq_ridg_j =  []\n",
    "\n",
    "def no_5(X_train_pol_p1, Y_train_pol_p1):\n",
    "    for i in range(1,331):\n",
    "            X_train_j, X_test_j, y_train_j, y_test_j= train_test_split(X_train_pol_p1, Y_train_pol_p1, test_size=0.05, random_state=i) #, random_state=42)\n",
    "        #X_test_j.shape\n",
    "            ridgecv_j = RidgeCV(alphas=lam_0, normalize=False,cv=10)       \n",
    "            ridgecv_j.fit(X_train_j, y_train_j)\n",
    "            train_R_sq_ridg_j.append(ridgecv_j.score(X_train_j, y_train_j))\n",
    "            test_R_sq_ridg_j.append(ridgecv_j.score(X_test_pol_p1, Y_test_pol_p1)) \n",
    "         #   print('Ridge Results for lam=0, Simple regression')\n",
    "          #  print('The largest R^2 for the training set:',ridgecv_j.score(X_train_j, y_train_j))\n",
    "          #  print('The largest R^2 for the test set:', ridgecv_j.score(X_test_pol_p1, Y_test_pol_p1))\n",
    "    return train_R_sq_ridg_j, test_R_sq_ridg_j"
   ]
  },
  {
   "cell_type": "code",
   "execution_count": 2118,
   "metadata": {},
   "outputs": [
    {
     "name": "stdout",
     "output_type": "stream",
     "text": [
      "The average R^2 for the training set w/0 5%: 0.69225213948\n"
     ]
    }
   ],
   "source": [
    "train_R_sq_ridg_j,test_R_sq_ridg_j=no_5(X_train_pol_p1, Y_train_pol_p1)\n",
    "\n",
    "print('The average R^2 for the training set w/0 5%:',np.max(train_R_sq_ridg_j))\n",
    "#print('The average R^2 for the test set:', np.max(test_R_sq_ridg_j))"
   ]
  },
  {
   "cell_type": "markdown",
   "metadata": {},
   "source": [
    "---\n",
    "--_"
   ]
  },
  {
   "cell_type": "markdown",
   "metadata": {},
   "source": [
    "# APCOMP209a - Homework Question"
   ]
  },
  {
   "cell_type": "markdown",
   "metadata": {},
   "source": [
    "\n",
    "\n",
    "##  Question 1: Student's t MLE\n",
    "\n",
    "Use Maximum Likelihood Estimation to generate a linear regression model on the data provided in ``beerdata.csv`` considering two statistical models for noise: a) iid Normal and b) iid Student's t-distribution with $\\nu=5$ and scale factor σ=0.5.  \n",
    "\n",
    "Compare the two models performances and comment why it is perhaps appropriate to use the Student's t-distribution instead of the Normal? \n",
    "\n",
    "\n",
    "\n",
    "\n",
    "\n",
    "HINTS:\n",
    "1. Use the probability density function for the Student's t distribution  with location μ and scale factor σ.\n",
    "2. If the MLE regressions coefficients can not be derived analytically consider numerical methods.\n",
    "3. You can use sklearn or statsmodel for the Normal case \n",
    "\n",
    "\n"
   ]
  },
  {
   "cell_type": "code",
   "execution_count": 2122,
   "metadata": {},
   "outputs": [
    {
     "data": {
      "text/html": [
       "<div>\n",
       "<style>\n",
       "    .dataframe thead tr:only-child th {\n",
       "        text-align: right;\n",
       "    }\n",
       "\n",
       "    .dataframe thead th {\n",
       "        text-align: left;\n",
       "    }\n",
       "\n",
       "    .dataframe tbody tr th {\n",
       "        vertical-align: top;\n",
       "    }\n",
       "</style>\n",
       "<table border=\"1\" class=\"dataframe\">\n",
       "  <thead>\n",
       "    <tr style=\"text-align: right;\">\n",
       "      <th></th>\n",
       "      <th>Unnamed: 0</th>\n",
       "      <th>x</th>\n",
       "      <th>y</th>\n",
       "    </tr>\n",
       "  </thead>\n",
       "  <tbody>\n",
       "    <tr>\n",
       "      <th>0</th>\n",
       "      <td>0</td>\n",
       "      <td>0.760083</td>\n",
       "      <td>9.616565</td>\n",
       "    </tr>\n",
       "    <tr>\n",
       "      <th>1</th>\n",
       "      <td>1</td>\n",
       "      <td>0.766794</td>\n",
       "      <td>8.652492</td>\n",
       "    </tr>\n",
       "    <tr>\n",
       "      <th>2</th>\n",
       "      <td>2</td>\n",
       "      <td>0.504173</td>\n",
       "      <td>7.653462</td>\n",
       "    </tr>\n",
       "    <tr>\n",
       "      <th>3</th>\n",
       "      <td>3</td>\n",
       "      <td>0.357411</td>\n",
       "      <td>7.984081</td>\n",
       "    </tr>\n",
       "    <tr>\n",
       "      <th>4</th>\n",
       "      <td>4</td>\n",
       "      <td>0.730932</td>\n",
       "      <td>9.080448</td>\n",
       "    </tr>\n",
       "  </tbody>\n",
       "</table>\n",
       "</div>"
      ],
      "text/plain": [
       "   Unnamed: 0         x         y\n",
       "0           0  0.760083  9.616565\n",
       "1           1  0.766794  8.652492\n",
       "2           2  0.504173  7.653462\n",
       "3           3  0.357411  7.984081\n",
       "4           4  0.730932  9.080448"
      ]
     },
     "execution_count": 2122,
     "metadata": {},
     "output_type": "execute_result"
    }
   ],
   "source": [
    "df_beer=pd.read_csv(\"d:/Users/Home/Desktop/Open-U/Data Science/a-2017-master/HW/hw_4/beerdata.csv\")\n",
    "df_beer.head()"
   ]
  },
  {
   "cell_type": "code",
   "execution_count": 2128,
   "metadata": {},
   "outputs": [
    {
     "data": {
      "text/plain": [
       "Text(0,0.5,'Y')"
      ]
     },
     "execution_count": 2128,
     "metadata": {},
     "output_type": "execute_result"
    },
    {
     "data": {
      "image/png": "[encoded data removed]",
      "text/plain": [
       "<matplotlib.figure.Figure at 0x10ac64a8>"
      ]
     },
     "metadata": {},
     "output_type": "display_data"
    }
   ],
   "source": [
    "plt.scatter(df_beer['x'],df_beer['y'],c='blue')\n",
    "plt.title ('Beer Data')\n",
    "plt.xlabel('X')\n",
    "plt.ylabel('Y')"
   ]
  },
  {
   "cell_type": "code",
   "execution_count": 2143,
   "metadata": {
    "collapsed": true
   },
   "outputs": [],
   "source": [
    "#df_beer\n",
    "#del df_beer[\"Unnamed: 0\"]"
   ]
  },
  {
   "cell_type": "code",
   "execution_count": 2162,
   "metadata": {
    "collapsed": true
   },
   "outputs": [],
   "source": [
    "df_beer_const= sm.add_constant(df_beer)\n",
    "df_beer_c=df_beer_const[['const','x']]"
   ]
  },
  {
   "cell_type": "code",
   "execution_count": 2163,
   "metadata": {},
   "outputs": [
    {
     "data": {
      "text/html": [
       "<table class=\"simpletable\">\n",
       "<caption>OLS Regression Results</caption>\n",
       "<tr>\n",
       "  <th>Dep. Variable:</th>            <td>y</td>        <th>  R-squared:         </th> <td>   0.908</td>\n",
       "</tr>\n",
       "<tr>\n",
       "  <th>Model:</th>                   <td>OLS</td>       <th>  Adj. R-squared:    </th> <td>   0.905</td>\n",
       "</tr>\n",
       "<tr>\n",
       "  <th>Method:</th>             <td>Least Squares</td>  <th>  F-statistic:       </th> <td>   276.1</td>\n",
       "</tr>\n",
       "<tr>\n",
       "  <th>Date:</th>             <td>Sun, 21 Jan 2018</td> <th>  Prob (F-statistic):</th> <td>4.92e-16</td>\n",
       "</tr>\n",
       "<tr>\n",
       "  <th>Time:</th>                 <td>15:18:16</td>     <th>  Log-Likelihood:    </th> <td> -26.205</td>\n",
       "</tr>\n",
       "<tr>\n",
       "  <th>No. Observations:</th>      <td>    30</td>      <th>  AIC:               </th> <td>   56.41</td>\n",
       "</tr>\n",
       "<tr>\n",
       "  <th>Df Residuals:</th>          <td>    28</td>      <th>  BIC:               </th> <td>   59.21</td>\n",
       "</tr>\n",
       "<tr>\n",
       "  <th>Df Model:</th>              <td>     1</td>      <th>                     </th>     <td> </td>   \n",
       "</tr>\n",
       "<tr>\n",
       "  <th>Covariance Type:</th>      <td>nonrobust</td>    <th>                     </th>     <td> </td>   \n",
       "</tr>\n",
       "</table>\n",
       "<table class=\"simpletable\">\n",
       "<tr>\n",
       "    <td></td>       <th>coef</th>     <th>std err</th>      <th>t</th>      <th>P>|t|</th>  <th>[0.025</th>    <th>0.975]</th>  \n",
       "</tr>\n",
       "<tr>\n",
       "  <th>const</th> <td>    4.7308</td> <td>    0.197</td> <td>   23.960</td> <td> 0.000</td> <td>    4.326</td> <td>    5.135</td>\n",
       "</tr>\n",
       "<tr>\n",
       "  <th>x</th>     <td>    6.2015</td> <td>    0.373</td> <td>   16.616</td> <td> 0.000</td> <td>    5.437</td> <td>    6.966</td>\n",
       "</tr>\n",
       "</table>\n",
       "<table class=\"simpletable\">\n",
       "<tr>\n",
       "  <th>Omnibus:</th>       <td> 0.216</td> <th>  Durbin-Watson:     </th> <td>   2.346</td>\n",
       "</tr>\n",
       "<tr>\n",
       "  <th>Prob(Omnibus):</th> <td> 0.897</td> <th>  Jarque-Bera (JB):  </th> <td>   0.384</td>\n",
       "</tr>\n",
       "<tr>\n",
       "  <th>Skew:</th>          <td>-0.158</td> <th>  Prob(JB):          </th> <td>   0.825</td>\n",
       "</tr>\n",
       "<tr>\n",
       "  <th>Kurtosis:</th>      <td> 2.544</td> <th>  Cond. No.          </th> <td>    4.12</td>\n",
       "</tr>\n",
       "</table>"
      ],
      "text/plain": [
       "<class 'statsmodels.iolib.summary.Summary'>\n",
       "\"\"\"\n",
       "                            OLS Regression Results                            \n",
       "==============================================================================\n",
       "Dep. Variable:                      y   R-squared:                       0.908\n",
       "Model:                            OLS   Adj. R-squared:                  0.905\n",
       "Method:                 Least Squares   F-statistic:                     276.1\n",
       "Date:                Sun, 21 Jan 2018   Prob (F-statistic):           4.92e-16\n",
       "Time:                        15:18:16   Log-Likelihood:                -26.205\n",
       "No. Observations:                  30   AIC:                             56.41\n",
       "Df Residuals:                      28   BIC:                             59.21\n",
       "Df Model:                           1                                         \n",
       "Covariance Type:            nonrobust                                         \n",
       "==============================================================================\n",
       "                 coef    std err          t      P>|t|      [0.025      0.975]\n",
       "------------------------------------------------------------------------------\n",
       "const          4.7308      0.197     23.960      0.000       4.326       5.135\n",
       "x              6.2015      0.373     16.616      0.000       5.437       6.966\n",
       "==============================================================================\n",
       "Omnibus:                        0.216   Durbin-Watson:                   2.346\n",
       "Prob(Omnibus):                  0.897   Jarque-Bera (JB):                0.384\n",
       "Skew:                          -0.158   Prob(JB):                        0.825\n",
       "Kurtosis:                       2.544   Cond. No.                         4.12\n",
       "==============================================================================\n",
       "\n",
       "Warnings:\n",
       "[1] Standard Errors assume that the covariance matrix of the errors is correctly specified.\n",
       "\"\"\""
      ]
     },
     "execution_count": 2163,
     "metadata": {},
     "output_type": "execute_result"
    }
   ],
   "source": [
    "result_q1 = sm.OLS(df_beer['y'],df_beer_c).fit()\n",
    "result_q1.summary()"
   ]
  },
  {
   "cell_type": "code",
   "execution_count": null,
   "metadata": {
    "collapsed": true
   },
   "outputs": [],
   "source": [
    "# The OLS regression method assumes that the noise is normally distributed"
   ]
  },
  {
   "cell_type": "code",
   "execution_count": 2165,
   "metadata": {},
   "outputs": [
    {
     "data": {
      "text/plain": [
       "const    4.730776\n",
       "x        6.201498\n",
       "dtype: float64"
      ]
     },
     "execution_count": 2165,
     "metadata": {},
     "output_type": "execute_result"
    }
   ],
   "source": [
    "result_q1.params"
   ]
  },
  {
   "cell_type": "code",
   "execution_count": 2169,
   "metadata": {
    "collapsed": true
   },
   "outputs": [],
   "source": [
    "def cost_f(b, df_beer_c, df_beer_y, nu=5):\n",
    "    err= df_beer_y-np.dot(df_beer_c, b)   \n",
    "    return(np.sum(-np.log(t.pdf(err, nu))))"
   ]
  },
  {
   "cell_type": "code",
   "execution_count": 2172,
   "metadata": {
    "collapsed": true
   },
   "outputs": [],
   "source": [
    "x = np.linspace(0,1,100)\n",
    "c_f = lambda x : cost_f(x, df_beer_c,df_beer['y'])\n",
    "chosen_b = minimize(c_f, result_q1.params, tol=1e-6)\n",
    "student_t = chosen_b.x[0] + x*chosen_b.x[1]\n",
    "#OLS regression\n",
    "ols_y=result_q1.params[0]+x*result_q1.params[1]"
   ]
  },
  {
   "cell_type": "code",
   "execution_count": 2178,
   "metadata": {},
   "outputs": [
    {
     "data": {
      "text/plain": [
       "<matplotlib.legend.Legend at 0x7db39b0>"
      ]
     },
     "execution_count": 2178,
     "metadata": {},
     "output_type": "execute_result"
    },
    {
     "data": {
      "image/png": "[encoded data removed]",
      "text/plain": [
       "<matplotlib.figure.Figure at 0x13477e80>"
      ]
     },
     "metadata": {},
     "output_type": "display_data"
    }
   ],
   "source": [
    "plt.scatter(df_beer['x'],df_beer['y'],c='blue',label='data')\n",
    "plt.plot(x,student_t,label='student-t')\n",
    "plt.plot(x,ols_y,label='normal')\n",
    "plt.title ('Beer Data')\n",
    "plt.legend()"
   ]
  },
  {
   "cell_type": "code",
   "execution_count": null,
   "metadata": {
    "collapsed": true
   },
   "outputs": [],
   "source": [
    "# Both modeled lines are similar, since the students-t is quite similar to normal."
   ]
  },
  {
   "cell_type": "markdown",
   "metadata": {},
   "source": [
    "## Question 2 (continued from HW2) \n",
    "\n",
    "Read sections 1 and 2 of this [paper](https://www.researchgate.net/profile/Roberto_Togneri/publication/45094554_Linear_Regression_for_Face_Recognition/links/09e4150d243bd8b987000000/Linear-Regression-for-Face-Recognition.pdf). \n",
    "\n",
    "Briefly, the model leverages the concept that \"patterns from a single-object class lie on a linear subspace.\"   It also makes use of the idea of linear regression as a problem about projections.  In this case, given a vector $y$, the goal is to find the subspace induced by $\\mathrm{Col} \\, \\mathbf X$ that produced the 'closest' projection vector $\\widehat y$ to the original $y$.  \n",
    "\n",
    "### Question 2a\n",
    "\n",
    "As discussed in the paper, our face dataset contains cleaned images of faces belonging to different people. Assuming that patterns (faces) from one class (person) are elements of the same subspace, let's try to classify an unknown face using the method presented in the paper.  For each class $i$, we need to:\n",
    "\n",
    "1. construct the $\\mathbf H_i$ hat matrix from known faces, being careful to follow the column concatenation step described in the paper to convert an image into its vector representation;\n",
    "2. calculate the predicted $\\widehat y_i$, the closest vector in $\\mathrm{Col} \\, \\mathbf X_i$ to $y$; and\n",
    "3. calculate the magnitude of the difference vector between $y$ and $\\widehat y_i$.\n",
    "\n",
    "You should then be able to make a classification decision.\n",
    "\n",
    "**Notes:**\n",
    "- Use the provided code to download and re-sample the dataset.\n",
    "- Follow the normalisation step in the paper to ensure the \"maximum pixel value is 1\".\n",
    "- Your classifier should have approximately an 80% accuracy.\n",
    "- Use the image plotting library of matplotlib to display one (or two) correctly classified faces and the known faces.\n",
    "- Use the image plotting library of matplotlib to display one (or two) incorrectly classified faces and the known faces.\n",
    "    \n",
    "### Question 2b - Significant Faces\n",
    "Select an example of a correctly classified face. Use statsmodels to investigate the most predictive columns (faces) that the model used in this regression:\n",
    "\n",
    "(i) Which columns (i.e. faces) make the highest contribution to the projection?\n",
    "\n",
    "(ii) Which columns (i.e. faces) are the least useful in making this projection?\n",
    "\n",
    "Plot the correctly assigned face, and the two faces from the questions (i) and (ii). What do you notice about these faces?"
   ]
  },
  {
   "cell_type": "code",
   "execution_count": null,
   "metadata": {
    "collapsed": true
   },
   "outputs": [],
   "source": []
  },
  {
   "cell_type": "code",
   "execution_count": 6,
   "metadata": {
    "collapsed": true
   },
   "outputs": [],
   "source": [
    "from io import BytesIO\n",
    "from zipfile import ZipFile\n",
    "import urllib\n",
    "import os\n",
    "\n",
    "# Note that you may need to run the following command to install Python Image Library (PIL)\n",
    "#pip install Pillow\n",
    "from PIL import Image\n",
    "import numpy as np\n",
    "from sklearn.cross_validation import train_test_split\n",
    "\n",
    "import matplotlib\n",
    "import matplotlib.pyplot as plt\n",
    "\n",
    "%matplotlib inline"
   ]
  },
  {
   "cell_type": "code",
   "execution_count": 7,
   "metadata": {
    "collapsed": true
   },
   "outputs": [],
   "source": [
    "# starter functions provided to students\n",
    "def rgb2gray(rgb):\n",
    "    '''\n",
    "    function to convert RGB image to gray scale\n",
    "    accepts 3D numpy array and returns 2D array with same dimensions\n",
    "    as the first two dimensions of input\n",
    "    '''\n",
    "    \n",
    "    return np.dot(rgb[...,:3], [0.299, 0.587, 0.114])\n",
    "\n",
    "def fetch_and_read_data(shape=(50,30)):\n",
    "    \n",
    "    '''\n",
    "    Function to download image data, store in a local folder (note this is 18.4mb), only download the data when\n",
    "    the local folder is not present, read in the images, downsample them to the specified shape (default = (50x30) (rows x cols))\n",
    "    and finally split them into a four tuple return object.\n",
    "    \n",
    "    Returns:\n",
    "        - 1) training image data (i.e. images that should form the predictor matrix in your solution)\n",
    "        - 2) training image data labels (i.e. labels from 1 to 50 that identify which face (1) belongs to)\n",
    "        - 3) testing image data (i.e. data that you should use to try and classify - note this forms the predictor variable in your regression)\n",
    "        - 4) testing image data labels (i.e. the labels for (3) - this is to allow you to evaluate your model)\n",
    "    \n",
    "    ___________________\n",
    "    Aside:\n",
    "    If you want to change the sampling dimensions of your data, pass the shape = (x,y) argument to the method where\n",
    "    y is the number of columns and x is the number of rows in the image.\n",
    "    '''\n",
    "    \n",
    "    if not os.path.exists('./cropped_faces'):\n",
    "        url = urllib.request.urlopen(\"http://www.anefian.com/research/GTdb_crop.zip\")\n",
    "        \n",
    "        zipfile = ZipFile(BytesIO(url.read()))\n",
    "        zipfile.extractall()\n",
    "     \n",
    "    data = []\n",
    "    labels = []\n",
    "    \n",
    "    files = os.listdir('cropped_faces')\n",
    "    for f in files:\n",
    "        if '.jpg' in f:\n",
    "            image = Image.open('cropped_faces/' + f)\n",
    "            image = image.resize((shape[1], shape[0]))\n",
    "            data.append(rgb2gray(np.asarray(image)))\n",
    "            labels.append(int(f.split('_')[0][1:]) - 1)\n",
    "            \n",
    "    data = np.array(data)\n",
    "    \n",
    "    trainX, testX, trainY, testY = train_test_split(data, labels, test_size=0.2, stratify=labels)\n",
    "    return np.array(trainX), np.array(testX), np.array(trainY), np.array(testY)"
   ]
  },
  {
   "cell_type": "code",
   "execution_count": 8,
   "metadata": {},
   "outputs": [
    {
     "data": {
      "image/png": "[encoded data removed]",
      "text/plain": [
       "<matplotlib.figure.Figure at 0x10d663630>"
      ]
     },
     "metadata": {},
     "output_type": "display_data"
    }
   ],
   "source": [
    "# starter code for the students\n",
    "train_dataset, test_dataset, train_labels, test_labels = fetch_and_read_data()\n",
    "\n",
    "# code to plot some of the images\n",
    "fig, axes = plt.subplots(2,4,figsize=(10,5))\n",
    "axes = axes.flatten()\n",
    "[axes[i].imshow(train_dataset[i], cmap='gray') for i in range(len(axes))]\n",
    "plt.show()"
   ]
  },
  {
   "cell_type": "code",
   "execution_count": null,
   "metadata": {
    "collapsed": true
   },
   "outputs": [],
   "source": []
  }
 ],
 "metadata": {
  "anaconda-cloud": {},
  "kernelspec": {
   "display_name": "Python 3",
   "language": "python",
   "name": "python3"
  },
  "language_info": {
   "codemirror_mode": {
    "name": "ipython",
    "version": 3
   },
   "file_extension": ".py",
   "mimetype": "text/x-python",
   "name": "python",
   "nbconvert_exporter": "python",
   "pygments_lexer": "ipython3",
   "version": "3.6.3"
  }
 },
 "nbformat": 4,
 "nbformat_minor": 1
}
